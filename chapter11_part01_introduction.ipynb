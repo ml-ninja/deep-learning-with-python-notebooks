{
  "cells": [
    {
      "cell_type": "markdown",
      "metadata": {
        "id": "wibcSpRD7uOM"
      },
      "source": [
        "This is a companion notebook for the book [Deep Learning with Python, Second Edition](https://www.manning.com/books/deep-learning-with-python-second-edition?a_aid=ml-ninja&a_cid=11111111&chan=c2). For readability, it only contains runnable code blocks and section titles, and omits everything else in the book: text paragraphs, figures, and pseudocode.\n",
        "\n",
        "**If you want to be able to follow what's going on, I recommend reading the notebook side by side with your copy of the book.**\n",
        "\n",
        "This notebook was generated for TensorFlow 2.6."
      ]
    },
    {
      "cell_type": "markdown",
      "metadata": {
        "id": "Eih_VTIO7uOT"
      },
      "source": [
        "# Deep learning for text"
      ]
    },
    {
      "cell_type": "markdown",
      "metadata": {
        "id": "FBidSOQa7uOU"
      },
      "source": [
        "## Natural-language processing: The bird's eye view"
      ]
    },
    {
      "cell_type": "markdown",
      "metadata": {
        "id": "i0SXmGrr7uOV"
      },
      "source": [
        "## Preparing text data"
      ]
    },
    {
      "cell_type": "markdown",
      "metadata": {
        "id": "uFqmexHb7uOV"
      },
      "source": [
        "### Text standardization"
      ]
    },
    {
      "cell_type": "markdown",
      "metadata": {
        "id": "OhOHbZt87uOW"
      },
      "source": [
        "### Text splitting (tokenization)"
      ]
    },
    {
      "cell_type": "markdown",
      "metadata": {
        "id": "To72hB_P7uOW"
      },
      "source": [
        "### Vocabulary indexing"
      ]
    },
    {
      "cell_type": "markdown",
      "metadata": {
        "id": "Y7Q_O0rx7uOX"
      },
      "source": [
        "### Using the TextVectorization layer"
      ]
    },
    {
      "cell_type": "code",
      "execution_count": 1,
      "metadata": {
        "id": "wJVh6XQK7uOY"
      },
      "outputs": [],
      "source": [
        "import string\n",
        "\n",
        "class Vectorizer:\n",
        "    def standardize(self, text):\n",
        "        text = text.lower()\n",
        "        return \"\".join(char for char in text if char not in string.punctuation)\n",
        "\n",
        "    def tokenize(self, text):\n",
        "        text = self.standardize(text)\n",
        "        return text.split()\n",
        "\n",
        "    def make_vocabulary(self, dataset):\n",
        "        self.vocabulary = {\"\": 0, \"[UNK]\": 1}\n",
        "        for text in dataset:\n",
        "            text = self.standardize(text)\n",
        "            tokens = self.tokenize(text)\n",
        "            for token in tokens:\n",
        "                if token not in self.vocabulary:\n",
        "                    self.vocabulary[token] = len(self.vocabulary)\n",
        "        self.inverse_vocabulary = dict(\n",
        "            (v, k) for k, v in self.vocabulary.items())\n",
        "\n",
        "    def encode(self, text):\n",
        "        text = self.standardize(text)\n",
        "        tokens = self.tokenize(text)\n",
        "        return [self.vocabulary.get(token, 1) for token in tokens]\n",
        "\n",
        "    def decode(self, int_sequence):\n",
        "        return \" \".join(\n",
        "            self.inverse_vocabulary.get(i, \"[UNK]\") for i in int_sequence)\n",
        "\n",
        "vectorizer = Vectorizer()\n",
        "dataset = [\n",
        "    \"I write, erase, rewrite\",\n",
        "    \"Erase again, and then\",\n",
        "    \"A poppy blooms.\",\n",
        "]\n",
        "vectorizer.make_vocabulary(dataset)"
      ]
    },
    {
      "cell_type": "code",
      "execution_count": 2,
      "metadata": {
        "id": "6xTvghEh7uOb",
        "outputId": "b921e071-aab1-4b9e-a024-ed899e063ade",
        "colab": {
          "base_uri": "https://localhost:8080/"
        }
      },
      "outputs": [
        {
          "output_type": "stream",
          "name": "stdout",
          "text": [
            "[2, 3, 5, 7, 1, 5, 6]\n"
          ]
        }
      ],
      "source": [
        "test_sentence = \"I write, rewrite, and still rewrite again\"\n",
        "encoded_sentence = vectorizer.encode(test_sentence)\n",
        "print(encoded_sentence)"
      ]
    },
    {
      "cell_type": "code",
      "execution_count": 3,
      "metadata": {
        "id": "vdTI6vLM7uOc",
        "outputId": "1880eed1-6726-4947-c13c-30518bc7c70a",
        "colab": {
          "base_uri": "https://localhost:8080/"
        }
      },
      "outputs": [
        {
          "output_type": "stream",
          "name": "stdout",
          "text": [
            "i write rewrite and [UNK] rewrite again\n"
          ]
        }
      ],
      "source": [
        "decoded_sentence = vectorizer.decode(encoded_sentence)\n",
        "print(decoded_sentence)"
      ]
    },
    {
      "cell_type": "code",
      "execution_count": 4,
      "metadata": {
        "id": "jPhzz9yC7uOd"
      },
      "outputs": [],
      "source": [
        "from tensorflow.keras.layers import TextVectorization\n",
        "text_vectorization = TextVectorization(\n",
        "    output_mode=\"int\",\n",
        ")"
      ]
    },
    {
      "cell_type": "code",
      "execution_count": 5,
      "metadata": {
        "id": "ydwyWfRM7uOe"
      },
      "outputs": [],
      "source": [
        "import re\n",
        "import string\n",
        "import tensorflow as tf\n",
        "\n",
        "def custom_standardization_fn(string_tensor):\n",
        "    lowercase_string = tf.strings.lower(string_tensor)\n",
        "    return tf.strings.regex_replace(\n",
        "        lowercase_string, f\"[{re.escape(string.punctuation)}]\", \"\")\n",
        "\n",
        "def custom_split_fn(string_tensor):\n",
        "    return tf.strings.split(string_tensor)\n",
        "\n",
        "text_vectorization = TextVectorization(\n",
        "    output_mode=\"int\",\n",
        "    standardize=custom_standardization_fn,\n",
        "    split=custom_split_fn,\n",
        ")"
      ]
    },
    {
      "cell_type": "code",
      "execution_count": 6,
      "metadata": {
        "id": "ZYuyM5QK7uOf"
      },
      "outputs": [],
      "source": [
        "dataset = [\n",
        "    \"I write, erase, rewrite\",\n",
        "    \"Erase again, and then\",\n",
        "    \"A poppy blooms.\",\n",
        "]\n",
        "text_vectorization.adapt(dataset)"
      ]
    },
    {
      "cell_type": "markdown",
      "metadata": {
        "id": "V4SbAWPb7uOg"
      },
      "source": [
        "**Displaying the vocabulary**"
      ]
    },
    {
      "cell_type": "code",
      "execution_count": 7,
      "metadata": {
        "id": "Ql66AI7t7uOg",
        "outputId": "b0607b9a-80c3-4365-f63b-b2637e2a68d0",
        "colab": {
          "base_uri": "https://localhost:8080/"
        }
      },
      "outputs": [
        {
          "output_type": "execute_result",
          "data": {
            "text/plain": [
              "['',\n",
              " '[UNK]',\n",
              " 'erase',\n",
              " 'write',\n",
              " 'then',\n",
              " 'rewrite',\n",
              " 'poppy',\n",
              " 'i',\n",
              " 'blooms',\n",
              " 'and',\n",
              " 'again',\n",
              " 'a']"
            ]
          },
          "metadata": {},
          "execution_count": 7
        }
      ],
      "source": [
        "text_vectorization.get_vocabulary()"
      ]
    },
    {
      "cell_type": "code",
      "execution_count": 8,
      "metadata": {
        "id": "roHC_jWB7uOh",
        "outputId": "f2b5d872-5318-4ac6-cc50-151a2a54e3d3",
        "colab": {
          "base_uri": "https://localhost:8080/"
        }
      },
      "outputs": [
        {
          "output_type": "stream",
          "name": "stdout",
          "text": [
            "tf.Tensor([ 7  3  5  9  1  5 10], shape=(7,), dtype=int64)\n"
          ]
        }
      ],
      "source": [
        "vocabulary = text_vectorization.get_vocabulary()\n",
        "test_sentence = \"I write, rewrite, and still rewrite again\"\n",
        "encoded_sentence = text_vectorization(test_sentence)\n",
        "print(encoded_sentence)"
      ]
    },
    {
      "cell_type": "code",
      "execution_count": 9,
      "metadata": {
        "id": "Wub5EY9m7uOh",
        "outputId": "be81f11f-1e98-4d3d-c696-ddcd8b4c105b",
        "colab": {
          "base_uri": "https://localhost:8080/"
        }
      },
      "outputs": [
        {
          "output_type": "stream",
          "name": "stdout",
          "text": [
            "i write rewrite and [UNK] rewrite again\n"
          ]
        }
      ],
      "source": [
        "inverse_vocab = dict(enumerate(vocabulary))\n",
        "decoded_sentence = \" \".join(inverse_vocab[int(i)] for i in encoded_sentence)\n",
        "print(decoded_sentence)"
      ]
    },
    {
      "cell_type": "markdown",
      "metadata": {
        "id": "2Ucu4vn17uOi"
      },
      "source": [
        "## Two approaches for representing groups of words: Sets and sequences"
      ]
    },
    {
      "cell_type": "markdown",
      "metadata": {
        "id": "3AVwBeLq7uOi"
      },
      "source": [
        "### Preparing the IMDB movie reviews data"
      ]
    },
    {
      "cell_type": "code",
      "execution_count": 10,
      "metadata": {
        "id": "5wKM4iO27uOj",
        "outputId": "15a790d2-079b-4cb3-c913-c720972efd2d",
        "colab": {
          "base_uri": "https://localhost:8080/"
        }
      },
      "outputs": [
        {
          "output_type": "stream",
          "name": "stdout",
          "text": [
            "  % Total    % Received % Xferd  Average Speed   Time    Time     Time  Current\n",
            "                                 Dload  Upload   Total   Spent    Left  Speed\n",
            "100 80.2M  100 80.2M    0     0  42.2M      0  0:00:01  0:00:01 --:--:-- 42.2M\n"
          ]
        }
      ],
      "source": [
        "!curl -O https://ai.stanford.edu/~amaas/data/sentiment/aclImdb_v1.tar.gz\n",
        "!tar -xf aclImdb_v1.tar.gz"
      ]
    },
    {
      "cell_type": "code",
      "execution_count": 11,
      "metadata": {
        "id": "QSlvLKYf7uOj"
      },
      "outputs": [],
      "source": [
        "!rm -r aclImdb/train/unsup"
      ]
    },
    {
      "cell_type": "code",
      "execution_count": 12,
      "metadata": {
        "id": "L4Cui7IA7uOj",
        "outputId": "2fe4ab1a-504c-4bd3-962c-a00b92287faf",
        "colab": {
          "base_uri": "https://localhost:8080/"
        }
      },
      "outputs": [
        {
          "output_type": "stream",
          "name": "stdout",
          "text": [
            "I first saw this back in the early 90s on UK TV, i did like it then but i missed the chance to tape it, many years passed but the film always stuck with me and i lost hope of seeing it TV again, the main thing that stuck with me was the end, the hole castle part really touched me, its easy to watch, has a great story, great music, the list goes on and on, its OK me saying how good it is but everyone will take there own best bits away with them once they have seen it, yes the animation is top notch and beautiful to watch, it does show its age in a very few parts but that has now become part of it beauty, i am so glad it has came out on DVD as it is one of my top 10 films of all time. Buy it or rent it just see it, best viewing is at night alone with drink and food in reach so you don't have to stop the film.<br /><br />Enjoy"
          ]
        }
      ],
      "source": [
        "!cat aclImdb/train/pos/4077_10.txt"
      ]
    },
    {
      "cell_type": "code",
      "source": [
        "!find aclImdb/train/pos -name \"*.txt\" | wc -l\n",
        "!find aclImdb/train/neg -name \"*.txt\" | wc -l"
      ],
      "metadata": {
        "id": "MEDGcc2gl4E9",
        "outputId": "18370623-ead4-40c4-eadc-42cb31a564fb",
        "colab": {
          "base_uri": "https://localhost:8080/"
        }
      },
      "execution_count": 30,
      "outputs": [
        {
          "output_type": "stream",
          "name": "stdout",
          "text": [
            "10000\n",
            "10000\n"
          ]
        }
      ]
    },
    {
      "cell_type": "code",
      "execution_count": 13,
      "metadata": {
        "id": "Rh7abuBc7uOk"
      },
      "outputs": [],
      "source": [
        "import os, pathlib, shutil, random\n",
        "\n",
        "base_dir = pathlib.Path(\"aclImdb\")\n",
        "val_dir = base_dir / \"val\"\n",
        "train_dir = base_dir / \"train\"\n",
        "for category in (\"neg\", \"pos\"):\n",
        "    os.makedirs(val_dir / category)\n",
        "    files = os.listdir(train_dir / category)\n",
        "    random.Random(1337).shuffle(files)\n",
        "    num_val_samples = int(0.2 * len(files))\n",
        "    val_files = files[-num_val_samples:]\n",
        "    for fname in val_files:\n",
        "        shutil.move(train_dir / category / fname,\n",
        "                    val_dir / category / fname)"
      ]
    },
    {
      "cell_type": "code",
      "execution_count": 14,
      "metadata": {
        "id": "hVJvEN9G7uOk",
        "outputId": "6527f260-bc8f-40dd-a1af-aa9eb7793488",
        "colab": {
          "base_uri": "https://localhost:8080/"
        }
      },
      "outputs": [
        {
          "output_type": "stream",
          "name": "stdout",
          "text": [
            "Found 20000 files belonging to 2 classes.\n",
            "Found 5000 files belonging to 2 classes.\n",
            "Found 25000 files belonging to 2 classes.\n"
          ]
        }
      ],
      "source": [
        "from tensorflow import keras\n",
        "batch_size = 32\n",
        "\n",
        "train_ds = keras.utils.text_dataset_from_directory(\n",
        "    \"aclImdb/train\", batch_size=batch_size\n",
        ")\n",
        "val_ds = keras.utils.text_dataset_from_directory(\n",
        "    \"aclImdb/val\", batch_size=batch_size\n",
        ")\n",
        "test_ds = keras.utils.text_dataset_from_directory(\n",
        "    \"aclImdb/test\", batch_size=batch_size\n",
        ")"
      ]
    },
    {
      "cell_type": "markdown",
      "metadata": {
        "id": "DgPxA9oA7uOk"
      },
      "source": [
        "**Displaying the shapes and dtypes of the first batch**"
      ]
    },
    {
      "cell_type": "code",
      "execution_count": 15,
      "metadata": {
        "id": "ozAjY7Jd7uOk",
        "outputId": "6dd09ab3-6930-4cfe-fc15-9a4a7b3e5ecf",
        "colab": {
          "base_uri": "https://localhost:8080/"
        }
      },
      "outputs": [
        {
          "output_type": "stream",
          "name": "stdout",
          "text": [
            "inputs.shape: (32,)\n",
            "inputs.dtype: <dtype: 'string'>\n",
            "targets.shape: (32,)\n",
            "targets.dtype: <dtype: 'int32'>\n",
            "inputs[0]: tf.Tensor(b'In another one of Bugs Bunny\\'s hare-raisingly wacky shorts, the famous leporid* works in a department store display case, when owner Gildersleeve decides to stuff him. Of course, this proves nearly impossible, as Bugs apparently knows the store better than Gildersleeve (and knows when to cross-dress). As always, they keep everything coming at top speed, and so you have to wonder how hilarious this cartoon must have seemed when it first debuted! Among other things, \"Hare Conditioned\" is a fine example of how the Looney Tunes looked in the \\'40s before the Termite Terrace crowd polished them. But don\\'t get me wrong, the cartoons were still really good after the refined forms arrived.<br /><br />Anyway, this is a great one.<br /><br />*Leporids are rabbits and hares.', shape=(), dtype=string)\n",
            "targets[0]: tf.Tensor(1, shape=(), dtype=int32)\n"
          ]
        }
      ],
      "source": [
        "for inputs, targets in train_ds:\n",
        "    print(\"inputs.shape:\", inputs.shape)\n",
        "    print(\"inputs.dtype:\", inputs.dtype)\n",
        "    print(\"targets.shape:\", targets.shape)\n",
        "    print(\"targets.dtype:\", targets.dtype)\n",
        "    print(\"inputs[0]:\", inputs[0])\n",
        "    print(\"targets[0]:\", targets[0])\n",
        "    break"
      ]
    },
    {
      "cell_type": "markdown",
      "metadata": {
        "id": "17VtiOUL7uOl"
      },
      "source": [
        "### Processing words as a set: The bag-of-words approach"
      ]
    },
    {
      "cell_type": "markdown",
      "metadata": {
        "id": "je7fmx6q7uOl"
      },
      "source": [
        "#### Single words (unigrams) with binary encoding"
      ]
    },
    {
      "cell_type": "markdown",
      "metadata": {
        "id": "HHSuaKi37uOl"
      },
      "source": [
        "**Preprocessing our datasets with a `TextVectorization` layer**"
      ]
    },
    {
      "cell_type": "code",
      "execution_count": 16,
      "metadata": {
        "id": "L1r5Lcd37uOl"
      },
      "outputs": [],
      "source": [
        "text_vectorization = TextVectorization(\n",
        "    max_tokens=20000,\n",
        "    output_mode=\"multi_hot\",\n",
        ")\n",
        "text_only_train_ds = train_ds.map(lambda x, y: x)\n",
        "text_vectorization.adapt(text_only_train_ds)\n",
        "\n",
        "binary_1gram_train_ds = train_ds.map(\n",
        "    lambda x, y: (text_vectorization(x), y),\n",
        "    num_parallel_calls=4)\n",
        "binary_1gram_val_ds = val_ds.map(\n",
        "    lambda x, y: (text_vectorization(x), y),\n",
        "    num_parallel_calls=4)\n",
        "binary_1gram_test_ds = test_ds.map(\n",
        "    lambda x, y: (text_vectorization(x), y),\n",
        "    num_parallel_calls=4)"
      ]
    },
    {
      "cell_type": "markdown",
      "metadata": {
        "id": "znOt1KA37uOl"
      },
      "source": [
        "**Inspecting the output of our binary unigram dataset**"
      ]
    },
    {
      "cell_type": "code",
      "execution_count": 17,
      "metadata": {
        "id": "uruS1XSZ7uOl",
        "outputId": "3217ffd6-539c-4ce8-dbfc-16fdfd93aeee",
        "colab": {
          "base_uri": "https://localhost:8080/"
        }
      },
      "outputs": [
        {
          "output_type": "stream",
          "name": "stdout",
          "text": [
            "inputs.shape: (32, 20000)\n",
            "inputs.dtype: <dtype: 'float32'>\n",
            "targets.shape: (32,)\n",
            "targets.dtype: <dtype: 'int32'>\n",
            "inputs[0]: tf.Tensor([1. 1. 1. ... 0. 0. 0.], shape=(20000,), dtype=float32)\n",
            "targets[0]: tf.Tensor(1, shape=(), dtype=int32)\n"
          ]
        }
      ],
      "source": [
        "for inputs, targets in binary_1gram_train_ds:\n",
        "    print(\"inputs.shape:\", inputs.shape)\n",
        "    print(\"inputs.dtype:\", inputs.dtype)\n",
        "    print(\"targets.shape:\", targets.shape)\n",
        "    print(\"targets.dtype:\", targets.dtype)\n",
        "    print(\"inputs[0]:\", inputs[0])\n",
        "    print(\"targets[0]:\", targets[0])\n",
        "    break"
      ]
    },
    {
      "cell_type": "markdown",
      "metadata": {
        "id": "4JHuLKay7uOm"
      },
      "source": [
        "**Our model-building utility**"
      ]
    },
    {
      "cell_type": "code",
      "execution_count": 18,
      "metadata": {
        "id": "tZ8YLh7S7uOm"
      },
      "outputs": [],
      "source": [
        "from tensorflow import keras\n",
        "from tensorflow.keras import layers\n",
        "\n",
        "def get_model(max_tokens=20000, hidden_dim=16):\n",
        "    inputs = keras.Input(shape=(max_tokens,))\n",
        "    x = layers.Dense(hidden_dim, activation=\"relu\")(inputs)\n",
        "    x = layers.Dropout(0.5)(x)\n",
        "    outputs = layers.Dense(1, activation=\"sigmoid\")(x)\n",
        "    model = keras.Model(inputs, outputs)\n",
        "    model.compile(optimizer=\"rmsprop\",\n",
        "                  loss=\"binary_crossentropy\",\n",
        "                  metrics=[\"accuracy\"])\n",
        "    return model"
      ]
    },
    {
      "cell_type": "markdown",
      "metadata": {
        "id": "osmVYSz97uOm"
      },
      "source": [
        "**Training and testing the binary unigram model**"
      ]
    },
    {
      "cell_type": "code",
      "execution_count": 19,
      "metadata": {
        "id": "SdCmQ6VZ7uOm",
        "outputId": "af1f9e1d-0a53-4e5e-8423-276864f237e5",
        "colab": {
          "base_uri": "https://localhost:8080/"
        }
      },
      "outputs": [
        {
          "output_type": "stream",
          "name": "stdout",
          "text": [
            "Model: \"model\"\n",
            "_________________________________________________________________\n",
            " Layer (type)                Output Shape              Param #   \n",
            "=================================================================\n",
            " input_1 (InputLayer)        [(None, 20000)]           0         \n",
            "                                                                 \n",
            " dense (Dense)               (None, 16)                320016    \n",
            "                                                                 \n",
            " dropout (Dropout)           (None, 16)                0         \n",
            "                                                                 \n",
            " dense_1 (Dense)             (None, 1)                 17        \n",
            "                                                                 \n",
            "=================================================================\n",
            "Total params: 320,033\n",
            "Trainable params: 320,033\n",
            "Non-trainable params: 0\n",
            "_________________________________________________________________\n",
            "Epoch 1/10\n",
            "625/625 [==============================] - 14s 21ms/step - loss: 0.4057 - accuracy: 0.8312 - val_loss: 0.2915 - val_accuracy: 0.8788\n",
            "Epoch 2/10\n",
            "625/625 [==============================] - 6s 9ms/step - loss: 0.2813 - accuracy: 0.8981 - val_loss: 0.2769 - val_accuracy: 0.8926\n",
            "Epoch 3/10\n",
            "625/625 [==============================] - 5s 9ms/step - loss: 0.2499 - accuracy: 0.9133 - val_loss: 0.2858 - val_accuracy: 0.8936\n",
            "Epoch 4/10\n",
            "625/625 [==============================] - 5s 9ms/step - loss: 0.2332 - accuracy: 0.9215 - val_loss: 0.3104 - val_accuracy: 0.8876\n",
            "Epoch 5/10\n",
            "625/625 [==============================] - 5s 9ms/step - loss: 0.2282 - accuracy: 0.9244 - val_loss: 0.3119 - val_accuracy: 0.8924\n",
            "Epoch 6/10\n",
            "625/625 [==============================] - 6s 9ms/step - loss: 0.2226 - accuracy: 0.9273 - val_loss: 0.3189 - val_accuracy: 0.8950\n",
            "Epoch 7/10\n",
            "625/625 [==============================] - 5s 9ms/step - loss: 0.2266 - accuracy: 0.9308 - val_loss: 0.3269 - val_accuracy: 0.8944\n",
            "Epoch 8/10\n",
            "625/625 [==============================] - 6s 9ms/step - loss: 0.2194 - accuracy: 0.9334 - val_loss: 0.3340 - val_accuracy: 0.8912\n",
            "Epoch 9/10\n",
            "625/625 [==============================] - 7s 12ms/step - loss: 0.2090 - accuracy: 0.9339 - val_loss: 0.3448 - val_accuracy: 0.8914\n",
            "Epoch 10/10\n",
            "625/625 [==============================] - 6s 10ms/step - loss: 0.2166 - accuracy: 0.9341 - val_loss: 0.3484 - val_accuracy: 0.8870\n",
            "782/782 [==============================] - 10s 12ms/step - loss: 0.2938 - accuracy: 0.8860\n",
            "Test acc: 0.886\n"
          ]
        }
      ],
      "source": [
        "model = get_model()\n",
        "model.summary()\n",
        "callbacks = [\n",
        "    keras.callbacks.ModelCheckpoint(\"binary_1gram.keras\",\n",
        "                                    save_best_only=True)\n",
        "]\n",
        "model.fit(binary_1gram_train_ds.cache(),\n",
        "          validation_data=binary_1gram_val_ds.cache(),\n",
        "          epochs=10,\n",
        "          callbacks=callbacks)\n",
        "model = keras.models.load_model(\"binary_1gram.keras\")\n",
        "print(f\"Test acc: {model.evaluate(binary_1gram_test_ds)[1]:.3f}\")"
      ]
    },
    {
      "cell_type": "markdown",
      "metadata": {
        "id": "o-SkxKUl7uOn"
      },
      "source": [
        "#### Bigrams with binary encoding"
      ]
    },
    {
      "cell_type": "markdown",
      "metadata": {
        "id": "_OOtn_HV7uOn"
      },
      "source": [
        "**Configuring the `TextVectorization` layer to return bigrams**"
      ]
    },
    {
      "cell_type": "code",
      "execution_count": 41,
      "metadata": {
        "id": "kcEh_UpC7uOn"
      },
      "outputs": [],
      "source": [
        "text_vectorization = TextVectorization(\n",
        "    ngrams=2,\n",
        "    max_tokens=20000,\n",
        "    output_mode=\"multi_hot\",\n",
        ")"
      ]
    },
    {
      "cell_type": "code",
      "source": [
        "text_vectorization = TextVectorization(\n",
        "    ngrams=2,\n",
        "    max_tokens=20000,\n",
        "    output_mode=\"multi_hot\",\n",
        ")\n",
        "text_vectorization.adapt(text_only_train_ds)\n",
        "\n",
        "all_vocab = text_vectorization.get_vocabulary()\n",
        "\n",
        "bigrams = [token for token in all_vocab if \" \" in token]\n",
        "print(bigrams)\n"
      ],
      "metadata": {
        "id": "qYdkdznDnX5P",
        "outputId": "17b65fc2-7307-4747-a132-f2e11c5dfd85",
        "colab": {
          "base_uri": "https://localhost:8080/"
        }
      },
      "execution_count": 40,
      "outputs": [
        {
          "output_type": "stream",
          "name": "stdout",
          "text": [
            "['of the', 'in the', 'this movie', 'and the', 'is a', 'the film', 'to the', 'to be', 'the movie', 'this film', 'it is', 'this is', 'on the', 'in a', 'it was', 'one of', 'for the', 'with the', 'of a', 'br the', 'is the', 'as a', 'at the', 'from the', 'in this', 'br br', 'with a', 'as the', 'if you', 'i was', 'that the', 'the story', 'to see', 'out of', 'by the', 'the first', 'movie is', 'and i', 'was a', 'for a', 'i have', 'all the', 'there is', 'of this', 'have been', 'film is', 'and a', 'is not', 'br i', 'a good', 'the end', 'there are', 'the same', 'a lot', 'the most', 'but the', 'the best', 'about the', 'to make', 'on a', 'of his', 'but i', 'the only', 'he is', 'that is', 'i think', 'a movie', 'that i', 'to watch', 'the plot', 'a great', 'to a', 'this one', 'the characters', 'but it', 'a very', 'that it', 'a few', 'be a', 'and it', 'some of', 'have to', 'i dont', 'was the', 'its a', 'to get', 'they are', 'is that', 'a little', 'want to', 'would have', 'to do', 'like a', 'into the', 'the acting', 'at least', 'the other', 'i am', 'has a', 'lot of', 'the way', 'i would', 'a film', 'kind of', 'is one', 'would be', 'br this', 'to have', 'the whole', 'as well', 'have a', 'this was', 'trying to', 'of course', 'like the', 'that this', 'and his', 'he was', 'a bit', 'you can', 'the original', 'most of', 'movie was', 'in his', 'the worst', 'is an', 'that he', 'which is', 'to say', 'more than', 'could have', 'not a', 'i can', 'who is', 'the time', 'going to', 'i had', 'at all', 'into a', 'by a', 'all of', 'of all', 'i saw', 'when the', 'but this', 'and then', 'such a', 'of them', 'seems to', 'is so', 'when i', 'movie and', 'of it', 'it has', 'its not', 'she is', 'in my', 'part of', 'the fact', 'i thought', 'with his', 'is just', 'the rest', 'the main', 'the world', 'you have', 'movie i', 'like this', 'the two', 'the actors', 'as it', 'from a', 'fact that', 'film and', 'that was', 'for this', 'you are', 'has been', 'is very', 'they were', 'over the', 'through the', 'the director', 'that they', 'and that', 'it to', 'had a', 'there was', 'be the', 'the last', 'it and', 'at a', 'of her', 'in fact', 'the script', 'so much', 'of my', 'and is', 'see the', 'about this', 'he has', 'to find', 'it a', 'will be', 'can be', 'story is', 'and he', 'not to', 'supposed to', 'it would', 'rest of', 'is in', 'sort of', 'does not', 'and its', 'should be', 'just a', 'i cant', 'because of', 'film was', 'the show', 'to go', 'the cast', 'movie that', 'film that', 'you will', 'with this', 'is no', 'has to', 'i didnt', 'about a', 'as i', 'to his', 'and this', 'than the', 'to this', 'not the', 'is also', 'end of', 'i found', 'as an', 'i could', 'watch it', 'the book', 'the films', 'watch this', 'had to', 'ever seen', 'make a', 'when he', 'up to', 'able to', 'was not', 'hard to', 'see this', 'i really', 'see it', 'such as', 'after the', 'but its', 'not only', 'the audience', 'acting is', 'because it', 'are the', 'say that', 'do not', 'well as', 'and not', 'where the', 'the ending', 'should have', 'on this', 'that you', 'for me', 'i just', 'very good', 'up with', 'in which', 'so i', 'of those', 'a bad', 'seem to', 'in an', 'to me', 'enough to', 'back to', 'to take', 'have seen', 'during the', 'ive seen', 'with her', 'so many', 'a couple', 'better than', 'it i', 'of their', 'did not', 'played by', 'you want', 'and they', 'when it', 'what i', 'i know', 'are a', 'in their', 'each other', 'the entire', 'film i', 'a big', 'based on', 'special effects', 'if the', 'is about', 'in all', 'of an', 'what the', 'the one', 'tries to', 'and even', 'what is', 'was so', 'too much', 'and in', 'it the', 'story of', 'are not', 'this show', 'piece of', 'even the', 'a man', 'and you', 'dont know', 'of its', 'in it', 'the music', 'who has', 'out the', 'as he', 'she was', 'instead of', 'it all', 'about it', 'movie the', 'i love', 'film the', 'br it', 'im not', 'even though', 'itbr br', 'i watched', 'a real', 'if it', 'as if', 'try to', 'the very', 'have the', 'that are', 'people who', 'characters are', 'that she', 'his own', 'sense of', 'br in', 'a young', 'i mean', 'the beginning', 'br if', 'in her', 'been a', 'it in', 'but not', 'of these', 'fan of', 'watching this', 'we are', 'i guess', 'get the', 'out to', 'what a', 'saw this', 'between the', 'i will', 'much of', 'or the', 'couple of', 'time and', 'movie but', 'wanted to', 'could be', 'for his', 'because the', 'was in', 'we have', 'think that', 'but he', 'the real', 'when they', 'the second', 'up in', 'the viewer', 'in love', 'and her', 'the scene', 'is to', 'get a', 'up the', 'off the', 'make it', 'br but', 'version of', 'i did', 'there were', 'way to', 'look at', 'with an', 'was just', 'need to', 'br there', 'it seems', 'not even', 'you dont', 'plot is', 'if youre', 'lack of', 'they have', 'the people', 'on his', 'moviebr br', 'it doesnt', 'and there', 'all in', 'of that', 'a new', 'wants to', 'in its', 'with some', 'have ever', 'you know', 'like it', 'in that', 'those who', 'as they', 'to give', 'the next', 'much more', 'like to', 'at times', 'of what', 'a story', 'rather than', 'it just', 'to her', 'than a', 'see a', 'the series', 'movie with', 'that its', 'movie to', 'of 10', 'i do', 'full of', 'due to', 'if i', 'and some', 'was very', 'film but', 'filmbr br', 'any of', 'the great', 'when you', 'who are', 'but in', 'br and', 'if they', 'throughout the', 'it for', 'looks like', 'br its', 'to keep', 'may be', 'being a', 'because i', 'the character', 'for her', 'the point', 'for some', 'looking for', 'many of', 'time i', 'is still', 'its just', 'the title', 'that a', 'watch the', 'the screen', 'him to', 'his wife', 'but they', 'br a', 'is it', 'and was', 'the camera', 'away from', 'up and', 'story and', 'is really', 'no one', 'it but', 'even if', 'and all', 'and she', 'new york', 'the man', 'not be', 'my favorite', 'i like', 'what it', 'to show', 'movie it', 'a long', 'very well', 'the final', 'has the', 'in some', 'for it', 'the old', 'give it', 'and so', 'lots of', 'go to', 'while the', 'know what', 'the dvd', 'br as', 'theres a', 'that there', 'along with', 'bit of', 'the action', 'had been', 'that has', 'it as', 'had the', 'it does', 'one is', 'none of', 'we see', 'make the', 'film to', 'to know', 'are so', 'of time', 'but that', 'the big', 'film has', 'do with', 'how to', 'it had', 'the movies', 'it on', 'man who', 'is quite', 'a nice', 'first time', 'seen in', 'much better', 'all that', 'to it', 'me to', 'a small', 'movie has', 'made me', 'get to', 'as much', 'the top', 'more of', 'in one', 'was made', 'its the', 'are all', 'must have', 'who was', 'a woman', 'the scenes', 'when she', 'so bad', 'and what', 'the new', 'in order', 'around the', 'waste of', 'used to', 'time to', 'the right', 'she has', 'just as', 'it wasnt', 'i loved', 'dont think', 'bunch of', 'what was', 'might be', 'which i', 'my opinion', 'and to', 'to kill', 'how the', 'the role', 'but if', 'minutes of', 'film with', 'the good', 'read the', 'of people', 'other than', 'i felt', 'good and', 'characters and', 'the bad', 'him and', 'it will', 'i liked', 'watching the', 'you see', 'is more', 'to come', 'the idea', 'and as', 'you get', 'was one', 'their own', 'ive ever', 'for all', 'film in', 'and more', 'and has', 'which was', 'recommend this', 'movie in', 'think the', 'character is', 'is what', 'film it', 'even more', 'with no', 'point of', 'life and', 'years ago', 'use of', 'order to', 'a better', 'watching it', 'that we', 'and how', 'it could', 'before the', 'know that', 'but then', 'as to', 'and if', 'seen the', 'acting was', 'to play', 'i couldnt', 'also a', 'was an', 'pretty much', 'for example', 'think of', 'they had', 'in any', 'the young', 'movie for', 'what they', 'love with', 'going on', 'nothing to', 'have no', 'that would', 'for those', 'can see', 'are some', 'you like', 'low budget', 'and their', 'with it', 'the house', 'on and', 'an excellent', 'the opening', 'he had', 'group of', 'after a', 'the more', 'a huge', 'to look', 'is this', 'to tell', 'a fan', 'a bunch', 'this time', 'look like', 'back in', 'might have', 'but a', 'also the', 'the middle', 'it really', 'believe that', 'good as', 'him in', 'to think', 'has no', 'good movie', 'type of', 'seen it', 'i also', 'and thats', 'a whole', 'watched it', 'thought it', 'is as', 'i got', 'for an', 'his life', 'come to', 'not have', 'like that', 'if he', 'he does', 'and we', 'and one', 'manages to', 'you cant', 'to work', 'pretty good', 'i feel', 'example of', 'br so', 'to believe', 'anyone who', 'may have', 'attempt to', 'on dvd', 'all this', 'must be', 'is pretty', 'and have', 'then the', 'seemed to', 'or even', 'from this', 'for that', 'but there', 'all i', 'decided to', 'at first', 'and for', 'and an', 'acting and', 'is good', 'idea of', 'down to', 'a way', 'was that', 'he can', 'a really', 'made the', 'the lead', 'number of', 'film as', 'a pretty', 'plenty of', 'made a', 'and of', 'only one', 'is going', 'what he', 'tried to', 'and when', 'year old', 'scene where', 'ever made', 'out in', 'i still', 'time the', 'out and', 'main character', 'because he', 'br what', 'where he', 'made it', 'high school', 'directed by', 'and just', 'so that', 'a wonderful', 'same time', 'quite a', 'out there', 'i must', 'i hope', 'watched this', 'the past', 'or not', 'too many', 'think it', 'thing that', 'the greatest', 'does a', 'or a', 'the family', 'saw it', 'on to', 'not just', 'from his', 'comes to', 'that will', 'is actually', 'up for', 'the guy', 'scene in', 'not that', 'makes it', 'it with', 'funny and', 'with their', 'the dialogue', 'not as', 'as one', 'them to', 'of film', 'movie a', 'made in', 'a more', 'her and', 'so the', 'only a', 'is all', 'close to', 'and very', 'a comedy', 'though the', 'i remember', 'film for', 'was also', 'find out', 'this and', 'the early', 'far as', 'was going', 'to an', 'set in', 'down the', 'only thing', 'is nothing', 'as good', 'we get', 'since the', 'people in', 'it also', 'the girl', 'is great', 'for him', 'until the', 'the killer', 'with all', 'i believe', 'as far', 'after all', 'here is', 'as she', 'up a', 'to my', 'movies that', 'can only', 'was really', 'place in', 'of any', 'your time', 'im sure', 'has some', 'for you', 'you could', 'real life', 'much as', 'it again', 'is probably', 'even a', 'be in', 'than this', 'makes the', 'as for', 'on her', 'her to', 'the special', 'is only', 'all time', 'saw the', 'that in', 'good but', 'go on', 'it should', 'to help', 'the kind', 'that makes', 'an old', 'a group', 'movie as', 'its own', 'his character', 'a true', 'to their', 'that one', 'first of', 'because they', 'under the', 'of your', 'but also', 'a chance', 'who have', 'scenes are', 'over and', 'one thing', 'on screen', 'i never', 'of how', 'movie about', 'for their', 'could not', 'you think', 'give this', 'as this', 'it it', 'if this', 'for its', 'very much', 'the problem', 'see how', 'to put', 'here and', 'an interesting', 'this a', 'of which', 'br my', 'are in', 'and at', 'amount of', 'got to', 'goes to', 'a horror', 'the day', 'take a', 'only to', 'not in', 'movies and', 'and with', 'of being', 'to mention', 'out for', 'i give', 'did a', 'the production', 'the part', 'is too', 'i say', 'compared to', 'to him', 'just to', 'his best', 'horror movie', 'came out', 'but when', 'plot and', 'plays the', 'movies i', 'make this', 'to save', 'this story', 'the us', 'plays a', 'of us', 'is on', 'the late', 'it comes', 'are just', 'years later', 'they do', 'the case', 'seen this', 'dont get', 'an hour', 'if not', 'films that', 'with its', 'will not', 'were the', 'way of', 'any other', 'when a', 'that were', 'role of', 'film a', 'series of', 'it makes', 'you would', 'interested in', 'but she', 'a decent', 'the filmmakers', 'may not', 'many people', 'br all', 'well done', 'to its', 'they dont', 'it isnt', 'would not', 'on tv', 'much to', 'more like', 'however the', 'by his', 'are very', 'you to', 'world of', 'what you', 'too bad', 'it out', 'and no', 'and also', 'way the', 'think this', 'just the', 'it up', 'find the', 'a classic', 'the police', 'make you', 'but as', 'a while', 'side of', 'meant to', 'except for', 'a character', 'that his', 'a guy', 'thing about', 'they can', 'probably the', 'know the', 'just like', 'guy who', 'ends up', 'chance to', 'but what', 'behind the', 'horror film', 'but is', 'at this', 'you might', 'which the', 'something that', 'is definitely', 'despite the', 'only the', 'on their', 'i wish', 'how much', 'as his', 'and most', 'through a', 'theres no', 'of some', 'movies like', 'managed to', 'is supposed', 'but thats', 'up on', 'out that', 'one that', 'of life', 'me the', 'be an', 'a beautiful', 'with him', 'my life', 'main characters', 'fans of', 'being the', 'as you', 'to understand', 'of one', 'not really', 'in and', 'i enjoyed', 'filled with', 'though i', 'the writers', 'say the', 'again and', 'once again', 'characters in', 'cast is', 'actors and', 'woman who', 'though it', 'the three', 'liked the', 'but you', 'a child', 'to use', 'the future', 'having a', 'decides to', 'and are', 'was no', 'one and', 'got a', 'forced to', 'against the', 'the theater', 'a single', 'love and', 'is simply', 'found it', 'do the', 'about to', 'script is', 'long time', 'for one', 'find it', 'be able', 'the girls', 'something to', 'let me', 'to all', 'than that', 'is at', 'i wont', 'at his', 'and over', 'for what', 'br one', 'and im', 'without a', 'to become', 'the novel', 'needs to', 'i find', 'had no', 'and on', 'a different', 'to create', 'they could', 'not so', 'me of', 'films and', 'although the', 'worth watching', 'the little', 'it may', 'half of', 'do it', 'all over', 'not for', 'have never', 'end up', 'the local', 'on it', 'not sure', 'me and', 'is like', 'in every', 'but for', 'with that', 'the truth', 'whole movie', 'were a', 'to bring', 'the war', 'middle of', 'involved in', 'he doesnt', 'get it', 'difficult to', 'things that', 'the performances', 'the biggest', 'portrayal of', 'not one', 'he did', 'then i', 'them and', 'the supporting', 'so it', 'love the', 'become a', 'because its', 'made for', 'i recommend', 'a fine', 'to them', 'the hell', 'show is', 'makes a', 'great movie', 'find a', 'am not', 'to live', 'films of', 'wife and', 'to that', 'so he', 'on its', 'made this', 'it so', 'havent seen', 'back and', 'to anyone', 'some people', 'people are', 'it at', 'i actually', 'but still', 'a time', 'the least', 'the dead', 'really good', 'it might', 'it didnt', 'have had', 'did the', 'time in', 'the tv', 'tell you', 'do a', 'and other', 'about how', 'a perfect', 'a girl', 'you should', 'well i', 'by this', 'best of', 'why i', 'we can', 'we all', 'was good', 'to try', 'these two', 'the american', 'worst movie', 'now i', 'in your', 'every time', 'but at', 'a shame', 'this to', 'making a', 'it looks', 'actors are', 'thats the', 'why the', 'really is', 'life of', 'im a', 'i wouldnt', 'have made', 'gives a', 'thing is', 'out on', 'less than', 'her own', 'way that', 'thought that', 'thing i', 'see that', 'recommend it', 'performance as', 'or so', 'no matter', 'no idea', 'take the', 'scenes and', 'of our', 'given the', 'the picture', 'the direction', 'how they', 'fun to', 'film which', 'at one', 'a waste', 'way too', 'very little', 'turns out', 'makes you', 'gets a', 'easy to', 'along the', 'what we', 'were not', 'went to', 'the woman', 'the life', 'it that', 'how many', 'do you', 'attempts to', 'the usual', 'the kids', 'that made', 'that if', 'movie its', 'me i', 'he gets', 'an actor', 'what happened', 'watching a', 'waste your', 'that could', 'talking about', 'never seen', 'a scene', 'this the', 'the reason', 'the actual', 'can say', 'be one', 'bad movie', 'you do', 'to life', 'love this', 'and yet', 'a plot', 'was pretty', 'to end', 'the storyline', 'goes on', 'whole thing', 'this isnt', 'i first', 'especially the', 'beginning of', 'a complete', 'supporting cast', 'role as', 'it takes', 'is absolutely', 'how it', 'be seen', 'and watch', 'the soundtrack', 'the night', 'seen a', 'music and', 'its an', 'is now', 'film about', 'a series', 'where they', 'they would', 'then you', 'i want', 'i havent', 'front of', 'the name', 'story about', 'them the', 'the money', 'the cinematography', 'i see', 'dont have', 'top of', 'the death', 'takes place', 'scenes in', 'it off', 'in front', 'he could', 'has an', 'be more', 'as we', 'you may', 'two of', 'timebr br', 'not much', 'film of', 'character and', 'we know', 'the love', 'movie if', 'many times', 'like i', 'know how', 'in other', 'character in', 'at that', 'am a', 'this i', 'so far', 'scenes of', 'br overall', 'apart from', 'and had', 'would like', 'people and', 'movie you', 'is well', 'in many', 'black and', 'you just', 'to some', 'in such', 'have done', 'to stop', 'thought the', 'the writing', 'some good', 'or two', 'i went', 'doesnt have', 'bad the', 'as in', 'are also', 'a half', 'show the', 'scene is', 'of two', 'movie of', 'just plain', 'are no', 'which are', 'is always', 'into this', 'i wanted', 'i cannot', 'a major', 'a family', 'what makes', 'seems like', 'seeing this', 'parts of', 'little more', 'happened to', 'course the', 'a must', 'worse than', 'watch a', 'thanks to', 'didnt have', 'to sit', 'the third', 'the city', 'see what', 'or something', 'its all', 'got the', 'good film', 'br for', 'bad acting', 'was to', 'this has', 'movie this', 'to write', 'them in', 'that of', 'out with', 'in to', 'i knew', 'appears to', 'and make', 'well the', 'waiting for', 'some kind', 'problem with', 'problem is', 'music is', 'good job', 'films like', 'but with', 'bad guys', 'without the', 'well and', 'this in', 'that doesnt', 'one to', 'on an', 'life in', 'happens to', 'can get', 'it if', 'isnt a', 'is almost', 'character development', 'becomes a', 'very funny', 'the dark', 'on my', 'it this', 'you really', 'with my', 'us to', 'this case', 'the genre', 'really bad', 'which he', 'they should', 'these people', 'the premise', 'story that', 'still a', 'script and', 'its hard', 'found the', 'does it', 'bad and', 'who plays', 'of movie', 'in particular', 'her husband', 'a number', 'what happens', 'we were', 'think about', 'story line', 'its so', 'its like', 'is much', 'have some', 'give the', 'friends and', 'end the', 'and my', 'watched the', 'the latter', 'the back', 'someone who', 'some sort', 'horror movies', 'her in', 'br now', 'they all', 'start to', 'seeing the', 'scenes that', 'say i', 'movie which', 'like an', 'feel like', 'ability to', 'a certain', 'this series', 'the sound', 'reason to', 'it can', 'him as', 'effects are', 'among the', 'a much', 'wrong with', 'written by', 'to what', 'takes a', 'story was', 'sit through', 'of you', 'love to', 'forward to', 'a fun', 'towards the', 'to follow', 'time it', 'they did', 'the game', 'that can', 'that all', 'man and', 'loved the', 'interesting and', 'deal with', 'after watching', 'was on', 'the head', 'not very', 'near the', 'is excellent', 'but even', 'a second', 'time of', 'say about', 'i gave', 'him the', 'he would', 'within the', 'to leave', 'their lives', 'of movies', 'good the', 'dont like', 'must see', 'me a', 'i said', 'dont want', 'but to', 'who can', 'while i', 'other hand', 'off as', 'little bit', 'level of', 'it its', 'it gets', 'is for', 'dont even', 'and while', 'although i', 'work of', 'work and', 'to turn', 'playing the', 'one in', 'it did', 'heard of', 'cast and', 'care about', 'boring and', 'a kid', 'was great', 'was actually', 'out a', 'only reason', 'on that', 'how bad', 'his father', 'by an', 'a total', 'to you', 'this would', 'begins to', 'to like', 'since i', 'makes this', 'love story', 'if there', 'first film', 'fails to', 'br when', 'worth the', 'will never', 'was about', 'the evil', 'shot in', 'like they', 'is based', 'great film', 'years old', 'the year', 'talk about', 'one day', 'i wasnt', 'his role', 'be so', 'bad as', 'with such', 'willing to', 'way through', 'these are', 'the human', 'the directors', 'she had', 'nothing more', 'no sense', 'i read', 'did i', 'by her', 'and only', 'times and', 'the video', 'the screenplay', 'is truly', 'have not', 'film this', 'a rather', 'you wont', 'very very', 'the subject', 'the songs', 'it seemed', 'is something', 'bad it', 'as bad', 'and who', 'too long', 'to enjoy', 'perhaps the', 'one point', 'just about', 'it shows', 'and white', 'and get', 'worth a', 'was it', 'to stay', 'the producers', 'the others', 'reason i', 'is worth', 'in real', 'his family', 'all about', 'the lack', 'shots of', 'it still', 'is there', 'to start', 'the funniest', 'over a', 'movies but', 'life is', 'however i', 'according to', 'a strong', 'a sequel', 'unless you', 'the perfect', 'nothing but', 'movie because', 'at best', 'who had', 'the animation', 'that have', 'movie had', 'makes me', 'it or', 'girl who', 'films i', 'can do', 'beautiful and', 'and see', 'all a', 'about as', 'such an', 'for no', 'ending is', 'a terrible', 'think i', 'the few', 'so they', 'scene with', 'say this', 'film its', 'death of', 'characters were', 'across the', 'so well', 'of him', 'far more', 'enjoy the', 'come out', 'cant believe', 'but no', 'youre a', 'the start', 'the classic', 'thats what', 'live in', 'just dont', 'good thing', 'this point', 'realize that', 'or at', 'man is', 'it because', 'first movie', 'figure out', 'enjoyed the', 'all these', 'the previous', 'the better', 'she does', 'man in', 'its also', 'episode of', 'and will', 'about his', 'the poor', 'story the', 'other films', 'most part', 'living in', 'in new', 'family and', 'br im', 'with one', 'thembr br', 'movie so', 'movie on', 'is some', 'he also', 'film from', 'few years', 'far from', 'after seeing', 'a sense', 'the jokes', 'is his', 'actors in', 'this kind', 'they didnt', 'the word', 'movies are', 'loved it', 'is why', 'i suppose', 'had some', 'before i', 'a copy', 'you watch', 'think its', 'plot was', 'one scene', 'money and', 'just so', 'horror films', 'highly recommend', 'been done', 'and still', 'action and', 'then it', 'the casting', 'quality of', 'lot more', 'is how', 'have an', 'for any', 'far too', 'br to', 'anything else', 'to read', 'the black', 'thats not', 'say it', 'role in', 'production values', 'never really', 'me that', 'love it', 'form of', 'cast of', 'br while', 'you need', 'they just', 'more and', 'it from', 'decide to', 'check out', 'bad guy', 'and well', 'the thing', 'the background', 'something like', 'similar to', 'one can', 'movie like', 'most people', 'made by', 'is being', 'interest in', 'hope that', 'felt like', 'but his', 'attempt at', 'and now', 'absolutely no', 'a truly', 'a serious', 'the woods', 'the dialog', 'said that', 'one the', 'one i', 'not enough', 'is my', 'history of', 'hes a', 'help but', 'and after', 'way it', 'was still', 'to those', 'on in', 'it even', 'impossible to', 'her father', 'her character', 'from her', 'agree with', 'a friend', 'what to', 'the events', 'put it', 'off to', 'much like', 'make up', 'him a', 'here the', 'have any', 'gave it', 'film are', 'enjoy this', 'dont see', 'come on', 'both the', 'a poor', 'was more', 'time but', 'this piece', 'terms of', 'it made', 'is bad', 'there and', 'the result', 'one who', 'no way', 'movie ever', 'i only', 'good in', 'does the', 'character of', 'bad that', 'a high', 'this as', 'the 80s', 'on earth', 'more interesting', 'for instance', 'even in', 'down and', 'dont waste', 'bad but', 'at its', 'a short', 'a low', 'you feel', 'without any', 'understand the', 'this flick', 'the horror', 'the cinema', 'tale of', 'job of', 'hour and', 'come up', 'been the', 'and dont', 'about what', 'where she', 'was never', 'them all', 'like in', 'good for', 'get me', 'first half', 'a large', 'was like', 'to happen', 'the moviebr', 'performance in', 'movie just', 'its about', 'feel that', 'but after', 'and why', 'all and', 'world war', 'why did', 'we dont', 'unable to', 'to learn', 'the wrong', 'on your', 'money to', 'in what', 'in for', 'here in', 'director and', 'by far', 'begin to', 'been made', 'two hours', 'the father', 'movie at', 'interesting to', 'including the', 'in terms', 'from that', 'films are', 'although it', 'who would', 'was released', 'to admit', 'they get', 'the town', 'the overall', 'one was', 'no real', 'movies of', 'martial arts', 'hours of', 'from an', 'a car', 'with them', 'were all', 'the 70s', 'that really', 'is when', 'for them', 'those of', 'of money', 'of good', 'listen to', 'if she', 'copy of', 'aside from', 'as usual', 'will have', 'to hear', 'that should', 'that much', 'of other', 'no doubt', 'nature of', 'is another', 'in general', 'himbr br', 'fun and', 'was all', 'this could', 'then this', 'moments of', 'many other', 'it came', 'is completely', 'for my', 'can you', 'believe it', 'and makes', 'all it', 'a simple', 'well worth', 'was quite', 'time with', 'the writer', 'the filmbr', 'of humor', 'never been', 'looking at', 'looked like', 'its really', 'found myself', 'for anyone', 'characters that', 'case of', 'are many', 'a person', 'years and', 'why this', 'was supposed', 'the years', 'know it', 'just because', 'is of', 'he wants', 'br however', 'attention to', 'and never', 'admit that', 'where a', 'thisbr br', 'plot of', 'more to', 'given a', 'came to', 'you havent', 'what she', 'up as', 'understand why', 'to death', 'this moviebr', 'the mother', 'the feeling', 'the credits', 'the car', 'style of', 'save the', 'not too', 'movie are', 'manage to', 'it when', 'i expected', 'his first', 'film at', 'feels like', 'enjoy it', 'a world', 'of love', 'just not', 'it never', 'is never', 'i should', 'i highly', 'dealing with', 'camera work', 'a year', 'a look', 'turned out', 'this but', 'the true', 'the hero', 'the face', 'that time', 'than it', 'play the', 'other movies', 'not like', 'making the', 'itself is', 'is trying', 'br you', 'as though', 'and again', 'a black', 'yet another', 'years of', 'worth seeing', 'to finish', 'time for', 'the things', 'the set', 'that movie', 'reminded me', 'off a', 'much the', 'making it', 'its very', 'is far', 'is because', 'from being', 'ended up', 'all but', 'you were', 'work with', 'with me', 'was too', 'this episode', 'the place', 'the ones', 'the comedy', 'that and', 'no reason', 'name of', 'is such', 'how he', 'he goes', 'first saw', 'around a', 'and by', 'the play', 'performance is', 'my mind', 'is better', 'into an', 'how this', 'can tell', 'aspect of', 'wont be', 'true to', 'through this', 'the use', 'the british', 'that make', 'that had', 'take on', 'starts to', 'its one', 'i watch', 'dont watch', 'doesnt even', 'didnt like', 'book and', 'as is', 'a strange', 'young woman', 'where it', 'tv series', 'some reason', 'show and', 'relationship between', 'oh and', 'is set', 'great and', 'does have', 'but we', 'at it', 'an american', 'all its', 'were in', 'way i', 'was i', 'they will', 'shows the', 'really a', 'point in', 'people that', 'opportunity to', 'is and', 'in life', 'he just', 'fact the', 'because she', 'acting in', 'a brilliant', 'together and', 'to any', 'the star', 'the air', 'she doesnt', 'is certainly', 'in on', 'gives the', 'effects and', 'comedy and', 'be very', 'and acting', 'world and', 'try and', 'that bad', 'not funny', 'nice to', 'movies in', 'me it', 'little to', 'keep the', 'just doesnt', 'is made', 'he and', 'done in', 'did it', 'beginning to', 'anything to', 'allbr br', 'adaptation of', 'when we', 'thought this', 'this on', 'the quality', 'the many', 'the bottom', 'see if', 'of fun', 'not an', 'just that', 'is by', 'in addition', 'how can', 'film festival', 'even when', 'cant help', 'br also', 'away with', 'an amazing', 'with each', 'was probably', 'to let', 'to add', 'time on', 'this version', 'there isnt', 'the effects', 'that just', 'some great', 'set up', 'return to', 'liked it', 'i wonder', 'by some', 'be made', 'and many', 'a joke', 'who were', 'to buy', 'that some', 'scenes with', 'out as', 'of horror', 'films in', 'even worse', 'can make', 'as being', 'are still', 'are really', 'work in', 'went on', 'to begin', 'the women', 'the box', 'the actor', 'that people', 'take it', 'show that', 'person who', 'performance of', 'people to', 'onebr br', 'of view', 'not worth', 'more about', 'just how', 'is even', 'at some', 'at her', 'were so', 'way he', 'very interesting', 'unfortunately the', 'things to', 'the relationship', 'the history', 'the general', 'story but', 'put on', 'love for', 'laugh at', 'happen to', 'first one', 'film so', 'film if', 'been in', 'been better', 'an oscar', 'would make', 'was only', 'to speak', 'to film', 'then again', 'science fiction', 'of bad', 'not all', 'must say', 'leave the', 'it you', 'into his', 'go see', 'found this', 'br then', 'br not', 'as some', 'written and', 'who wants', 'was at', 'was as', 'to catch', 'the moment', 'the humor', 'the editing', 'storybr br', 'star wars', 'so good', 'see him', 'reason for', 'playing a', 'performances are', 'now that', 'needed to', 'my eyes', 'just didnt', 'he will', 'everyone else', 'did they', 'br well', 'and theres', 'a show', 'a book', 'this guy', 'the voice', 'that these', 'that even', 'sorry for', 'of crap', 'not quite', 'lives of', 'his work', 'her life', 'father and', 'falls in', 'enjoyed this', 'dont care', 'cant be', 'but im', 'a tv', 'will probably', 'wellbr br', 'very bad', 'the country', 'tend to', 'some scenes', 'should not', 'relationship with', 'movie from', 'mebr br', 'known as', 'in our', 'first and', 'films but', 'end i', 'didnt know', 'dialogue is', 'call it', 'br some', 'bit more', 'because you', 'as always', 'a part', 'young man', 'what this', 'to escape', 'to act', 'if only', 'give a', 'avoid this', 'you the', 'why they', 'whole film', 'to pay', 'thing to', 'soon as', 'so what', 'since it', 'one or', 'old man', 'its time', 'its still', 'in time', 'his performance', 'great job', 'gets the', 'film would', 'a love', 'view of', 'true story', 'to love', 'the street', 'thatbr br', 'that most', 'remember the', 'on top', 'long as', 'it into', 'in hollywood', 'home and', 'go and', 'film on', 'exactly what', 'every scene', 'dialogue and', 'be funny', 'are you', 'also has', 'would never', 'to avoid', 'the stories', 'the men', 'the heart', 'the beautiful', 'serial killer', 'seen and', 'responsible for', 'on one', 'on film', 'of such', 'of films', 'is given', 'his son', 'create a', 'because this', 'are good', 'a job', 'wonder if', 'who played', 'tv show', 'to feel', 'through it', 'these days', 'the message', 'the chance', 'so if', 'over again', 'original and', 'off with', 'not going', 'it goes', 'for something', 'be better', 'aspects of', 'as soon', 'as its', 'appeal to', 'across as', 'up at', 'to die', 'to describe', 'reason why', 'my friends', 'movie would', 'movie ive', 'majority of', 'is i', 'humor and', 'highly recommended', 'going for', 'especially when', 'direction is', 'direction and', 'both of', 'are going', 'about an', 'a 10', 'your life', 'would say', 'which makes', 'well in', 'to not', 'to explain', 'then he', 'the musical', 'thats a', 'takes the', 'some time', 'she can', 'good to', 'familiar with', 'br on', 'be honest', 'are more', 'and really', 'and made', 'and does', 'worst movies', 'why is', 'this review', 'think they', 'the viewers', 'the basic', 'seeing it', 'scenes were', 'scene and', 'little too', 'i hate', 'entire movie', 'doesnt make', 'br even', 'br at', 'and doesnt', 'action scenes', 'where i', 'us the', 'to one', 'to laugh', 'the lives', 'the boys', 'the art', 'series and', 'of human', 'many years', 'know if', 'just too', 'if that', 'find this', 'feeling of', 'fall in', 'excuse for', 'enjoyed it', 'do i', 'comes out', 'character was', 'bad i', 'actually a', 'about her', 'violence and', 'they made', 'them are', 'tells the', 'other people', 'make me', 'made to', 'is totally', 'is played', 'if your', 'if its', 'i rented', 'house of', 'his way', 'his career', 'he makes', 'for being', 'first place', 'because there', 'all is', 'again i', 'a funny', 'with your', 'wish i', 'want a', 'the lines', 'than any', 'role and', 'ready to', 'matter how', 'last night', 'just for', 'has never', 'br first', 'big fan', 'before it', 'and finally', 'all his', 'after that', 'a director', 'worst film', 'why he', 'well it', 'watch and', 'those movies', 'the line', 'the female', 'so you', 'movie when', 'mother and', 'is he', 'if a', 'five minutes', 'by one', 'all those', 'actors were', 'a masterpiece', 'your own', 'will make', 'who the', 'though he', 'the fight', 'something about', 'some other', 'maybe the', 'life the', 'its good', 'in short', 'go into', 'get into', 'dont really', 'deals with', 'br after', 'be said', 'and enjoy', 'the villain', 'the power', 'that hes', 'story with', 'or maybe', 'off and', 'of things', 'of many', 'my favourite', 'me in', 'long and', 'in another', 'his head', 'herebr br', 'for best', 'film you', 'fight scenes', 'entire film', 'entertaining and', 'a result', 'wait for', 'to change', 'this thing', 'theres nothing', 'the english', 'the edge', 'that no', 'than i', 'sex and', 'no longer', 'her mother', 'he plays', 'has nothing', 'film had', 'everything is', 'at home', 'are pretty', 'ago and', 'a kind', 'wanting to', 'us a', 'sure the', 'sounds like', 'saying that', 'really really', 'not seen', 'movie could', 'is funny', 'in with', 'if youve', 'i understand', 'film does', 'during a', 'done and', 'director of', 'by all', 'but nothing', 'better and', 'and good', 'a solid', 'a problem', 'a documentary', 'waybr br', 'then there', 'the public', 'the japanese', 'remake of', 'released in', 'or less', 'one would', 'one has', 'on with', 'now and', 'night and', 'members of', 'me as', 'is perfect', 'however it', 'has not', 'from one', 'do that', 'br that', 'why it', 'while watching', 'where you', 'was watching', 'the trailer', 'the mood', 'the body', 'reminds me', 'outbr br', 'off of', 'movie does', 'mention the', 'made and', 'look for', 'is rather', 'is full', 'house and', 'he meets', 'he didnt', 'great as', 'good acting', 'filmed in', 'doesnt seem', 'br of', 'best friend', 'be disappointed', 'as long', 'a similar', 'a script', 'a horrible', 'youll be', 'you in', 'was shot', 'to spend', 'that her', 'seems that', 'no other', 'little girl', 'know why', 'it must', 'it becomes', 'isbr br', 'in these', 'however this', 'he should', 'get out', 'feel the', 'every single', 'end and', 'elements of', 'day and', 'care for', 'can find', 'around and', 'any more', 'again the', 'a role', 'worst of', 'while it', 'times the', 'time when', 'this role', 'then they', 'star trek', 'small town', 'shown in', 'part in', 'out loud', 'nothing else', 'movie will', 'liked this', 'is its', 'her performance', 'he really', 'down a', 'but all', 'before he', 'are great', 'action movie', 'which has', 'way and', 'tv movie', 'to each', 'this picture', 'the stage', 'the score', 'thank you', 'one with', 'of both', 'my time', 'men and', 'kinds of', 'i heard', 'friend and', 'find that', 'do so', 'didnt even', 'but dont', 'big screen', 'and love', 'an attempt', 'a special', 'a piece', 'a dark', 'woman in', 'way they', 'to your', 'to another', 'the material', 'that for', 'stupid and', 'reminiscent of', 'possibly the', 'my wife', 'me this', 'job as', 'it were', 'it took', 'is hard', 'if we', 'idea that', 'him for', 'having to', 'grew up', 'fun of', 'comes from', 'before and', 'as such', 'and would', 'an action', 'actor and', 'you and', 'was bad', 'to win', 'to fight', 'there to', 'the murder', 'the boy', 'that way', 'story in', 'only in', 'of art', 'lost in', 'ive never', 'it only', 'it more', 'had never', 'go back', 'film because', 'and be', 'add to', 'a local', '10 minutes', 'wouldnt have', 'to really', 'to figure', 'this filmbr', 'the majority', 'subject matter', 'scene of', 'people have', 'only for', 'of new', 'of great', 'never get', 'leads to', 'ive been', 'has its', 'gets to', 'feeling that', 'different from', 'characters the', 'at how', 'and bad', 'who gets', 'well with', 'used in', 'the sets', 'the person', 'sex scenes', 'see in', 'quite good', 'pick up', 'or any', 'on imdb', 'member of', 'is terrible', 'i decided', 'i bought', 'however is', 'for everyone', 'br dont', 'br another', 'as many', 'any way', 'almost as', 'all you', 'a typical', 'time he', 'the theme', 'the streets', 'some very', 'so we', 'of action', 'much about', 'man with', 'left the', 'its worth', 'involved with', 'him he', 'he made', 'finds out', 'film like', 'do they', 'do anything', 'been more', '20 years', 'will find', 'who will', 'they make', 'the king', 'something else', 'sent to', 'i always', 'had an', 'good story', 'for more', 'film he', 'enough for', 'each of', 'considering the', 'br we', 'back of', 'as her', 'around in', 'also very', 'after he', 'the kid', 'the french', 'scene the', 'rent it', 'love of', 'lives in', 'least the', 'is extremely', 'into it', 'his films', 'his brother', 'himself in', 'endbr br', 'and interesting', 'a sort', 'a point', 'work for', 'things about', 'theres the', 'the makers', 'the gore', 'really like', 'much in', 'line of', 'it feels', 'is amazing', 'i kept', 'him but', 'her role', 'girl and', 'funny but', 'for years', 'do this', 'buy it', 'br with', 'and go', 'againbr br', 'addition to', 'a romantic', 'up by', 'to talk', 'these films', 'then theres', 'the small', 'the road', 'the cover', 'the concept', 'the climax', 'that at', 'style and', 'spite of', 'she did', 'put in', 'on how', 'old and', 'not know', 'no plot', 'my own', 'movie or', 'me but', 'make sure', 'is where', 'in black', 'i agree', 'from it', 'definitely not', 'comes off', 'can i', 'at night', 'a boy', 'your money', 'you a', 'work is', 'what can', 'wasnt a', 'to call', 'the work', 'the door', 'that when', 'slow and', 'scene that', 'romantic comedy', 'performance and', 'outside of', 'one but', 'on video', 'of work', 'now the', 'me laugh', 'lifebr br', 'just one', 'is shown', 'his girlfriend', 'he looks', 'he cant', 'has done', 'has become', 'few of', 'far the', 'br anyway', 'bad movies', 'are quite', 'and sometimes', 'after this', 'when this', 'were just', 'to care', 'the situation', 'the monster', 'sure that', 'screen time', 'no more', 'movie there', 'me is', 'like he', 'kung fu', 'is basically', 'in spite', 'his mother', 'great but', 'from their', 'first off', 'film also', 'exception of', 'doesnt really', 'could do', 'but instead', 'young and', 'writing and', 'was expecting', 'very few', 'use the', 'turns into', 'this type', 'the exception', 'story to', 'seemed like', 'see her', 'played the', 'overall i', 'movie doesnt', 'making this', 'make sense', 'in those', 'i laughed', 'her the', 'called the', 'beyond the', 'be as', 'bad its', 'are too', 'and do', 'and can', 'actor who', 'would recommend', 'to move', 'to just', 'the typical', 'the studio', 'the sort', 'the living', 'the devil', 'several times', 'out what', 'only because', 'movie not', 'movie even', 'money on', 'his name', 'he finds', 'have given', 'has made', 'but never', 'but because', 'been so', 'as possible', 'anything but', 'any sense', 'and yes', 'age of', 'a fairly', 'worthy of', 'these characters', 'the song', 'shows that', 'onbr br', 'of having', 'maybe it', 'it turns', 'i might', 'he seems', 'for people', 'dont understand', 'comment on', 'character who', 'capable of', 'believe the', 'a hard', 'a cheap', '90 minutes', 'wouldnt be', 'that film', 'she gets', 'seem like', 'relate to', 'other characters', 'not make', 'no wonder', 'next to', 'matter of', 'made up', 'least a', 'kill the', 'its too', 'isnt the', 'is clearly', 'in mind', 'felt that', 'feel of', 'even for', 'done with', 'death and', 'anyone else', 'a well', 'yet the', 'were very', 'well this', 'that ive', 'started to', 'scenes the', 'reading the', 'of watching', 'it got', 'is beyond', 'br theres', 'and maybe', 'an actress', 'about that', 'a life', 'you must', 'why not', 'we had', 'was terrible', 'was able', 'to build', 'think you', 'the wonderful', 'the long', 'that may', 'show was', 'second half', 'really enjoyed', 'obvious that', 'night of', 'movie should', 'left me', 'i get', 'i even', 'have it', 'fact i', 'didnt get', 'comes across', 'blood and', 'bit too', 'before they', 'and those', 'and funny', 'always been', 'actors who', 'yes i', 'was this', 'was filmed', 'war and', 'understand that', 'to pull', 'to meet', 'times i', 'the worlds', 'the episode', 'thats all', 'that seems', 'that many', 'of war', 'it works', 'hes not', 'he tries', 'guy in', 'go through', 'get back', 'first two', 'could go', 'chemistry between', 'best part', 'are two', 'anything about', 'and every', 'with more', 'well made', 'this documentary', 'them but', 'the violence', 'the ultimate', 'that im', 'series is', 'see why', 'put together', 'or just', 'loved this', 'list of', 'left to', 'i started', 'hong kong', 'from what', 'even with', 'days of', 'at any', 'a female', '20 minutes', 'woman and', 'will get', 'what would', 'well but', 'was even', 'to run', 'the group', 'the age', 'that but', 'tell the', 'shot of', 'sex with', 'or is', 'on what', 'never heard', 'movie where', 'movie made', 'me wrong', 'make an', 'is true', 'from there', 'film when', 'film by', 'doesnt know', 'cant say', 'cannot be', 'are supposed', 'are looking', 'and especially', 'and although', 'youve seen', 'you that', 'would love', 'who made', 'which they', 'twists and', 'time this', 'time is', 'thinking about', 'the white', 'the comic', 'that said', 'story lines', 'other and', 'of characters', 'not get', 'movie he', 'mix of', 'love interest', 'job in', 'is superb', 'in most', 'his friends', 'here i', 'half the', 'go out', 'focus on', 'films the', 'especially in', 'combination of', 'best thing', 'best and', 'bad film', 'back then', 'a dream', 'with what', 'who knows', 'way in', 'to pass', 'to expect', 'them as', 'the shows', 'so its', 'she would', 'performances by', 'of place', 'never be', 'makes no', 'like watching', 'its more', 'it not', 'is left', 'her but', 'film could', 'are well', 'and thought', 'and directed', 'allowed to', 'a remake', 'years after', 'times but', 'this may', 'they go', 'the sex', 'the sequel', 'the major', 'the books', 'story i', 'show i', 'sequel to', 'power of', 'one night', 'on him', 'not being', 'might not', 'lot better', 'its almost', 'how a', 'good i', 'exactly the', 'end it', 'desire to', 'depiction of', 'dark and', 'by any', 'but only', 'but here', 'box office', 'believe me', 'and should', 'all costs', 'action sequences', 'absolutely nothing', 'yourself a', 'you go', 'york city', 'were some', 'video store', 'therebr br', 'the united', 'the child', 'than most', 'see them', 'running time', 'really liked', 'one another', 'not been', 'it too', 'it starts', 'his face', 'here but', 'here as', 'from start', 'even that', 'do we', 'definitely a', 'and youll', 'and gets', 'and everyone', 'a musical', 'youve got', 'with great', 'why would', 'who also', 'thought i', 'this particular', 'the scenery', 'the look', 'the impression', 'the earth', 'the doctor', 'that to', 'that only', 'starts out', 'shows up', 'said it', 'of making', 'of cinema', 'never have', 'many ways', 'just cant', 'it actually', 'follows the', 'dont expect', 'come from', 'cinematography is', 'certainly not', 'cant get', 'but just', 'better to', 'and turns', 'and others', 'a human', 'who could', 'to remember', 'the question', 'the need', 'the mystery', 'the atmosphere', 'ten minutes', 'sure to', 'short of', 'screen and', 'real and', 'pretty bad', 'predictable and', 'performance by', 'of times', 'not bad', 'movies ever', 'lot to', 'it like', 'in america', 'i ever', 'have just', 'from all', 'follow the', 'film will', 'film noir', 'few times', 'everything else', 'come back', 'come across', 'begin with', 'be taken', 'any kind', 'and two', 'a fantastic', 'yes the', 'to prove', 'to capture', 'this for', 'theme of', 'the water', 'the uk', 'the setting', 'the narrative', 'so she', 'plot to', 'of each', 'of acting', 'its only', 'is awful', 'in reality', 'himself and', 'glad i', 'for tv', 'for most', 'film ever', 'few minutes', 'fail to', 'edge of', 'did in', 'but rather', 'away and', 'appear to', 'and nothing', 'and director', 'a 1', 'wrote the', 'well known', 'was trying', 'was his', 'was funny', 'to rent', 'to pick', 'to deal', 'to check', 'to break', 'think he', 'things in', 'there the', 'the the', 'the ground', 'the floor', 'that might', 'state of', 'performances from', 'overall this', 'out i', 'out but', 'or if', 'not because', 'minutes and', 'married to', 'makes for', 'just another', 'is perhaps', 'id like', 'i doubt', 'how did', 'get away', 'for many', 'cant even', 'but one', 'be good', 'an example', 'an adult', 'all around', 'after his', 'above the', 'a reason', '30 minutes', 'was done', 'together with', 'tired of', 'time you', 'this way', 'this movies', 'the room', 'the island', 'the directing', 'the central', 'that as', 'result is', 'really dont', 'portrayed as', 'of character', 'name is', 'my head', 'much for', 'looking forward', 'lines and', 'keep you', 'it certainly', 'it br', 'heart of', 'have read', 'coming from', 'by its', 'but who', 'back on', 'appreciate the', 'and boring', 'always a', 'ahead of', 'a video', '15 minutes', 'youre not', 'will enjoy', 'who dont', 'who doesnt', 'which it', 'we never', 'using the', 'the secret', 'the likes', 'the course', 'than anything', 'shes a', 'people with', 'part is', 'one a', 'moments in', 'like me', 'later on', 'its been', 'have watched', 'has ever', 'get this', 'cinematography and', 'be that', 'badbr br', 'away the', 'an extremely', 'after being', 'a completely', 'young girl', 'while he', 'was when', 'was well', 'us that', 'up being', 'to shoot', 'to ask', 'thing in', 'the side', 'the level', 'than one', 'so in', 'out this', 'only good', 'not at', 'movie really', 'likes of', 'left with', 'it be', 'is interesting', 'him that', 'he knows', 'goodbr br', 'followed by', 'everything that', 'complete with', 'but theres', 'br from', 'br although', 'believe in', 'be found', 'any movie', 'actor in', 'acting the', 'you love', 'will say', 'trip to', 'the surface', 'the opportunity', 'the difference', 'the average', 'so this', 'pile of', 'performances and', 'people like', 'past the', 'my first', 'job and', 'is told', 'is obviously', 'in movies', 'in both', 'half hour', 'growing up', 'good enough', 'good at', 'give you', 'give me', 'for sure', 'all three', 'a rare', 'a place', 'a favor', 'together in', 'to offer', 'to mind', 'they both', 'them i', 'the ring', 'the high', 'the following', 'the budget', 'that what', 'that good', 'stay away', 'she could', 'return of', 'result of', 'play a', 'personally i', 'or in', 'on for', 'movie isnt', 'like most', 'known for', 'know this', 'is killed', 'im going', 'his acting', 'he takes', 'having the', 'had me', 'film not', 'film makers', 'ending was', 'collection of', 'became a', 'are both', 'and having', 'and almost', 'a powerful', '2 hours', 'would probably', 'was written', 'was and', 'up there', 'up his', 'to portray', 'to marry', 'to convey', 'they really', 'then we', 'the wife', 'the spirit', 'the red', 'the job', 'thats why', 'take place', 'point that', 'picked up', 'on some', 'off in', 'motion picture', 'more or', 'know i', 'just have', 'isnt that', 'he got', 'have you', 'great the', 'film there', 'eyes and', 'and did', 'and beautiful', 'an episode', 'a full', 'a doubt', 'youbr br', 'will always', 'was there', 'was nothing', 'very entertaining', 'very different', 'turned into', 'to realize', 'though this', 'this with', 'this little', 'this films', 'things are', 'their roles', 'the zombies', 'the style', 'the process', 'the pace', 'the help', 'the costumes', 'the children', 'the 60s', 'seen as', 'once in', 'of thing', 'of blood', 'much i', 'listening to', 'it looked', 'is wonderful', 'is often', 'in no', 'im glad', 'i personally', 'hit the', 'his daughter', 'her as', 'had not', 'great deal', 'funny the', 'film or', 'excellent and', 'dvd and', 'course of', 'br no', 'being in', 'be on', 'are actually', 'and were', 'and john', 'and being', 'an actual', 'almost every', 'all know', 'a mystery', 'women and', 'whats going', 'was completely', 'united states', 'toobr br', 'to view', 'to even', 'the crew', 'so why', 'one could', 'once the', 'of mine', 'of me', 'of comedy', 'not exactly', 'line is', 'lead to', 'later in', 'is both', 'idea what', 'his new', 'great to', 'found in', 'for us', 'brought to', 'are only', 'and from', 'and everything', 'a giant', 'with these', 'which would', 'well written', 'to survive', 'to produce', 'to carry', 'the eye', 'tell me', 'stick to', 'something of', 'some really', 'soap opera', 'shot on', 'point the', 'only be', 'moment of', 'like you', 'let the', 'know about', 'just an', 'is done', 'he says', 'he never', 'final scene', 'film just', 'failed to', 'fact it', 'everyone in', 'didnt really', 'characters who', 'can not', 'bottom line', 'at an', 'and try', 'and people', 'and out', 'an awful', 'a happy', 'a cult', 'with any', 'whole lot', 'when his', 'unlike the', 'trust me', 'toward the', 'to accept', 'time that', 'thought of', 'though they', 'those films', 'this year', 'the sense', 'the guys', 'the famous', 'the actress', 'sure it', 'sure if', 'story it', 'start with', 'so hard', 'see some', 'right to', 'plot line', 'people were', 'opening scene', 'one more', 'off by', 'nothing is', 'movies the', 'life but', 'intended to', 'im sorry', 'husband and', 'help of', 'guy and', 'go for', 'from its', 'everything about', 'drama and', 'doesnt work', 'do something', 'deal of', 'character that', 'care of', 'but was', 'but by', 'betterbr br', 'and probably', 'about two', 'a surprise', 'a stupid', 'a matter', '5 minutes', 'you find', 'women in', 'without being', 'will see', 'who seems', 'what do', 'us with', 'to hold', 'to fall', 'this at', 'the stars', 'the obvious', 'the full', 'the finest', 'that isnt', 'than in', 'spirit of', 'shot and', 'set of', 'plot the', 'place and', 'picture of', 'people of', 'one at', 'on television', 'movies ive', 'know who', 'it there', 'inside the', 'including a', 'in film', 'herbr br', 'have nothing', 'has just', 'film where', 'even better', 'by their', 'br 1', 'be done', 'be considered', 'at allbr', 'and thus', 'and like', 'an entertaining', 'also in', 'a murder', 'a moment', 'a house', 'world is', 'work on', 'who did', 'was almost', 'very end', 'took a', 'to fill', 'to being', 'their way', 'the wind', 'the theatre', 'the problems', 'the hotel', 'the hospital', 'starts off', 'show up', 'same way', 'really the', 'not what', 'much time', 'it then', 'is able', 'hundreds of', 'good one', 'good idea', 'far better', 'done by', 'did this', 'bad this', 'aware of', 'and too', 'you ever', 'was because', 'tv and', 'to lose', 'to earth', 'thrown in', 'theres not', 'the desert', 'the battle', 'stuck in', 'story as', 'see for', 'scenes where', 'scene was', 'says that', 'people will', 'pair of', 'or what', 'me was', 'life as', 'just be', 'hear the', 'have much', 'have all', 'gore and', 'given to', 'for kids', 'first i', 'everyone is', 'effects were', 'doing a', 'do in', 'could see', 'concept of', 'cast as', 'but her', 'be sure', 'and hes', 'about them', 'a killer', 'what could', 'until i', 'two people', 'to waste', 'to and', 'these guys', 'theres also', 'there but', 'the words', 'the leading', 'the key', 'the couple', 'taking a', 'so on', 'say is', 'on i', 'of like', 'movies with', 'movie they', 'mind and', 'killed by', 'isnt even', 'insult to', 'i may', 'i hadnt', 'how could', 'here to', 'here he', 'her acting', 'have worked', 'get in', 'found out', 'for good', 'early on', 'done a', 'continue to', 'can watch', 'but overall', 'believe this', 'are there', 'are being', 'another movie', 'am i', 'action is', 'a thing', 'you never', 'write a', 'wonder why', 'who just', 'way out', 'was excellent', 'to convince', 'those that', 'they want', 'they got', 'there with', 'the team', 'the fun', 'the eyes', 'something i', 'showing the', 'show it', 'show a', 'script was', 'revolves around', 'rented this', 'or anything', 'one for', 'moment in', 'men in', 'life i', 'job with', 'its pretty', 'it very', 'in between', 'her best', 'hands of', 'great acting', 'gives us', 'from other', 'films with', 'even as', 'effort to', 'coming to', 'clear that', 'between a', 'an audience', 'a superb', 'a star', 'a dozen', 'would think', 'with two', 'with and', 'what really', 'version is', 'to recommend', 'this will', 'this because', 'the excellent', 'thats just', 'thats about', 'star in', 'set the', 'school and', 'put the', 'plot holes', 'please dont', 'of actors', 'no less', 'make him', 'look of', 'it back', 'i suggest', 'i almost', 'his usual', 'gave this', 'during this', 'does he', 'do is', 'br 2', 'best film', 'audience is', 'attempts at', 'animation is', 'and perhaps', 'and much', 'and let', 'and great', 'and gives', 'and give', 'and find', 'an early', 'a terrific', 'a secret', 'a fair', 'a dvd', 'your eyes', 'you enjoy', 'would expect', 'whether or', 'were to', 'we should', 'we do', 'very hard', 'upon the', 'too hard', 'too far', 'to us', 'to actually', 'thousands of', 'this world', 'this game', 'these movies', 'the wall', 'the sky', 'suspense and', 'still the', 'stand up', 'someone else', 'some more', 'plot but', 'perfect for', 'out by', 'on but', 'make any', 'let alone', 'led to', 'it now', 'it appears', 'is mostly', 'i came', 'how she', 'have one', 'had seen', 'for another', 'footage of', 'events that', 'dull and', 'dont make', 'done to', 'coming out', 'an evil', 'all too', 'all to', 'adds to', 'a modern', 'a brief', 'your mind', 'you look', 'yes it', 'won the', 'with many', 'was surprised', 'was my', 'was being', 'was absolutely', 'took the', 'to which', 'to steal', 'to protect', 'to date', 'times in', 'thing and', 'they cant', 'the hands', 'the former', 'the episodes', 'the documentary', 'silly and', 'shows a', 'search for', 'problems with', 'onto the', 'into their', 'in there', 'impressed with', 'her daughter', 'get some', 'for yourself', 'focuses on', 'else to', 'did he', 'br why', 'br 3', 'bottom of', 'before you', 'are we', 'are at', 'any film', 'and found', 'a word', 'a unique', 'a cast', 'yet to', 'yet it', 'why does', 'wasnt even', 'two films', 'too the', 'to sleep', 'their characters', 'the various', 'the modern', 'the matrix', 'the leads', 'the imdb', 'that point', 'straight to', 'story which', 'stars as', 'she looks', 'she and', 'running around', 'right in', 'of whom', 'of scenes', 'nothing in', 'needless to', 'more so', 'life to', 'kids and', 'just say', 'jokes and', 'its got', 'is shot', 'in two', 'i realized', 'her first', 'her a', 'have come', 'has one', 'got it', 'for two', 'expecting a', 'excellent as', 'example the', 'could get', 'are they', 'annoying and', 'and therefore', 'a gun', 'a dead', 'with only', 'with little', 'to our', 'time as', 'they come', 'them is', 'the type', 'the present', 'the male', 'the drama', 'the cops', 'that never', 'that comes', 'so long', 'shame that', 'second time', 'really have', 'outside the', 'only is', 'one by', 'of violence', 'of seeing', 'of death', 'nothing about', 'not watch', 'moviesbr br', 'made of', 'lines of', 'leaving the', 'is without', 'is somewhat', 'is indeed', 'how i', 'his last', 'his job', 'has his', 'for such', 'for each', 'face and', 'enough of', 'end but', 'does this', 'do yourself', 'dialog and', 'consists of', 'cast was', 'captures the', 'but some', 'between them', 'been an', 'almost all', 'years i', 'years before', 'where we', 'we learn', 'was always', 'versions of', 'understand what', 'types of', 'two years', 'this it', 'things like', 'things i', 'their best', 'the potential', 'the moon', 'the form', 'the beauty', 'out at', 'original film', 'on all', 'not good', 'more i', 'likely to', 'it by', 'is beautiful', 'in films', 'his friend', 'his film', 'has had', 'face of', 'expect from', 'everything in', 'even get', 'else in', 'comic book', 'children and', 'budget and', 'brother and', 'better in', 'best movie', 'begins with', 'beauty of', 'and take', 'and later', 'affair with', 'about him', 'a white', 'a message', 'who does', 'who cares', 'was looking', 'time its', 'this very', 'this scene', 'this really', 'them for', 'the school', 'the church', 'the band', 'that someone', 'that everyone', 'than just', 'success of', 'son of', 'so when', 'since he', 'show in', 'sets and', 'seeing a', 'right now', 'presence of', 'point is', 'other actors', 'obsessed with', 'nothing new', 'next time', 'need a', 'me want', 'know where', 'it an', 'is most', 'here are', 'help the', 'going through', 'film making', 'didnt make', 'continues to', 'comic relief', 'but hes', 'br ive', 'br by', 'beauty and', 'bad in', 'are never', 'all there', 'ago i', 'a trip', 'youre looking', 'worldbr br', 'was much', 'this might', 'the ship', 'the planet', 'the mind', 'that my', 'than what', 'starts with', 'something more', 'say its', 'rent this', 'put into', 'premise of', 'plot that', 'over his', 'oscar for', 'my only', 'movie starts', 'maybe i', 'like all', 'jane eyre', 'id say', 'i used', 'i suspect', 'i enjoy', 'him into', 'he sees', 'have i', 'good time', 'girl in', 'comedy is', 'can think', 'best to', 'are on', 'and quite', 'and money', 'and eventually', 'a tough', 'would you', 'worth it', 'woody allen', 'with you', 'who he', 'which in', 'well acted', 'through his', 'thing the', 'they find', 'them a', 'the wedding', 'the pacing', 'the ability', 'the 1950s', 'that theres', 'that their', 'that any', 'than to', 'ten years', 'still have', 'sense and', 'seen i', 'returns to', 'read a', 'prior to', 'other words', 'only way', 'of evil', 'nudity and', 'nominated for', 'men who', 'me with', 'make them', 'line and', 'its as', 'is brilliant', 'impression that', 'i sat', 'him out', 'heart and', 'have gone', 'has all', 'guess the', 'gave the', 'friend of', 'filmsbr br', 'films ive', 'doing the', 'definitely worth', 'comedy that', 'city of', 'awful and', 'and entertaining', 'about their', 'a successful', 'a minute', 'a laugh', 'a crime', 'a case', '10 out', 'your head', 'world the', 'wonder how', 'women are', 'who i', 'way this', 'wait to', 'truly a', 'to deliver', 'this sort', 'this crap', 'they seem', 'there will', 'there really', 'the sun', 'the reality', 'the government', 'the chemistry', 'the cat', 'still be', 'start of', 'songs are', 'she wants', 'scenes but', 'said the', 'point out', 'people i', 'painful to', 'of american', 'much less', 'lord of', 'look and', 'like his', 'life with', 'least one', 'lacking in', 'is easily', 'is but', 'him on', 'has always', 'handful of', 'great in', 'funnybr br', 'do and', 'difference between', 'didnt think', 'cant wait', 'br oh', 'be some', 'be about', 'back the', 'and say', 'and didnt', 'a former', 'a dog', 'work the', 'with so', 'why do', 'well to', 'was meant', 'voice of', 'treated to', 'to no', 'to appreciate', 'they even', 'there for', 'the lady', 'than an', 'some nice', 'sake of', 'quite as', 'possible to', 'place to', 'one it', 'of just', 'of events', 'musical score', 'king of', 'is fine', 'in paris', 'in itself', 'here we', 'having seen', 'good actors', 'getting a', 'found a', 'for your', 'for about', 'every other', 'dealt with', 'check it', 'character the', 'capture the', 'but now', 'but most', 'br just', 'br finally', 'being an', 'be too', 'be to', 'be like', 'attempting to', 'at their', 'as part', 'as any', 'and stupid', 'and ive', 'am sure', 'always be', '4 out', '10 years', 'went into', 'tons of', 'to hide', 'this production', 'they never', 'the tension', 'the opposite', 'the number', 'the endbr', 'that does', 'some pretty', 'right and', 'out his', 'others have', 'oh yeah', 'most likely', 'moments and', 'missed the', 'like some', 'is called', 'in making', 'if one', 'if anyone', 'himself to', 'him with', 'had just', 'funny in', 'funny as', 'focused on', 'finds himself', 'ending of', 'editing and', 'dont bother', 'change the', 'can take', 'boy and', 'because we', 'as with', 'are always', 'and goes', 'an insult', 'an idea', 'after i', 'actor but', 'a somewhat', 'a rich', 'a mess', 'a drama', 'a baby', 'would do', 'who cant', 'what made', 'we could', 'two main', 'to sell', 'to other', 'the slightest', 'the short', 'the sake', 'the period', 'scary movie', 'saturday night', 'really was', 'other things', 'not this', 'my money', 'is right', 'is over', 'in case', 'have gotten', 'have always', 'halfway through', 'guy is', 'from my', 'film even', 'fear of', 'expected to', 'even have', 'closer to', 'by that', 'but unfortunately', 'br yes', 'boy who', 'beginning and', 'are about', 'anything that', 'and without', 'an even', 'acting by', 'academy award', 'a 2', 'within a', 'will love', 'will go', 'when its', 'we need', 'we find', 'watchbr br', 'upbr br', 'to set', 'to seeing', 'to compare', 'this makes', 'they must', 'then a', 'the tone', 'the river', 'the recent', 'the performance', 'the nature', 'the law', 'the daughter', 'the comments', 'the army', 'that scene', 'talent and', 'suffers from', 'story has', 'she also', 'scene when', 'refuses to', 'people on', 'opposed to', 'one might', 'on cable', 'of young', 'not want', 'need for', 'much a', 'most interesting', 'minutes into', 'maybe its', 'matter what', 'like its', 'it through', 'it almost', 'is ok', 'is hilarious', 'is fantastic', 'hour of', 'him from', 'her she', 'head and', 'he must', 'for someone', 'film made', 'feel to', 'expect to', 'down in', 'doesnt get', 'didnt care', 'characters but', 'by it', 'better the', 'best performance', 'began to', 'back from', 'atmosphere of', 'around with', 'are as', 'approach to', 'appear in', 'anyway the', 'also i', 'a sad', 'a first', 'you but', 'who like', 'who in', 'where to', 'what kind', 'what an', 'was over', 'was left', 'turn out', 'to how', 'there wasnt', 'the villains', 'the running', 'the older', 'the four', 'that great', 'that being', 'steals the', 'speaking of', 'someone to', 'skip this', 'see and', 'saw a', 'really do', 'purpose of', 'on stage', 'most important', 'minutes the', 'meets a', 'it deserves', 'is if', 'his movies', 'he comes', 'happened in', 'from some', 'forget the', 'following the', 'film really', 'film itself', 'down on', 'day i', 'caught up', 'can still', 'br he', 'be just', 'and tries', 'and put', 'and characters', 'alone in', 'who likes', 'tribute to', 'to throw', 'this mess', 'this just', 'this day', 'thinking of', 'the son', 'the blood', 'that wasnt', 'so called', 'san francisco', 'production of', 'overall the', 'of music', 'of and', 'much that', 'much and', 'movie br', 'making of', 'lacks the', 'just want', 'its funny', 'it down', 'in here', 'huge fan', 'he played', 'has it', 'gave me', 'from beginning', 'credit for', 'comedy but', 'cast are', 'br despite', 'bought the', 'be and', 'as that', 'and michael', 'and feel', 'an original', 'an important', 'an almost', 'again in', 'a review', 'a one', 'a highly', 'a day', 'with good', 'will ever', 'who wrote', 'when one', 'was better', 'very long', 'up this', 'turn it', 'to these', 'to return', 'to develop', 'title of', 'time a', 'this if', 'these things', 'there in', 'the west', 'the terrible', 'the murders', 'the military', 'the crime', 'that so', 'that not', 'talking to', 'respect for', 'real world', 'rate this', 'poor and', 'pieces of', 'past and', 'over to', 'or to', 'on you', 'on them', 'of years', 'of three', 'of john', 'must admit', 'movie were', 'movie itself', 'movie by', 'mind the', 'mean that', 'many things', 'is your', 'is horrible', 'instead it', 'image of', 'i hated', 'he needs', 'have taken', 'has got', 'good reason', 'good old', 'good guys', 'films as', 'few scenes', 'but on', 'better off', 'bad for', 'available on', 'are given', 'and your', 'and better', 'and because', 'an incredible', 'after another', 'actress and', 'a play', 'a handful', 'a disappointment', 'you who', 'years to', 'work but', 'with very', 'whom he', 'to new', 'to many', 'to imagine', 'to forget', 'to everyone', 'throw in', 'though its', 'the window', 'the standard', 'the less', 'thats it', 'so as', 'since this', 'simply because', 'shown on', 'shouldnt be', 'remember that', 'real people', 'quite well', 'premise is', 'portrait of', 'plot twists', 'part and', 'ought to', 'of ten', 'of plot', 'of old', 'nice and', 'more time', 'makers of', 'just in', 'is wrong', 'interesting but', 'i admit', 'history and', 'himself as', 'her way', 'her face', 'happy ending', 'great story', 'first the', 'films ever', 'ends with', 'end is', 'done it', 'dialog is', 'deserves a', 'day the', 'came from', 'but more', 'but has', 'besides the', 'associated with', 'appeared in', 'and another', 'an absolute', 'a straight', 'a million', 'a feeling', 'worst films', 'work as', 'who want', 'weak and', 'way but', 'variety of', 'us in', 'too and', 'to point', 'to discover', 'to destroy', 'though she', 'they need', 'the reasons', 'the photography', 'the latest', 'the filmmaker', 'the exact', 'that kind', 'that goes', 'than he', 'taking the', 'struggle to', 'shows how', 'seen on', 'see more', 'save this', 'same thing', 'point where', 'play and', 'off his', 'now in', 'nearly as', 'my friend', 'movies this', 'man to', 'just watched', 'its best', 'is her', 'is doing', 'introduced to', 'in several', 'in london', 'in history', 'im still', 'ill be', 'hes the', 'he gives', 'happen in', 'find yourself', 'film were', 'dont believe', 'dont be', 'by john', 'but really', 'br unfortunately', 'better but', 'believable and', 'another one', 'and often', 'and fun', 'and could', 'and actually', 'a zombie', 'a weak', 'a thriller', 'a shot', 'you expect', 'would go', 'while this', 'while not', 'which were', 'watch for', 'was totally', 'too old', 'they might', 'the visual', 'the low', 'the incredible', 'the baby', 'the academy', 'that dont', 'so to', 'save your', 'role but', 'or whatever', 'or another', 'only two', 'of hollywood', 'now a', 'my heart', 'movie also', 'living dead', 'life that', 'leaves you', 'learn that', 'it turned', 'is way', 'in comparison', 'i tried', 'hope to', 'head of', 'hate it', 'has more', 'girl is', 'films this', 'film doesnt', 'especially if', 'end when', 'does an', 'comes in', 'combined with', 'camera and', 'being able', 'be at', 'back into', 'all kinds', 'all he', 'again this', 'after reading', 'actors the', 'a personal', 'a mustsee', 'a cop', '20th century', 'you with', 'who looks', 'what does', 'were they', 'walked out', 'viewer to', 'using a', 'to listen', 'time or', 'think is', 'theres some', 'the younger', 'the tale', 'the media', 'the mark', 'the light', 'the internet', 'the heck', 'the german', 'the current', 'the bar', 'the answer', 'the aforementioned', 'the above', 'that with', 'that matter', 'tell a', 'somewhere in', 'showbr br', 'ridiculous and', 'point to', 'plan to', 'picks up', 'or more', 'opening credits', 'on any', 'of reality', 'need of', 'my vote', 'movies to', 'more the', 'more realistic', 'later the', 'knows how', 'killer is', 'just saw', 'it look', 'it ends', 'is little', 'is exactly', 'images of', 'i missed', 'his other', 'have that', 'funny i', 'film ive', 'felt the', 'father is', 'dont need', 'definitely one', 'choice of', 'charactersbr br', 'character to', 'cant really', 'buy the', 'but of', 'become the', 'basically the', 'are left', 'and ultimately', 'and time', 'and takes', 'and son', 'and plot', 'actually the', 'about all', 'a week', 'you had', 'would get', 'very nice', 'up of', 'two leads', 'together to', 'to walk', 'time watching', 'the phone', 'the making', 'the effect', 'the brilliant', 'that shes', 'that came', 'that anyone', 'strong and', 'spoilersbr br', 'sex scene', 'script the', 'score is', 'pleasantly surprised', 'people would', 'of nowhere', 'not see', 'morebr br', 'minutes in', 'meaning of', 'made with', 'love is', 'like him', 'leave you', 'know its', 'jokes are', 'ive read', 'its no', 'it first', 'is with', 'is pure', 'in common', 'im just', 'i consider', 'hilarious and', 'here it', 'had it', 'film they', 'fast forward', 'fan and', 'ever since', 'ever see', 'essence of', 'episodes of', 'ed wood', 'didnt seem', 'development of', 'creates a', 'characters to', 'cast in', 'by now', 'best in', 'anyway i', 'an entire', 'added to', 'act like', 'a heart', 'a change', 'your heart', 'you wonder', 'yet i', 'years earlier', 'with other', 'which will', 'what about', 'wasbr br', 'was based', 'very young', 'to drive', 'they used', 'the presence', 'the lost', 'the ghost', 'the funny', 'the conclusion', 'than his', 'surprised to', 'surprised that', 'stars in', 'stands out', 'shows us', 'she finds', 'roles in', 'point i', 'perhaps a', 'performances of', 'people dont', 'out from', 'or that', 'once you', 'on me', 'my favorites', 'my advice', 'looks and', 'leaves the', 'laugh and', 'it over', 'it he', 'it felt', 'is incredibly', 'involving a', 'i noticed', 'human beings', 'his characters', 'him i', 'her for', 'happy to', 'great performance', 'give him', 'for making', 'film we', 'film takes', 'face it', 'day of', 'casting of', 'came across', 'but these', 'but once', 'book is', 'better if', 'best movies', 'audience to', 'as wellbr', 'around him', 'are made', 'and violence', 'an enjoyable', 'you realize', 'woman is', 'were also', 'was with', 'was extremely', 'was awful', 'video game', 'very poor', 'very first', 'uses the', 'upon a', 'to video', 'to people', 'to much', 'timesbr br', 'thinking that', 'the south', 'the romance', 'the humour', 'the finale', 'the different', 'the absolute', 'sure what', 'suppose to', 'story or', 'some parts', 'show to', 'should see', 'see his', 'really want', 'really great', 'put a', 'pay for', 'original movie', 'of every', 'nothing of', 'notbr br', 'music was', 'more in', 'money for', 'men are', 'many films', 'man the', 'lion king', 'likes to', 'life on', 'its way', 'into her', 'insight into', 'in recent', 'i were', 'i need', 'his sister', 'he becomes', 'have become', 'happens in', 'guy with', 'good way', 'for so', 'for not', 'finds a', 'find themselves', 'enough the', 'dont let', 'doesnt take', 'deserves to', 'definitely the', 'comes back', 'but so', 'br director', 'br 4', 'best films', 'and watched', 'and instead', 'and forth', 'and actresses', 'an intelligent', 'although this', 'all her', 'all for', 'acting of', 'a totally', 'a silly', 'a doctor', 'a decade', 'a comic', 'a career', 'you liked', 'you i', 'workbr br', 'which this', 'what are', 'wasnt the', 'was wrong', 'was born', 'viewer is', 'us and', 'to wonder', 'this bad', 'they try', 'them with', 'them into', 'the list', 'the killers', 'the company', 'the beast', 'that every', 'soundtrack is', 'sorts of', 'role that', 'performances in', 'nothing like', 'not recommend', 'my god', 'my attention', 'musical numbers', 'movie after', 'more on', 'memories of', 'maybe a', 'many others', 'left out', 'is taken', 'is hardly', 'is forced', 'i honestly', 'human being', 'how you', 'his part', 'his eyes', 'he even', 'has gone', 'giving the', 'giving a', 'get her', 'for these', 'film seems', 'ever been', 'even after', 'escape from', 'didnt want', 'did you', 'de niro', 'but hey', 'becomes the', 'be quite', 'atmosphere and', 'and certainly', 'an older', 'although he', 'after they', 'after her', 'about any', 'a pity', 'a pair', 'a game', '1 out', 'you for', 'world that', 'will do', 'while they', 'were made', 'was truly', 'war ii', 'town and', 'too seriously', 'to face', 'to achieve', 'through and', 'this genre', 'there a', 'the victims', 'the victim', 'the rings', 'the reviews', 'the pain', 'the magic', 'the gang', 'the emotional', 'the constant', 'the blob', 'the 1970s', 'the 1930s', 'that actually', 'surrounded by', 'stories and', 'short film', 'she didnt', 'set out', 'screenbr br', 'same as', 'said i', 'right up', 'references to', 'plus the', 'our own', 'one as', 'ok but', 'of modern', 'of friends', 'not always', 'needs a', 'movie then', 'movie makes', 'morgan freeman', 'more fun', 'loss of', 'least in', 'killed in', 'its quite', 'isnt really', 'is fun', 'is filled', 'i usually', 'i especially', 'how good', 'good it', 'get an', 'for having', 'finally the', 'film br', 'feel sorry', 'feature film', 'didnt see', 'despite its', 'could make', 'comments on', 'characters is', 'cast members', 'br they', 'body of', 'becoming a', 'be it', 'basically a', 'at my', 'as there', 'are far', 'any real', 'and pretty', 'and far', 'an odd', 'an excuse', 'a third', 'a teenager', 'a normal', 'a lovely', 'a famous', 'a cute', 'a break', '2 the', '\\x96 and', 'youll see', 'you got', 'writer and', 'wish to', 'win the', 'which had', 'whats the', 'was such', 'up but', 'until he', 'understand how', 'too late', 'together the', 'to visit', 'to such', 'to reach', 'to provide', 'time she', 'though not', 'those people', 'this should', 'these scenes', 'themselves and', 'the political', 'the lighting', 'the author', 'the 50s', 'that takes', 'telling the', 'sound effects', 'scene i', 'role is', 'really wanted', 'realizes that', 'pretty well', 'power and', 'played a', 'particularly the', 'on which', 'of suspense', 'not saying', 'never see', 'my interest', 'movie takes', 'might as', 'many more', 'lets face', 'laughing at', 'just isnt', 'it simply', 'it right', 'it gives', 'is used', 'is out', 'into one', 'in high', 'in english', 'if someone', 'if any', 'horror and', 'home to', 'have their', 'good guy', 'giving it', 'first part', 'favor and', 'except that', 'enough and', 'easily the', 'dvd release', 'director who', 'director is', 'devoid of', 'delivers a', 'dead and', 'could easily', 'civil war', 'chose to', 'center of', 'br how', 'appears in', 'and left', 'all we', 'all very', 'admit i', 'acting i', 'a quick', 'a positive', 'a picture', 'a boring', 'youre going', 'you ask', 'wonder what', 'with lots', 'which she', 'which a', 'were trying', 'we got', 'trapped in', 'touch of', 'to eat', 'times it', 'time they', 'three times', 'this dvd', 'the times', 'the technical', 'the success', 'the simple', 'the mysterious', 'the initial', 'the hollywood', 'the earlier', 'the center', 'the awful', 'the 90s', 'the 2', 'that while', 'stephen king', 'stand out', 'so is', 'slow motion', 'seems a', 'searching for', 'scenebr br', 'scene to', 'released on', 'probably one', 'probably be', 'parody of', 'or some', 'of something', 'of real', 'never know', 'my rating', 'movie can', 'movie all', 'more entertaining', 'minutes i', 'meet the', 'me think', 'makes him', 'lived in', 'like many', 'let down', 'just what', 'its great', 'it being', 'is up', 'inspired by', 'in years', 'in charge', 'i realize', 'humor is', 'hope for', 'him so', 'had more', 'guys and', 'great cast', 'good things', 'give them', 'get any', 'for and', 'five years', 'films to', 'doesnt mean', 'depth and', 'cool and', 'comedy with', 'but why', 'but are', 'br an', 'beyond me', 'between two', 'bette davis', 'before she', 'bebr br', 'and music', 'and got', 'and family', 'and completely', 'also have', 'all my', 'actress who', 'a tad', 'a serial', 'a mysterious', 'a hollywood', 'a hit', '30 years', 'youre in', 'young boy', 'you read', 'would give', 'when all', 'what else', 'were more', 'was given', 'two men', 'too often', 'this site', 'the purpose', 'the odd', 'the golden', 'the filming', 'terrible and', 'still has', 'son and', 'simply a', 'seenbr br', 'script that', 'sat through', 'sad and', 'review of', 'reason the', 'really think', 'really didnt', 'reality and', 'proves that', 'poorly written', 'picture is', 'performance that', 'people the', 'out how', 'our hero', 'other in', 'on fire', 'of story', 'not about', 'music the', 'means that', 'me for', 'laughs and', 'knowledge of', 'keeps the', 'it one', 'is sent', 'if thats', 'house in', 'has seen', 'half a', 'good or', 'ever and', 'didnt work', 'despite being', 'costumes and', 'completely different', 'charming and', 'can go', 'br most', 'book but', 'blah blah', 'being said', 'being made', 'been able', 'and women', 'and soon', 'and both', 'and always', 'an affair', 'american pie', 'a police', 'a particularly', 'a fight', 'you didnt', 'would want', 'works in', 'works for', 'working on', 'work i', 'what its', 'what has', 'well be', 'we saw', 'unfortunately this', 'turns in', 'this great', 'this character', 'they think', 'then when', 'themselves in', 'the zombie', 'the visuals', 'the protagonist', 'the images', 'the husband', 'the front', 'the focus', 'the cartoon', 'terrible the', 'tells him', 'take over', 'storyline is', 'still in', 'sound like', 'sorry but', 'she goes', 'scenesbr br', 'saving grace', 'portrayed in', 'only that', 'once and', 'oh my', 'many scenes', 'man of', 'make for', 'light and', 'led by', 'keeps you', 'just bad', 'james bond', 'its obvious', 'it wont', 'it sounds', 'is portrayed', 'is especially', 'inbr br', 'in prison', 'his most', 'his mind', 'here that', 'he said', 'great actor', 'for himself', 'first episode', 'film should', 'film however', 'far away', 'else is', 'element of', 'down by', 'dont remember', 'dont miss', 'done the', 'do what', 'do have', 'cute and', 'child and', 'car and', 'brad pitt', 'be called', 'attached to', 'at once', 'as their', 'as opposed', 'art and', 'and story', 'and look', 'and dance', 'against a', 'again it', 'acted and', 'a slow', 'a regular', 'writing is', 'who actually', 'were really', 'was originally', 'used as', 'unique and', 'understanding of', 'told in', 'to cover', 'to appear', 'thought was', 'this wonderful', 'this whole', 'this man', 'the occasional', 'the area', 'that keeps', 'she seems', 'sense that', 'really not', 'reality of', 'points of', 'played in', 'no point', 'no good', 'movie we', 'movie she', 'mean the', 'long before', 'little of', 'let it', 'left behind', 'know is', 'know a', 'just seems', 'it well', 'is she', 'in town', 'in more', 'house is', 'her boyfriend', 'he might', 'he decides', 'have this', 'have said', 'great i', 'good performances', 'good looking', 'girls and', 'gave a', 'from me', 'found that', 'films such', 'expect a', 'either the', 'early in', 'dozens of', 'dont mind', 'dont go', 'different and', 'described as', 'creating a', 'course it', 'cinema and', 'cant remember', 'camera angles', 'br like', 'back at', 'awful the', 'at work', 'as ever', 'are excellent', 'and such', 'and gore', 'and editing', 'and death', 'also some', 'afraid to', 'about and', 'a war', 'a train', 'a minor', 'a gay', 'you if', 'wrong i', 'with another', 'well that', 'to stand', 'to present', 'to continue', 'times when', 'this its', 'theme song', 'the single', 'the dog', 'the brain', 'takes on', 'sweet and', 'some things', 'so there', 'shes not', 'she just', 'several years', 'series was', 'series the', 'sees the', 'regardless of', 'quite the', 'proud of', 'presented in', 'over her', 'out all', 'of gore', 'not waste', 'not understand', 'never got', 'music video', 'moments that', 'moments but', 'me feel', 'los angeles', 'little film', 'like these', 'least i', 'leading man', 'late night', 'last time', 'knew what', 'just got', 'ive always', 'isnt much', 'is particularly', 'interpretation of', 'i grew', 'however if', 'horror flick', 'homage to', 'his old', 'her that', 'he wasnt', 'he wanted', 'grown up', 'glad that', 'friday the', 'for several', 'for every', 'film industry', 'family is', 'falling in', 'face the', 'examples of', 'even at', 'etcbr br', 'end this', 'doubt that', 'doesnt matter', 'did have', 'couldnt be', 'come off', 'can understand', 'by saying', 'by people', 'br ps', 'big budget', 'being that', 'be there', 'as most', 'as im', 'are trying', 'another thing', 'another film', 'and where', 'almost no', 'al pacino', 'about itbr', 'a plane', 'a clue', 'you into', 'years in', 'would take', 'would rather', 'will leave', 'way for', 'way back', 'watch but', 'turn into', 'top notch', 'too but', 'to time', 'to solve', 'the wild', 'the usa', 'the state', 'the sexual', 'the romantic', 'the jungle', 'the elements', 'the creature', 'star of', 'several of', 'see an', 'script by', 'scene at', 'rob roy', 'revenge on', 'quality is', 'pointed out', 'performance from', 'off her', 'of several', 'movies were', 'message of', 'me at', 'man that', 'like her', 'kill him', 'its supposed', 'it seem', 'is from', 'in each', 'i took', 'how about', 'hoping to', 'him at', 'her career', 'have sex', 'first thing', 'film can', 'falls for', 'entertainment value', 'doesnt want', 'does his', 'discovers that', 'direction of', 'couldve been', 'couldnt have', 'characters have', 'case the', 'but very', 'br maybe', 'br do', 'bettie page', 'at your', 'at him', 'and little', 'and becomes', 'and any', 'amazing and', 'also be', 'all together', 'a try', 'a party', 'a father', 'what were', 'we would', 'way as', 'was some', 'was interesting', 'was hoping', 'was first', 'voice and', 'vision of', 'very similar', 'very disappointed', 'use a', 'up until', 'tone of', 'to include', 'this onebr', 'they know', 'the sea', 'the era', 'the context', 'the cold', 'the bank', 'the amount', 'that looks', 'than you', 'story a', 'she will', 'she meets', 'sense to', 'scenes from', 'said about', 'pay attention', 'pace and', 'or perhaps', 'or her', 'opens with', 'one time', 'of sex', 'of entertainment', 'of anything', 'now it', 'moving and', 'minutes or', 'mess of', 'meets the', 'many movies', 'loads of', 'lives and', 'least it', 'laugh out', 'ive heard', 'is usually', 'is having', 'in part', 'in england', 'in conclusion', 'ill give', 'if anything', 'i finally', 'i absolutely', 'horror fans', 'his fathers', 'her son', 'have thought', 'hate this', 'guess i', 'go wrong', 'go with', 'give up', 'getting the', 'get their', 'for our', 'everyone who', 'especially for', 'doesnt help', 'could never', 'cant stand', 'can remember', 'br still', 'best picture', 'awful i', 'at what', 'art of', 'are better', 'and character', 'again but', 'action film', 'a remarkable', 'a hero', 'a bizarre', 'a 3', 'with just', 'wit and', 'who lives', 'wasnt that', 'was for', 'was doing', 'up some', 'unfortunately it', 'to entertain', 'though and', 'things and', 'theyre not', 'they say', 'the village', 'the sheer', 'the home', 'the fbi', 'the blue', 'the amazing', 'thats how', 'that an', 'sure you', 'stop the', 'starting to', 'started watching', 'songs and', 'song and', 'so stupid', 'score by', 'scenery and', 'said this', 'right from', 'rid of', 'realized that', 'power to', 'plotbr br', 'plot or', 'pleasure to', 'period of', 'perhaps it', 'other movie', 'other film', 'no apparent', 'muchbr br', 'movie again', 'move on', 'love in', 'live up', 'like one', 'lets just', 'just couldnt', 'it tries', 'it fails', 'is simple', 'is poor', 'is obvious', 'in bed', 'idea to', 'his parents', 'hint of', 'hes been', 'help him', 'he thinks', 'having sex', 'have something', 'guys are', 'good actor', 'get my', 'genre and', 'funny moments', 'for in', 'find his', 'features a', 'fast and', 'faithful to', 'eye candy', 'editing is', 'director was', 'course i', 'can never', 'came up', 'but none', 'but how', 'brilliant and', 'both are', 'best actor', 'audience and', 'at every', 'around her', 'are simply', 'any sort', 'any good', 'and though', 'and since', 'and crew', 'and best', 'almost a', 'actors that', 'act of', 'act in', 'aboutbr br', 'a vampire', 'a sudden', 'a pleasant', 'a lack', 'a deep', 'a 7', 'you on', 'you laugh', 'women who', 'with in', 'will give', 'who loves', 'where this', 'were pretty', 'were good', 'ways to', 'was by', 'was already', 'waiting to', 'very enjoyable', 'times before', 'this short', 'this doesnt', 'they meet', 'theres something', 'then and', 'the naked', 'the makeup', 'the later', 'the extreme', 'the experience', 'the dancing', 'the dance', 'the closing', 'the bible', 'sympathy for', 'stay with', 'source of', 'sitting in', 'sight of', 'reduced to', 'really does', 'ready for', 'rating of', 'put this', 'plot in', 'played out', 'picture and', 'over it', 'original series', 'of women', 'next day', 'music score', 'mixture of', 'mind that', 'me when', 'me so', 'make some', 'made him', 'live action', 'like when', 'like she', 'knowing that', 'james stewart', 'its that', 'it probably', 'is is', 'is best', 'instead the', 'im afraid', 'here on', 'having been', 'guess that', 'great performances', 'great actors', 'goes through', 'goes for', 'glimpse of', 'give us', 'get better', 'film makes', 'father who', 'fans will', 'eyes of', 'every character', 'even be', 'does that', 'directed and', 'determined to', 'cheap and', 'can have', 'bound to', 'bought this', 'book the', 'better i', 'before this', 'before but', 'be no', 'be his', 'b movie', 'as someone', 'and paul', 'and original', 'an outstanding', 'all they', 'after it', 'adam sandler', 'a work', 'a twist', 'a sweet', 'a living', 'a far', '7 out', 'young people', 'yes its', 'woman with', 'with something', 'with most', 'why didnt', 'when youre', 'well have', 'was horrible', 'tv shows', 'to why', 'to share', 'to investigate', 'time around', 'thought to', 'those two', 'they still', 'there would', 'there arent', 'them they', 'the social', 'the plane', 'the party', 'the italian', 'the gun', 'the godfather', 'the feel', 'the effort', 'that gets', 'tension and', 'take this', 'soon after', 'so dont', 'so badly', 'since they', 'since its', 'show us', 'she plays', 'see something', 'score and', 'scifi channel', 'really doesnt', 'point and', 'performance was', 'others are', 'other reviews', 'only real', 'one which', 'one person', 'of everything', 'note the', 'not necessarily', 'not nearly', 'not great', 'not go', 'never had', 'much fun', 'most beautiful', 'miss the', 'minutesbr br', 'millions of', 'me on', 'me its', 'masterpiece of', 'man but', 'made i', 'lost his', 'load of', 'live with', 'knows that', 'knew that', 'kept me', 'just had', 'jackie chan', 'it before', 'is seen', 'is ridiculous', 'is highly', 'is happening', 'is fairly', 'involving the', 'i recently', 'however that', 'his love', 'he actually', 'have used', 'have liked', 'has something', 'good performance', 'goes into', 'funny it', 'funny at', 'from any', 'film starts', 'father of', 'evil and', 'ever had', 'even then', 'even remotely', 'etc etc', 'effects the', 'dvd i', 'down with', 'doubt the', 'doing this', 'do to', 'city and', 'by todays', 'but like', 'bring the', 'br watch', 'bought it', 'be this', 'are plenty', 'and these', 'and shes', 'and lots', 'and leaves', 'and here', 'and end', 'and direction', 'an obvious', 'a writer', 'a weird', 'a talented', 'a performance', 'a novel', 'a massive', 'a kids', 'a creepy', 'a b', 'you cannot', 'years the', 'year and', 'worth your', 'work out', 'who really', 'whether the', 'where is', 'when people', 'when hes', 'were supposed', 'well at', 'way you', 'way she', 'watch i', 'watch as', 'up i', 'unless youre', 'to watchbr', 'three of', 'this out', 'think a', 'they tried', 'there i', 'their lines', 'the vampire', 'the president', 'the master', 'the infamous', 'the essence', 'the details', 'the computer', 'the cgi', 'the 1980s', 'than they', 'taken seriously', 'subjected to', 'storyline and', 'so often', 'so funny', 'sitting through', 'simple and', 'set to', 'scenes which', 'scenes i', 'rip off', 'rich and', 'recommended for', 'really did', 'range of', 'provides a', 'production is', 'production and', 'probably not', 'peoplebr br', 'out it', 'original the', 'or you', 'one good', 'on here', 'on about', 'of talent', 'of most', 'of interest', 'murder of', 'much but', 'movies have', 'movie seems', 'movie only', 'michael caine', 'many many', 'made no', 'ive watched', 'it after', 'into something', 'intelligent and', 'in as', 'imagine the', 'his time', 'her from', 'her friends', 'he shows', 'ghost story', 'get his', 'focusing on', 'flat and', 'first to', 'facial expressions', 'everyone involved', 'episode is', 'eitherbr br', 'doing it', 'doctor who', 'daughter of', 'created a', 'couldnt even', 'convinced that', 'control of', 'context of', 'considered a', 'compare it', 'charm and', 'certainly a', 'best the', 'been much', 'be ashamed', 'ask for', 'are few', 'anything like', 'any one', 'and watching', 'and rather', 'and pointless', 'and lets', 'and kill', 'an extra', 'actors to', 'actors of', 'action in', 'acting as', 'account of', 'about some', 'a bar', '2 and', '15 years', 'wrong the', 'will keep', 'wife is', 'while she', 'whether it', 'were great', 'well its', 'well for', 'we will', 'we really', 'wasnt really', 'was ok', 'was definitely', 'version i', 'town of', 'took place', 'to spoil', 'to direct', 'to complete', 'this so', 'this project', 'they also', 'then its', 'their time', 'the weakest', 'the twist', 'the talent', 'the suspense', 'the strange', 'the rich', 'the price', 'the oscar', 'the lake', 'the fourth', 'the beach', 'the 13th', 'that that', 'team of', 'story for', 'stories are', 'spend the', 'some interesting', 'so great', 'short and', 'sets the', 'seriesbr br', 'robin williams', 'release of', 'portion of', 'plays an', 'part as', 'out if', 'out about', 'other way', 'other side', 'opinion the', 'of thembr', 'of someone', 'of garbage', 'of another', 'note that', 'not do', 'not by', 'new and', 'most famous', 'mention that', 'me from', 'made into', 'look forward', 'like any', 'leave it', 'lead character', 'kids are', 'its amazing', 'it they', 'it contains', 'is difficult', 'is coming', 'in so', 'impressed by', 'his death', 'her sister', 'he then', 'great fun', 'goes out', 'go in', 'first scene', 'films were', 'films is', 'films from', 'film shows', 'film isnt', 'few people', 'fan i', 'excellent film', 'enough but', 'enjoy a', 'end credits', 'doesnt do', 'description of', 'couldnt believe', 'compelled to', 'can easily', 'buy this', 'but my', 'but does', 'bother to', 'away in', 'are to', 'are shown', 'are completely', 'anyone with', 'and totally', 'and predictable', 'and keep', 'and ends', 'and definitely', 'an eye', 'all their', 'agree that', 'after an', 'actingbr br', 'a wide', 'a spoiler', 'a male', 'a ghost', 'a feature', 'a definite', 'a compelling', 'a christmas', 'a camera', 'a cameo', 'you all', 'with those', 'with bad', 'well if', 'was killed', 'want the', 'too i', 'tom hanks', 'to hit', 'to draw', 'time was', 'thought they', 'though is', 'this script', 'think she', 'thing was', 'they may', 'they actually', 'them this', 'the western', 'the soldiers', 'the shining', 'the scifi', 'the return', 'the record', 'the parents', 'the horrible', 'the forest', 'the fans', 'the critics', 'the animated', 'talk to', 'surprised by', 'story itself', 'stick with', 'sound of', 'some point', 'show but', 'she gives', 'sense the', 'screenplay and', 'roles and', 'rented it', 'remember it', 'reading this', 'probably a', 'plays his', 'perfect and', 'part was', 'out like', 'out its', 'other reviewers', 'oh well', 'not without', 'not on', 'murder and', 'movie without', 'more but', 'maybe they', 'makes sense', 'little boy', 'lines in', 'like something', 'life he', 'last scene', 'just watch', 'its definitely', 'is then', 'is slow', 'is less', 'in them', 'impression of', 'how far', 'hoping that', 'hell of', 'heard about', 'he starts', 'have fun', 'have enjoyed', 'had already', 'go ahead', 'given that', 'from time', 'film version', 'film did', 'few good', 'family in', 'even know', 'end to', 'effects of', 'each time', 'does what', 'discover that', 'did that', 'designed to', 'depth of', 'denzel washington', 'david lynch', 'christopher lee', 'characters of', 'br perhaps', 'br ok', 'best work', 'been written', 'be something', 'be released', 'bad enough', 'award for', 'are now', 'any better', 'animation and', 'and think', 'and starts', 'and none', 'and finds', 'and about', 'all sorts', 'accused of', 'a smile', 'a glimpse', 'a delightful', 'a clever', 'you hear', 'wrong and', 'with every', 'wife of', 'who thinks', 'what will', 'was right', 'was he', 'was fun', 'was far', 'two other', 'two movies', 'told me', 'todays standards', 'to wait', 'to rescue', 'to miss', 'to in', 'title is', 'time period', 'there has', 'then that', 'the television', 'the stuff', 'the shots', 'the negative', 'the location', 'the historical', 'the heroine', 'the fighting', 'the complete', 'that didnt', 'tells a', 'taking place', 'supporting characters', 'subject of', 'still is', 'started out', 'sorry to', 'sit back', 'show for', 'should never', 'she cant', 'series but', 'seen to', 'seen that', 'screenplay is', 'replaced by', 'really cant', 'provide a', 'proceeds to', 'place on', 'perfect example', 'people can', 'ones that', 'one man', 'one film', 'offbr br', 'of not', 'of god', 'no need', 'no exception', 'never made', 'much much', 'movie out', 'movie one', 'movie before', 'most memorable', 'more often', 'mind of', 'me if', 'may seem', 'master of', 'man he', 'like about', 'lame and', 'isnt as', 'is real', 'is here', 'in him', 'im surprised', 'his voice', 'he isnt', 'having an', 'have more', 'hard for', 'good if', 'full house', 'first season', 'films have', 'film one', 'film begins', 'feel for', 'excuse to', 'everything from', 'every day', 'ever heard', 'events in', 'ending that', 'disappointed with', 'development and', 'daybr br', 'daughter and', 'couldnt help', 'convincing as', 'complex and', 'christopher walken', 'can act', 'by no', 'but their', 'build up', 'boring the', 'believe i', 'bad thing', 'bad bad', 'as was', 'around to', 'are introduced', 'are even', 'are and', 'appearance of', 'anything in', 'and making', 'and action', 'and 2', 'almost like', 'all ages', 'after about', 'advantage of', 'above all', 'a treat', 'a political', 'a period', 'a parody', 'a double', 'won an', 'withbr br', 'will come', 'whole story', 'which we', 'which made', 'we want', 'we also', 'was something', 'was disappointed', 'walk out', 'vote is', 'uwe boll', 'until it', 'two things', 'truth is', 'touching and', 'took me', 'to join', 'to fit', 'title role', 'time we', 'through to', 'this new', 'this had', 'thingbr br', 'theres an', 'them that', 'their relationship', 'the summer', 'the situations', 'the sheriff', 'the remake', 'the radio', 'the lion', 'the highest', 'the content', 'the chase', 'the brothers', 'the alien', 'that something', 'that part', 'thank god', 'tells her', 'take my', 'sure its', 'suggest that', 'succeeds in', 'sign of', 'show with', 'she should', 'series i', 'seems as', 'said to', 'reference to', 'really isnt', 'plot i', 'play in', 'place the', 'person in', 'outer space', 'ok i', 'off on', 'off i', 'not take', 'necessary to', 'movies or', 'movies from', 'movies as', 'movie very', 'movie than', 'modern day', 'love that', 'line in', 'left in', 'later and', 'kid and', 'justice to', 'just makes', 'jim carrey', 'its kind', 'it started', 'is getting', 'is after', 'in theaters', 'in need', 'in almost', 'i truly', 'i figured', 'hoping for', 'him up', 'her head', 'her family', 'heard that', 'funny to', 'for fans', 'female lead', 'fell in', 'expecting to', 'except the', 'etc the', 'elements that', 'either of', 'died in', 'did and', 'did an', 'cheesy and', 'characters as', 'by making', 'but since', 'br thats', 'both in', 'books and', 'attracted to', 'attacked by', 'asked to', 'and less', 'and decided', 'an average', 'all so', 'after having', 'a thousand', 'a slightly', 'a most', 'a light', 'a fascinating', 'a charming', 'youll have', 'yearsbr br', 'world in', 'working in', 'wish that', 'wife who', 'who never', 'while in', 'which means', 'when there', 'we must', 'was obviously', 'victim of', 'very real', 'vehicle for', 'until they', 'unfortunately i', 'understand it', 'to raise', 'to decide', 'thought provoking', 'though there', 'though that', 'this all', 'think so', 'thing but', 'there have', 'them out', 'their first', 'the roles', 'the rock', 'the pilot', 'the outcome', 'the legendary', 'the dramatic', 'the bus', 'thats right', 'that seem', 'suggest you', 'study of', 'string of', 'still very', 'still not', 'stars and', 'so little', 'since then', 'she makes', 'share of', 'sequence of', 'seen before', 'screen the', 'role he', 'right away', 'really need', 'really be', 'realistic and', 'quality and', 'put up', 'prepared to', 'otherbr br', 'of sorts', 'nowbr br', 'not scary', 'not read', 'myself to', 'my review', 'my personal', 'much worse', 'movies for', 'movie thats', 'movie however', 'movie gets', 'mind you', 'me about', 'maybe he', 'maybe even', 'looked at', 'life was', 'its easy', 'it better', 'is presented', 'is perfectly', 'is dead', 'in space', 'in search', 'in japan', 'ideas and', 'i look', 'he may', 'hair and', 'had in', 'guys who', 'going into', 'gene kelly', 'funbr br', 'from him', 'for free', 'film then', 'few days', 'feel good', 'fantastic and', 'fact is', 'extremely well', 'experience of', 'events of', 'end with', 'either way', 'eddie murphy', 'doing so', 'doesnt look', 'dirty harry', 'different than', 'die hard', 'didnt do', 'creepy and', 'characters with', 'carry the', 'call this', 'by what', 'by someone', 'by having', 'by being', 'but somehow', 'but doesnt', 'br spoilers', 'be used', 'be interesting', 'back with', 'as funny', 'answer to', 'and simply', 'and shows', 'and set', 'and looks', 'an open', 'an ending', 'an all', 'again as', 'absence of', 'a wild', 'a rock', 'a realistic', 'a lame', 'a final', 'a country', 'a cartoon', 'you say', 'wouldve been', 'world where', 'work at', 'who works', 'while a', 'well enough', 'visual effects', 'up against', 'two characters', 'turn the', 'true that', 'this wasnt', 'this this', 'they take', 'they show', 'they become', 'them so', 'the worse', 'the system', 'the slow', 'the positive', 'the parts', 'the meaning', 'the lovely', 'the loss', 'the ladies', 'the days', 'the bbc', 'the audiences', 'that show', 'that hollywood', 'tends to', 'taken to', 'taken from', 'stuck with', 'story its', 'stock footage', 'starred in', 'something is', 'show how', 'seen him', 'see is', 'see all', 'scene which', 'romance and', 'really just', 'really funny', 'really care', 'read it', 'rate it', 'question is', 'play with', 'other is', 'other comments', 'or for', 'one you', 'of trash', 'of humour', 'of black', 'nowhere near', 'not yet', 'not work', 'not it', 'night i', 'never mind', 'makes her', 'looking to', 'lines are', 'legend of', 'lead role', 'kudos to', 'its probably', 'it went', 'is revealed', 'is boring', 'identify with', 'idea and', 'i strongly', 'home video', 'have found', 'have anything', 'has lost', 'hard time', 'gore is', 'good this', 'fresh and', 'forget that', 'for over', 'first but', 'find something', 'find in', 'even so', 'effect of', 'early 80s', 'could find', 'comes up', 'comedy the', 'check this', 'character but', 'cast the', 'cant see', 'better with', 'anyone to', 'and leave', 'an incredibly', 'an emotional', 'although there', 'all have', 'age and', 'add a', 'action movies', 'a werewolf', 'a tale', 'a surprisingly', 'a particular', 'a joy', 'a hot', 'a german', 'a french', 'a cool', '5 years', 'your attention', 'you still', 'years but', 'worse the', 'when in', 'what if', 'wearing a', 'us all', 'up from', 'two or', 'to open', 'to hate', 'to explore', 'thought he', 'this when', 'this that', 'think we', 'there that', 'them it', 'the while', 'the trouble', 'the mix', 'the cop', 'that both', 'speak of', 'show on', 'she really', 'seen some', 'same old', 'recommend you', 'really get', 'produced by', 'pretending to', 'people is', 'people but', 'orson welles', 'original story', 'opening sequence', 'only if', 'of nudity', 'of men', 'not i', 'music in', 'much from', 'leading lady', 'language and', 'kid who', 'keep it', 'just wanted', 'its release', 'its original', 'it needs', 'it cant', 'it became', 'is playing', 'is okay', 'is essentially', 'in i', 'imagine that', 'hope it', 'highlight of', 'her parents', 'her name', 'have only', 'have known', 'have already', 'hasnt been', 'half an', 'go watch', 'gives him', 'gives an', 'game of', 'forget about', 'few things', 'falls into', 'end result', 'each others', 'documentary about', 'could only', 'comedy i', 'come in', 'character as', 'case with', 'cant imagine', 'but without', 'but maybe', 'but an', 'bored and', 'body and', 'better movie', 'best way', 'been released', 'been given', 'because hes', 'because a', 'be surprised', 'battle of', 'audiencebr br', 'at each', 'and seems', 'and once', 'and james', 'and gave', 'and full', 'and despite', 'and david', 'an innocent', 'an art', 'also an', 'again to', 'actors i', 'act and', 'about 10', 'a tiny', 'a night', 'a natural', 'a lifetime', 'a british', '2 is', 'your kids', 'your face', 'wonderful film', 'why she', 'who do', 'who comes', 'which could', 'which also', 'were still', 'were only', 'were going', 'we watch', 'was perfect', 'violent and', 'values and', 'twenty years', 'turned it', 'to teach', 'to support', 'to grow', 'to beat', 'to allow', 'through their', 'this up', 'thing as', 'they couldnt', 'then she', 'then in', 'the stupid', 'the strength', 'the storybr', 'the ideas', 'the business', 'the attention', 'the animals', 'that shows', 'tell that', 'sure i', 'still i', 'some funny', 'silent film', 'shot at', 'seen by', 'search of', 'reason this', 'reason that', 'powerful and', 'please do', 'photography and', 'perfect as', 'own right', 'or how', 'opinion is', 'one where', 'one out', 'one else', 'on board', 'ok so', 'of no', 'novel and', 'night in', 'new orleans', 'never quite', 'my grade', 'my father', 'movies about', 'more movies', 'maybe this', 'maybe not', 'make her', 'looking like', 'lighting and', 'lies in', 'leader of', 'know and', 'is terrific', 'is equally', 'is enough', 'in south', 'important to', 'idea is', 'id have', 'i bet', 'however as', 'how does', 'his hands', 'her with', 'head with', 'he still', 'he couldnt', 'has little', 'half way', 'had this', 'had nothing', 'great movies', 'good points', 'good laugh', 'girls are', 'for anything', 'first it', 'first few', 'films for', 'film all', 'fall into', 'expect the', 'dont you', 'do but', 'directing and', 'destroy the', 'could tell', 'characters i', 'character a', 'change of', 'cant think', 'buy a', 'be told', 'be shown', 'any time', 'and whats', 'and theyre', 'and start', 'and sex', 'and said', 'and mr', 'and believable', 'an annoying', 'although its', 'already been', 'all right', 'aimed at', 'accompanied by', 'a two', 'a theater', 'a spoof', 'a slasher', 'a silent', 'a monster', 'a master', 'a lesson', 'a fantasy', 'a 4', '\\x96 the', 'you take', 'you probably', 'you how', 'wrongbr br', 'writers and', 'would seem', 'worst thing', 'with people', 'who love', 'which may', 'where all', 'when her', 'we just', 'very best', 'very believable', 'typical of', 'treatment of', 'to sing', 'to prevent', 'to myself', 'this woman', 'this does', 'they only', 'they arent', 'themes of', 'the silent', 'the rather', 'the piece', 'the legend', 'the highlight', 'the creators', 'the crap', 'the color', 'the 1960s', 'that those', 'that everything', 'that by', 'tells us', 'tell us', 'struggling to', 'something in', 'some ways', 'social commentary', 'show off', 'sequences are', 'seen but', 'run by', 'remember seeing', 'really makes', 'pointbr br', 'parts that', 'parents and', 'par with', 'overall a', 'over all', 'out who', 'one on', 'on every', 'of world', 'of others', 'of high', 'new to', 'movie im', 'more important', 'more a', 'mentioned the', 'made on', 'lot and', 'long after', 'light of', 'leading to', 'knows what', 'killed the', 'just look', 'just been', 'john wayne', 'its interesting', 'its because', 'it while', 'it reminds', 'it once', 'it hard', 'it ever', 'is worse', 'is weak', 'is said', 'interesting the', 'in full', 'in different', 'in cinema', 'hes just', 'hero and', 'here its', 'her home', 'have in', 'has her', 'got this', 'giving this', 'given it', 'get over', 'get more', 'fun movie', 'for real', 'flick and', 'fit the', 'fear and', 'every way', 'every episode', 'escape the', 'enjoyable and', 'character actors', 'cary grant', 'can give', 'br rating', 'both films', 'book i', 'behind this', 'be with', 'awaybr br', 'as other', 'as all', 'are watching', 'are either', 'and loved', 'and highly', 'and exciting', 'and each', 'an english', 'an awesome', 'all other', 'alive and', 'a victim', 'a home', 'a filmmaker', 'your friends', 'youll find', 'works as', 'worked on', 'with real', 'with both', 'whole family', 'who tries', 'who finds', 'which can', 'when watching', 'were no', 'was worth', 'was simply', 'was shown', 'was directed', 'viewing this', 'very beginning', 'value of', 'togetherbr br', 'to warn', 'to sum', 'to something', 'to send', 'to anything', 'those in', 'they werent', 'they wanted', 'they put', 'the universe', 'the space', 'the source', 'the sad', 'the producer', 'the proceedings', 'the morning', 'the impact', 'the imagination', 'the image', 'the crowd', 'the basis', 'thats where', 'takes to', 'surprised me', 'sure there', 'story this', 'stories of', 'sometimes the', 'sick and', 'show this', 'shots and', 'see any', 'screen with', 'rock and', 'right the', 'remember this', 'only seen', 'one will', 'one if', 'one big', 'of way', 'of trying', 'now this', 'nothing happens', 'nothing and', 'no such', 'no redeeming', 'no means', 'more then', 'more from', 'more for', 'michael jackson', 'memory of', 'makes up', 'make his', 'love you', 'learn to', 'knew it', 'just before', 'its actually', 'isnt it', 'is neither', 'is merely', 'is back', 'inside a', 'in horror', 'in action', 'i caught', 'however in', 'how well', 'his body', 'himself is', 'he gave', 'he feels', 'have enough', 'has so', 'had done', 'guess it', 'good movies', 'gets into', 'gets his', 'fun with', 'for children', 'fire and', 'few films', 'far superior', 'fans and', 'exciting and', 'excellent job', 'even to', 'entire cast', 'ending the', 'do much', 'created by', 'couldnt get', 'could watch', 'comedy it', 'but shes', 'br title', 'better film', 'belongs to', 'being so', 'because in', 'audience in', 'as when', 'are one', 'apparent reason', 'and youre', 'and want', 'and tells', 'and moving', 'and evil', 'an easy', 'america and', 'acting from', 'acting but', 'about one', 'about in', 'a warning', 'a variety', 'a song', 'a room', 'a mental', 'a member', 'a journey', 'a free', 'a computer', 'a complex', 'a budget', '8 out', 'you wouldnt', 'you did', 'yes there', 'work to', 'winds up', 'well you', 'way a', 'watch with', 'watch if', 'was thinking', 'voice is', 'very low', 'version and', 'used the', 'under a', 'true love', 'told that', 'to hell', 'to cut', 'through all', 'three years', 'this you', 'this part', 'this made', 'the train', 'the table', 'the sentinel', 'the project', 'the plots', 'the nazis', 'the mid', 'the language', 'the land', 'the issue', 'the giant', 'the five', 'the fantastic', 'the execution', 'the disney', 'the choice', 'that gives', 'that do', 'spent on', 'show as', 'screen in', 'scary and', 'saw that', 'ripped off', 'regarding the', 'really well', 'really made', 'quite an', 'problem i', 'plays out', 'people he', 'part the', 'own and', 'out after', 'our lives', 'or three', 'or an', 'only other', 'only hope', 'one its', 'once i', 'once a', 'on vhs', 'on display', 'of dialogue', 'of control', 'of age', 'now but', 'not think', 'never thought', 'never even', 'name and', 'much on', 'movies which', 'movies where', 'movie wasnt', 'movie did', 'mention of', 'material and', 'looks as', 'lines that', 'like what', 'like them', 'life for', 'life a', 'let him', 'late in', 'kids to', 'kids in', 'just made', 'it what', 'it lacks', 'isnt one', 'is stupid', 'is part', 'is nice', 'is kind', 'include the', 'in turn', 'in trouble', 'in just', 'in good', 'ignore the', 'id rather', 'i mentioned', 'how anyone', 'his home', 'has come', 'has any', 'guy that', 'get through', 'for both', 'fit in', 'films he', 'film she', 'few movies', 'favorite of', 'everything was', 'every movie', 'enjoy watching', 'ending which', 'ending and', 'dvd is', 'during his', 'dont do', 'cup of', 'complete waste', 'comedy in', 'come close', 'character he', 'changed the', 'can imagine', 'came on', 'brings a', 'br many', 'br is', 'br avoid', 'bother with', 'best i', 'being one', 'been on', 'be really', 'be i', 'be but', 'based upon', 'are probably', 'are people', 'are bad', 'another and', 'and suspense', 'and sound', 'and says', 'and laugh', 'and hope', 'and cant', 'also there', 'also like', 'almost the', 'afraid of', 'acting bad', 'a remote', 'a pleasure', 'a nightmare', 'a hundred', 'a hilarious', 'a gem', 'a dull', 'a bigger', 'a 5', '2 out', 'you this', 'works of', 'will happen', 'who takes', 'who makes', 'who becomes', 'where there', 'when someone', 'what people', 'what im', 'were too', 'way into', 'was used', 'was put', 'was pleasantly', 'was kind', 'war is', 'van damme', 'used for', 'two young', 'two and', 'to scare', 'to gain', 'to experience', 'to as', 'those are', 'this classic', 'theater and', 'the voices', 'the students', 'the spanish', 'the sequence', 'the run', 'the moral', 'the grinch', 'the corner', 'the club', 'the cheap', 'the bizarre', 'the 20th', 'sure this', 'stuff like', 'strength of', 'stay in', 'south park', 'sound and', 'something you', 'something and', 'some way', 'small role', 'slasher film', 'set pieces', 'set and', 'sci fi', 'says it', 'sad to', 'ruin the', 'results in', 'rest is', 'resemblance to', 'redeeming qualities', 'recommend that', 'quite possibly', 'put to', 'potential to', 'pointless and', 'plot has', 'paid to', 'out why', 'other times', 'or as', 'opinion of', 'only does', 'one really', 'one character', 'on those', 'old fashioned', 'of himself', 'of getting', 'of different', 'nothing special', 'not knowing', 'not having', 'no time', 'no story', 'no problem', 'never gets', 'movie what', 'moved to', 'most notably', 'money back', 'message that', 'man on', 'makes his', 'makes an', 'make no', 'main problem', 'life it', 'later i', 'last year', 'know of', 'kills the', 'killed and', 'itself the', 'its true', 'its characters', 'it since', 'it no', 'it leaves', 'it ended', 'is sometimes', 'in places', 'i rate', 'i particularly', 'i looked', 'honest i', 'his next', 'his dad', 'himself the', 'hes in', 'herself in', 'he uses', 'he tells', 'he kills', 'he falls', 'he always', 'having said', 'has only', 'has already', 'grow up', 'go down', 'gang of', 'from watching', 'from outer', 'for which', 'film than', 'film goes', 'fairy tale', 'ever i', 'ever be', 'end in', 'elm street', 'each one', 'days and', 'cut to', 'contains a', 'common sense', 'come together', 'character with', 'can really', 'call the', 'by robert', 'by many', 'but theyre', 'br once', 'blair witch', 'be missed', 'be hard', 'band of', 'at last', 'assume that', 'are used', 'are truly', 'are that', 'are out', 'appeared to', 'anyone can', 'and somehow', 'and simple', 'and george', 'an ancient', 'all just', 'actors but', 'across a', 'a watch', 'a visual', 'a relationship', 'a genius', 'a damn', '40 years', '3 out', 'your typical', 'you believe', 'would just', 'working with', 'worked for', 'with which', 'with plenty', 'with nothing', 'whoopi goldberg', 'weve seen', 'we meet', 'way its', 'watch in', 'was rather', 'was nice', 'was clearly', 'was another', 'war in', 'very realistic', 'twenty minutes', 'tradition of', 'tobr br', 'to overcome', 'to most', 'to express', 'to ever', 'to comment', 'title brazil', 'time if', 'things up', 'things the', 'they use', 'they start', 'these actors', 'there he', 'the total', 'the themes', 'the store', 'the sight', 'the russian', 'the news', 'the left', 'the leader', 'the gay', 'the courage', 'that got', 'that did', 'than her', 'supporting role', 'style is', 'straight out', 'store and', 'still it', 'start the', 'star is', 'south africa', 'something so', 'something a', 'so for', 'shot the', 'she never', 'sets are', 'serves as', 'script for', 'scene from', 'say anything', 'rolebr br', 'richard widmark', 'read that', 'problems and', 'police and', 'plans to', 'peter falk', 'people as', 'or was', 'one episode', 'on our', 'on both', 'of laughs', 'of about', 'now its', 'now if', 'noticed that', 'nothing short', 'not believe', 'nor the', 'never a', 'needed a', 'movie theater', 'movie shows', 'movie making', 'mother is', 'most importantly', 'miss this', 'miss it', 'mean i', 'man i', 'made but', 'look out', 'last film', 'its nice', 'it though', 'it my', 'it means', 'it definitely', 'is laughable', 'is clear', 'is already', 'in heaven', 'in europe', 'in by', 'id give', 'id be', 'home in', 'hits the', 'his previous', 'herself and', 'help from', 'he loves', 'he keeps', 'has in', 'hardly any', 'guess what', 'good about', 'goes from', 'get that', 'get on', 'funny or', 'fun at', 'finds the', 'fight with', 'few and', 'familybr br', 'family of', 'fall for', 'explain the', 'every one', 'even some', 'even bother', 'enter the', 'emphasis on', 'each character', 'done better', 'does nothing', 'did with', 'death in', 'de palma', 'cut out', 'cult classic', 'crush on', 'course is', 'country and', 'could possibly', 'could ever', 'considering that', 'certainly the', 'caught in', 'cant understand', 'but sadly', 'but ive', 'but from', 'burt reynolds', 'br though', 'bothered to', 'book of', 'best known', 'behind it', 'be for', 'aware that', 'ask me', 'as my', 'are several', 'are often', 'anyone in', 'and seeing', 'and kills', 'and dull', 'and done', 'and annoying', 'an end', 'also had', 'already know', 'all she', 'all at', 'admit it', 'above average', 'about these', 'about its', 'a thoroughly', 'a ride', 'a mere', 'a la', 'a collection', 'a clear', '3 the', 'you not', 'written on', 'would ever', 'words to', 'wish they', 'whole new', 'who may', 'was way', 'wake up', 'voiced by', 'used a', 'trouble with', 'to star', 'to rate', 'to note', 'to hollywood', 'to focus', 'to commit', 'those days', 'this work', 'this sequel', 'this garbage', 'thinking it', 'their heads', 'the walls', 'the sopranos', 'the silly', 'the rules', 'the plague', 'the owner', 'the narrator', 'the mad', 'the journey', 'the invisible', 'the hills', 'the fine', 'the core', 'the conflict', 'the adult', 'the 1st', 'that well', 'that after', 'terrible acting', 'take away', 'sympathize with', 'supporting actors', 'superior to', 'streets of', 'stories that', 'star and', 'some decent', 'some bad', 'simple story', 'shortly after', 'root for', 'right at', 'remains a', 'relies on', 'recent years', 'reason and', 'really had', 'probably because', 'other two', 'or other', 'only time', 'only problem', 'only by', 'only about', 'one way', 'one other', 'one movie', 'of pure', 'of light', 'novel by', 'not my', 'nor is', 'no chemistry', 'movies you', 'mother who', 'moment when', 'minutes to', 'might just', 'messed up', 'mean it', 'make us', 'learns that', 'knows the', 'kids movie', 'just when', 'just seemed', 'just goes', 'ive got', 'it wouldnt', 'it says', 'it im', 'it dont', 'is possibly', 'is meant', 'is making', 'is any', 'involves a', 'instead we', 'if hes', 'i made', 'i left', 'i fell', 'however there', 'hour or', 'his victims', 'his hand', 'him or', 'her new', 'her body', 'henry fool', 'hell is', 'he manages', 'great idea', 'girls in', 'gave us', 'for once', 'flick but', 'finish the', 'fine job', 'fine but', 'finds that', 'find myself', 'film more', 'film before', 'feel as', 'faith in', 'everything he', 'etc but', 'end was', 'effects that', 'easier to', 'dvd of', 'director has', 'didnt expect', 'details of', 'decision to', 'death the', 'coupled with', 'coming back', 'choice for', 'characterbr br', 'character has', 'case it', 'case in', 'career and', 'but other', 'br having', 'blend of', 'big time', 'beginning with', 'be put', 'be happy', 'be any', 'bad they', 'back when', 'avoid at', 'around for', 'are much', 'are forced', 'anywaybr br', 'and wants', 'and looking', 'and enjoyable', 'and dark', 'an 8', 'actress in', 'a tragic', 'a red', 'a quiet', 'a mistake', 'a memorable', 'a lowbudget', 'a japanese', 'a hospital', 'a genuine', 'a body', 'you make', 'writing was', 'wonderful and', 'will take', 'who goes', 'who gave', 'who didnt', 'while there', 'which should', 'what hes', 'was what', 'was of', 'was amazing', 'view the', 'video and', 'very talented', 'very short', 'very important', 'very convincing', 'up their', 'up her', 'unfortunately for', 'twilight zone', 'to track', 'to stick', 'to notice', 'to finally', 'to endure', 'to both', 'to america', 'title character', 'them on', 'them at', 'the weak', 'the ridiculous', 'the relationships', 'the possibility', 'the navy', 'the monsters', 'the lowest', 'the grand', 'the facts', 'the deaths', 'the common', 'the apes', 'that theyre', 'that maybe', 'that includes', 'that cant', 'strongly recommend', 'soundtrack and', 'slasher flick', 'sit down', 'since there', 'shot with', 'set on', 'series in', 'sequence in', 'seen all', 'seem a', 'second part', 'scene but', 'say something', 'sat down', 'same name', 'room and', 'role i', 'ripoff of', 'refers to', 'really that', 'really know', 'reaction to', 'poor acting', 'plot with', 'performance the', 'overall it', 'over i', 'one hand', 'off for', 'of history', 'of four', 'of big', 'of america', 'notice that', 'nearly every', 'mystery science', 'music to', 'movies it', 'movie goes', 'mean to', 'masters of', 'makeup and', 'make their', 'madebr br', 'lot like', 'lost the', 'looks at', 'look to', 'let them', 'least for', 'laughed at', 'las vegas', 'lady in', 'known to', 'keep his', 'just wasnt', 'just some', 'just finished', 'itselfbr br', 'its in', 'it tells', 'is impossible', 'is different', 'is awesome', 'instead i', 'indeed the', 'in modern', 'i wasted', 'i assume', 'husband is', 'humour and', 'however when', 'how do', 'house that', 'hours and', 'hope they', 'hold of', 'his lines', 'his brothers', 'him by', 'heres a', 'here was', 'have left', 'have heard', 'hate to', 'happens when', 'had its', 'good with', 'given this', 'friend who', 'film opens', 'fell asleep', 'feelings of', 'especially with', 'earth and', 'donald sutherland', 'disappointed by', 'depicted in', 'day in', 'courage to', 'could say', 'comments about', 'child is', 'character actor', 'can also', 'but ill', 'brother is', 'br please', 'book was', 'bits of', 'best but', 'bela lugosi', 'because that', 'because im', 'be expected', 'bad taste', 'back i', 'as others', 'are almost', 'anyone could', 'and touching', 'and special', 'and sad', 'and richard', 'and id', 'and become', 'an independent', 'also quite', 'also one', 'all things', 'ahead and', 'actually i', 'acting ability', 'about love', 'about 5', 'a wife', 'a school', 'a negative', 'a mans', 'a load', 'a line', 'a kick', 'a close', 'a christian', 'a 9', '40 minutes', 'youll get', 'you it', 'you actually', 'worse and', 'work that', 'wondering if', 'with our', 'why was', 'why people', 'who you', 'who got', 'where are', 'were well', 'went out', 'way with', 'way or', 'violence is', 'very least', 'truly awful', 'too good', 'to reveal', 'to every', 'through in', 'this from', 'third of', 'think there', 'the really', 'the nice', 'the national', 'the kitchen', 'the indian', 'the haunting', 'the development', 'the depth', 'the bourne', 'the boat', 'the 30s', 'that other', 'that happens', 'than she', 'than once', 'test of', 'terrible movie', 'talents of', 'sure but', 'stuff that', 'story by', 'start a', 'spend a', 'something new', 'someone is', 'sobr br', 'so poorly', 'so im', 'so and', 'show has', 'shame on', 'shame because', 'sequence is', 'sense at', 'saw in', 'santa claus', 'run away', 'right on', 'right after', 'refused to', 'referred to', 'red sox', 'reach the', 'rather a', 'question of', 'quest to', 'producers and', 'produce a', 'portrayed by', 'police officer', 'plot it', 'plan 9', 'place where', 'people say', 'people do', 'own life', 'overbr br', 'or rather', 'on so', 'of society', 'of showing', 'of humanity', 'of fact', 'of british', 'of 5', 'obviously a', 'now on', 'now im', 'not seem', 'my family', 'moments the', 'makes them', 'main reason', 'law and', 'laurel and', 'last few', 'kill a', 'joy to', 'its better', 'it we', 'it some', 'it happens', 'is their', 'is missing', 'is generally', 'in various', 'in but', 'in at', 'images and', 'if nothing', 'id recommend', 'i recall', 'horrible and', 'holes in', 'his former', 'his boss', 'him is', 'her on', 'he begins', 'have such', 'has taken', 'has many', 'hands on', 'had one', 'good cast', 'goes back', 'gives you', 'frank sinatra', 'for themselves', 'films it', 'film after', 'feel it', 'family film', 'excellent movie', 'even worth', 'even think', 'ending i', 'dreams of', 'downbr br', 'dose of', 'does she', 'do like', 'disappointed in', 'despite all', 'desperate to', 'culture and', 'course there', 'contrast to', 'confusing and', 'change in', 'cast that', 'can enjoy', 'by those', 'by my', 'but ultimately', 'but again', 'br she', 'br here', 'biggest problem', 'between her', 'better for', 'beforebr br', 'been watching', 'beat the', 'be much', 'battle scenes', 'bad things', 'back story', 'avoid it', 'as another', 'are an', 'another great', 'and use', 'and tell', 'and robert', 'and our', 'and last', 'and felt', 'and dancing', 'an effort', 'am glad', 'always the', 'also starring', 'all are', 'access to', 'a top', 'a name', 'a music', 'a horse', 'a hint', 'a gang', 'a delight', 'a comment', '80s and', '19th century', 'younger brother', 'youll never', 'years since', 'with not', 'with is', 'why we', 'who she', 'which you', 'which isnt', 'where his', 'whatever the', 'what seems', 'well not', 'well he', 'weird and', 'we follow', 'watching and', 'until she', 'tv movies', 'track down', 'too young', 'to impress', 'to drag', 'thing you', 'thing it', 'they look', 'they live', 'the tragedy', 'the term', 'the shooting', 'the portrayal', 'the park', 'the office', 'the lord', 'the influence', 'the huge', 'the gorgeous', 'the charm', 'the camp', 'the building', 'the all', 'the 3', 'that era', 'that also', 'surprised at', 'superb and', 'still alive', 'stewart and', 'some are', 'society and', 'singing and', 'serious and', 'seen many', 'section of', 'rent the', 'reminded of', 'recommend the', 'put out', 'proved to', 'place at', 'performancebr br', 'parts are', 'part 2', 'one liners', 'on by', 'of very', 'of little', 'of itbr', 'of in', 'of hope', 'of dr', 'obviously the', 'obvious and', 'nothing really', 'no surprise', 'no character', 'next door', 'nancy drew', 'movie though', 'movie more', 'most boring', 'missing the', 'message is', 'merely a', 'many different', 'man has', 'made some', 'liked to', 'learn about', 'late at', 'kids who', 'keep a', 'just awful', 'journey to', 'job but', 'job at', 'it without', 'it thats', 'it left', 'it isbr', 'isnt very', 'is predictable', 'into some', 'inability to', 'in movie', 'in doing', 'if theres', 'i spent', 'i remembered', 'i mention', 'i for', 'his past', 'his movie', 'high expectations', 'herself to', 'her into', 'he only', 'have yet', 'has very', 'has that', 'had all', 'got into', 'god and', 'get your', 'get past', 'forget it', 'fond of', 'fit into', 'film never', 'film looks', 'favorite movie', 'fan but', 'experience the', 'ever the', 'ever get', 'events and', 'even close', 'episode i', 'enters the', 'emotions and', 'effect on', 'drugs and', 'dont seem', 'donebr br', 'does is', 'dobr br', 'do well', 'disappointedbr br', 'depth to', 'depending on', 'confused and', 'complain about', 'clever and', 'charge of', 'characters from', 'car chases', 'cant make', 'camera is', 'but alas', 'bruce lee', 'british film', 'brings the', 'br very', 'br these', 'br ill', 'became the', 'be worth', 'be watching', 'be watched', 'be remembered', 'be great', 'be fair', 'be entertained', 'be described', 'bad script', 'as these', 'as mr', 'are portrayed', 'are of', 'are doing', 'appears as', 'anyone would', 'and sets', 'and poor', 'and overall', 'and jack', 'and horror', 'and decides', 'an idiot', 'amongst the', 'amazed at', 'also good', 'after she', 'actors like', 'actors do', 'action the', 'about 20', 'a stunning', 'a string', 'a set', 'a mad', 'a less', 'a dramatic', 'a disaster', 'a criminal', 'a common', '70s and', '1 the', '1 and', 'your average', 'young women', 'youd think', 'year of', 'writing this', 'would see', 'wondering why', 'wonderful as', 'witty and', 'while being', 'what little', 'what did', 'way is', 'was nominated', 'was her', 'was hard', 'was brilliant', 'was boring', 'war the', 'view it', 'use it', 'up like', 'two stars', 'two are', 'totally different', 'too short', 'told by', 'together they', 'today and', 'to tears', 'to dvd', 'to blame', 'till the', 'they went', 'they took', 'their life', 'the weird', 'the thought', 'the so', 'the rain', 'the protagonists', 'the pleasure', 'the natural', 'the murderer', 'the masses', 'the graphics', 'the fire', 'the fall', 'the emperor', 'the dream', 'the bathroom', 'the 1990s', 'that very', 'taste in', 'steal the', 'spot on', 'spinal tap', 'somethingbr br', 'something for', 'some real', 'show you', 'sexy and', 'says he', 'room for', 'role for', 'right out', 'really hard', 'pull off', 'proves to', 'proof that', 'pretty cool', 'points in', 'placebr br', 'paid for', 'owner of', 'over by', 'others in', 'others and', 'other the', 'original but', 'only person', 'only as', 'on elm', 'on as', 'older than', 'off this', 'of why', 'of themselves', 'of screen', 'of person', 'of nothing', 'of filmmaking', 'of family', 'now we', 'not particularly', 'not find', 'nightmare on', 'never saw', 'near as', 'my parents', 'my local', 'much too', 'movies such', 'movies is', 'move the', 'more people', 'more enjoyable', 'mood for', 'minute of', 'man was', 'look into', 'longer than', 'long enough', 'little better', 'like hes', 'leaves a', 'least once', 'knowbr br', 'know but', 'king kong', 'killer and', 'jimmy stewart', 'its story', 'its never', 'it remains', 'it features', 'is surprisingly', 'is put', 'is lost', 'is looking', 'is found', 'is entirely', 'is entertaining', 'is considered', 'is beautifully', 'into my', 'in mexico', 'in china', 'in about', 'i imagine', 'i definitely', 'i certainly', 'humor in', 'horror genre', 'his dream', 'him when', 'high hopes', 'hero is', 'here with', 'here she', 'head in', 'he discovers', 'have at', 'haunted by', 'hardly a', 'hard and', 'hand and', 'had any', 'greatbr br', 'got his', 'good example', 'good a', 'gone to', 'get you', 'get rid', 'george c', 'game and', 'from another', 'forbr br', 'film without', 'film only', 'film history', 'few more', 'favorite movies', 'family to', 'fact this', 'fact its', 'excellent in', 'earth is', 'each scene', 'drawn out', 'drawn into', 'down as', 'does so', 'did like', 'describe the', 'definitely recommend', 'cross between', 'comparison to', 'claims to', 'citizen kane', 'cinematography was', 'choose to', 'chased by', 'chance of', 'certainly is', 'cat and', 'cant find', 'by two', 'but will', 'but lets', 'but do', 'br good', 'both have', 'boringbr br', 'believable as', 'before a', 'been to', 'because if', 'because his', 'be given', 'attempted to', 'at other', 'are like', 'anyone that', 'and worse', 'and unfortunately', 'and saw', 'and lack', 'and emotional', 'an interview', 'among them', 'along and', 'all out', 'air of', 'about life', 'a wonderfully', 'a town', 'a touching', 'a success', 'a proper', 'a professional', 'a moving', 'a key', 'a historical', 'a higher', 'a fellow', 'a crazy', 'a combination', 'youve ever', 'yourself to', 'written for', 'would happen', 'working for', 'woman he', 'with someone', 'with much', 'will smith', 'why are', 'who think', 'which one', 'which of', 'where its', 'well thats', 'watch out', 'was intended', 'was ever', 'voice acting', 'violence in', 'very difficult', 'values are', 'to settle', 'to remain', 'to justify', 'to handle', 'to agree', 'thumbs up', 'this video', 'this plot', 'this being', 'this are', 'thing for', 'these men', 'the tragic', 'the rating', 'the outside', 'the matter', 'the laughs', 'the fast', 'the closest', 'the chief', 'that works', 'that happened', 'that because', 'television show', 'take your', 'suitable for', 'stars of', 'sister and', 'simply not', 'shown as', 'shes the', 'she knows', 'sex in', 'seen so', 'seen from', 'secret of', 'scriptbr br', 'scenes to', 'say what', 'reviews and', 'related to', 'refer to', 'recommended to', 'really are', 'price of', 'pretty funny', 'placed in', 'performances were', 'parts and', 'part that', 'own way', 'over this', 'out some', 'out he', 'or when', 'or have', 'or are', 'only redeeming', 'on many', 'of murder', 'of mr', 'nothing that', 'not give', 'music of', 'murder mystery', 'movies on', 'movie well', 'more as', 'mainly because', 'made that', 'lucky enough', 'looks great', 'lives with', 'like so', 'life this', 'let us', 'killing the', 'keeping the', 'jon voight', 'jokes that', 'joke and', 'jet li', 'itself and', 'its difficult', 'is yet', 'interest and', 'in jail', 'in france', 'impact of', 'im giving', 'i prefer', 'i hear', 'how not', 'his two', 'his fellow', 'he brings', 'had so', 'had i', 'had heard', 'great for', 'good films', 'gave up', 'funny movie', 'fun as', 'from here', 'for money', 'follows a', 'first rate', 'first came', 'find some', 'fill in', 'felt it', 'falls flat', 'face is', 'everything you', 'ever seenbr', 'energy and', 'ending but', 'emotion and', 'elsebr br', 'effects in', 'done so', 'directed the', 'didbr br', 'detract from', 'create the', 'covered in', 'come and', 'classic the', 'charlton heston', 'characters they', 'cash in', 'career in', 'brought back', 'bring back', 'break the', 'br out', 'br other', 'br john', 'bland and', 'better job', 'being shot', 'before his', 'been told', 'because as', 'bad at', 'away by', 'away but', 'ashamed of', 'as did', 'and went', 'and rent', 'and poorly', 'and new', 'and life', 'and into', 'and getting', 'and friends', 'and cinematography', 'and children', 'an absolutely', 'although not', 'also is', 'again with', 'after viewing', 'add up', 'about every', 'a sign', 'a mother', 'a mediocre', 'a lonely', 'a hotel', 'a genre', 'a chinese', 'a cat', '9 out', 'young men', 'you only', 'yet again', 'years it', 'would find', 'word of', 'will like', 'will admit', 'whole time', 'who saw', 'who gives', 'who falls', 'while its', 'which leads', 'whatever it', 'what should', 'watched a', 'watch them', 'watch on', 'wasted in', 'wasnt as', 'war of', 'walking around', 'very small', 'up its', 'two different', 'turns up', 'travel to', 'total waste', 'together a', 'to top', 'to shock', 'to heaven', 'to connect', 'to choose', 'time ago', 'thought out', 'this horrible', 'they decided', 'there should', 'then why', 'the theaters', 'the test', 'the states', 'the socalled', 'the shelf', 'the results', 'the like', 'the lights', 'the entertainment', 'the drug', 'that year', 'that such', 'that come', 'than usual', 'taste of', 'talks about', 'supporting roles', 'success in', 'stuff and', 'strange and', 'story on', 'spoil the', 'something different', 'someone with', 'some guy', 'so very', 'smith and', 'slice of', 'situation and', 'sick of', 'showed the', 'shouldnt have', 'should watch', 'she takes', 'setting of', 'series that', 'sequences and', 'see where', 'second of', 'screen for', 'scenes as', 'scene after', 'say to', 'said in', 'sad that', 'rendition of', 'rely on', 'really cool', 'read this', 'quite funny', 'probably would', 'power rangers', 'portraying the', 'pictures of', 'person and', 'perhaps this', 'or they', 'one this', 'one reason', 'on another', 'often the', 'off at', 'of kids', 'of james', 'of funny', 'of been', 'nothing wrong', 'not least', 'not his', 'not entirely', 'not care', 'no clue', 'nature and', 'myself i', 'my expectations', 'my brother', 'much it', 'movie my', 'movie dont', 'movie although', 'more serious', 'mood of', 'money in', 'minutes but', 'midnight cowboy', 'may well', 'match the', 'make fun', 'looks good', 'long for', 'little movie', 'lee is', 'least not', 'learn from', 'just enough', 'john ford', 'jack nicholson', 'jack lemmon', 'itself was', 'its well', 'its fun', 'it reminded', 'is similar', 'is either', 'interesting than', 'include a', 'in american', 'impact on', 'imagine a', 'if so', 'idea how', 'i swear', 'horror of', 'home with', 'his only', 'his car', 'him down', 'hes got', 'her brother', 'her at', 'he turns', 'he knew', 'has two', 'happen and', 'had ever', 'got some', 'good too', 'good horror', 'fun for', 'from which', 'friends who', 'find her', 'film though', 'film may', 'experience and', 'exist in', 'every bit', 'ever watched', 'ever to', 'even by', 'etc and', 'entertainment and', 'endingbr br', 'end you', 'eager to', 'drawn to', 'does in', 'do their', 'decided that', 'cut off', 'crew of', 'contrary to', 'consider this', 'connection to', 'comedy of', 'class and', 'chris rock', 'checking out', 'castle in', 'can relate', 'bring a', 'br id', 'blown away', 'better as', 'been very', 'be left', 'be fooled', 'back home', 'awful movie', 'as hell', 'are totally', 'and which', 'and realistic', 'and read', 'and plays', 'and dialogue', 'an opportunity', 'an indian', 'an impressive', 'always have', 'all means', 'after its', 'actually is', 'about everything', 'a wall', 'a violent', 'a viewer', 'a tree', 'a ton', 'a teenage', 'a super', 'a rating', 'a mix', 'a cold', 'a cheesy', '10br br', '10 and', '\\x96 but', 'your brain', 'you start', 'you saw', 'you from', 'yet they', 'yet he', 'yes but', 'would also', 'wondering what', 'william h', 'will only', 'will just', 'who died', 'who at', 'white and', 'went through', 'was superb', 'was set', 'was forced', 'was certainly', 'very strong', 'very easy', 'us who', 'up all', 'understand this', 'turn up', 'turn as', 'true and', 'ton of', 'tom and', 'to please', 'to murder', 'to jump', 'to control', 'to consider', 'to boot', 'to appeal', 'title and', 'timothy dalton', 'times to', 'thrown into', 'they decide', 'then on', 'their parents', 'the weekend', 'the version', 'the subtle', 'the sole', 'the release', 'the prince', 'the passion', 'the opera', 'the north', 'the introduction', 'the hot', 'the ghosts', 'the formula', 'the footage', 'the emotions', 'the dubbing', 'the dentist', 'the cars', 'the ball', 'the 2nd', 'that went', 'that must', 'that little', 'that happen', 'tarzan and', 'taken a', 'take him', 'take her', 'suspension of', 'suffering from', 'some may', 'some friends', 'smart and', 'slasher movie', 'situations and', 'sitting on', 'shes in', 'she tries', 'she must', 'she made', 'she becomes', 'see one', 'see i', 'say but', 'saved by', 'romance between', 'role the', 'required to', 'reasons why', 'real story', 'rape scene', 'pull it', 'predictable but', 'playing in', 'part one', 'pain and', 'open the', 'only ones', 'only have', 'one word', 'one moment', 'one he', 'one had', 'of quality', 'of power', 'of i', 'of heart', 'obsession with', 'not many', 'new life', 'my top', 'my daughter', 'movies out', 'movie never', 'might think', 'me started', 'manbr br', 'make more', 'lost a', 'long way', 'little kid', 'lets not', 'later he', 'join the', 'joe don', 'its bad', 'it sure', 'it always', 'is you', 'instance the', 'in todays', 'in la', 'in india', 'in germany', 'ill never', 'i walked', 'how hard', 'house the', 'hot and', 'hope the', 'her husbands', 'heard the', 'he went', 'have happened', 'has absolutely', 'happy and', 'had such', 'had made', 'ha ha', 'goes off', 'go the', 'gives it', 'getting into', 'game is', 'finds herself', 'films which', 'films about', 'fast paced', 'exercise in', 'each and', 'dressed in', 'down for', 'dont worry', 'done on', 'disagree with', 'directed this', 'could it', 'common with', 'coming up', 'clichés and', 'character study', 'cause of', 'care less', 'can feel', 'can call', 'came back', 'business and', 'br see', 'bit as', 'birth of', 'better films', 'best supporting', 'ben stiller', 'believe he', 'being too', 'before we', 'before its', 'been there', 'be warned', 'be killed', 'be all', 'attention and', 'assigned to', 'art direction', 'are what', 'are for', 'apparently the', 'anyway this', 'anything of', 'any case', 'and wonderful', 'and utterly', 'and unique', 'and indeed', 'and film', 'and down', 'and believe', 'and acted', 'an equally', 'an artistic', 'am very', 'also not', 'all good', 'akin to', 'acting isnt', 'a wealthy', 'a vehicle', 'a tribute', 'a touch', 'a team', 'a student', 'a space', 'a soft', 'a smart', 'a slight', 'a romance', 'a lady', 'a heavy', 'a general', 'a favorite', 'a failure', 'a city', '21st century', 'your local', 'written in', 'writing a', 'worst part', 'worsebr br', 'word for', 'will definitely', 'whom i', 'who might', 'who live', 'who know', 'when compared', 'were on', 'were at', 'we go', 'was produced', 'was fantastic', 'walter matthau', 'very early', 'use to', 'up so', 'under his', 'tv i', 'turn of', 'truly is', 'touch with', 'top it', 'too little', 'tom cruise', 'told the', 'to sound', 'to relate', 'to perform', 'time so', 'throughout this', 'through an', 'thought id', 'thoughbr br', 'though you', 'this stuff', 'this cartoon', 'think hes', 'theyre just', 'theyre all', 'they see', 'they probably', 'there it', 'their respective', 'theater i', 'the timebr', 'the target', 'the remaining', 'the program', 'the prison', 'the open', 'the mirror', 'the match', 'the killings', 'the hand', 'the green', 'the class', 'that sort', 'that kept', 'target audience', 'take care', 'still an', 'starting with', 'sounded like', 'sound track', 'so ill', 'she sees', 'she got', 'setting the', 'setting and', 'second season', 'screen presence', 'run out', 'rooting for', 'role was', 'rise to', 'ridiculous the', 'recommend to', 'quite simply', 'queen of', 'production design', 'problem of', 'portray the', 'poor the', 'points and', 'plot as', 'play it', 'person to', 'people think', 'people for', 'own the', 'or his', 'one from', 'old for', 'off but', 'off after', 'of michael', 'of hours', 'of as', 'notice the', 'not help', 'night at', 'my name', 'my book', 'movies so', 'more money', 'more likely', 'more importantly', 'minutes long', 'minutes it', 'love affair', 'love a', 'little in', 'like someone', 'let you', 'learn how', 'lead actor', 'lady and', 'knew the', 'just happens', 'john ritter', 'its always', 'it moves', 'it any', 'it about', 'is possible', 'is important', 'is constantly', 'interesting in', 'indeed a', 'im talking', 'ie the', 'i paid', 'i expect', 'how come', 'hollywood and', 'himself a', 'here a', 'her is', 'he finally', 'have its', 'has given', 'had something', 'guy was', 'going out', 'going back', 'gets in', 'get him', 'friends with', 'friends are', 'free to', 'frankly i', 'four years', 'for love', 'for hours', 'followed the', 'film ends', 'excited to', 'evidence of', 'everbr br', 'even less', 'episode and', 'entire life', 'either a', 'early 90s', 'dont look', 'done before', 'doesnt like', 'do some', 'do better', 'credit to', 'crapbr br', 'course he', 'could you', 'contact with', 'connected to', 'comes on', 'classic and', 'claire danes', 'character played', 'caused by', 'c scott', 'by and', 'by accident', 'build a', 'brilliant as', 'br spoiler', 'boy was', 'blood is', 'better or', 'bestbr br', 'ben and', 'believes that', 'been said', 'be bad', 'at me', 'as of', 'as great', 'as does', 'are getting', 'appeal of', 'and turn', 'and tom', 'and live', 'and comes', 'and am', 'an alien', 'amounts of', 'am still', 'also makes', 'all day', 'again its', 'add that', 'acts of', 'actions of', 'acting or', 'acting like', 'about being', 'about 30', 'a younger', 'a western', 'a pure', 'a late', 'a fire', 'a drug', 'a cross', '25 years', 'youre watching', 'your seat', 'youll love', 'write this', 'working class', 'work it', 'with whom', 'with enough', 'wind up', 'why a', 'who knew', 'which seems', 'where did', 'were left', 'were doing', 'were being', 'watching for', 'wasnt expecting', 'was getting', 'was but', 'wakes up', 'up or', 'unintentionally funny', 'two guys', 'twist ending', 'turn to', 'top and', 'to school', 'to maintain', 'times as', 'thriller that', 'this or', 'this he', 'this entire', 'this can', 'this again', 'things get', 'themselves to', 'them up', 'the worldbr', 'the wizard', 'the traditional', 'the titanic', 'the straight', 'the scariest', 'the rape', 'the notorious', 'the locations', 'the flick', 'the cause', 'the ancient', 'the actions', 'telling a', 'surprisingly good', 'suited to', 'suffer from', 'stuff in', 'story from', 'still dont', 'stars for', 'standards of', 'spoil it', 'sometimes it', 'so real', 'since his', 'simply the', 'shows and', 'should go', 'shot by', 'short story', 'she says', 'sees a', 'seebr br', 'see on', 'script i', 'screen i', 'same year', 'runs into', 'run for', 'robert downey', 'rightbr br', 'reviews on', 'returning to', 'reasons i', 'really worth', 'quickly and', 'pursuit of', 'predictable the', 'played with', 'people involved', 'people get', 'or why', 'or no', 'only wish', 'only do', 'one should', 'one must', 'once they', 'offers a', 'of emotion', 'of disbelief', 'of classic', 'now for', 'novel the', 'never forget', 'my mother', 'my girlfriend', 'music that', 'much so', 'movie too', 'most movies', 'meryl streep', 'mentioned in', 'men of', 'melvyn douglas', 'may find', 'makes us', 'magic of', 'made you', 'made as', 'look good', 'long the', 'long but', 'loaded with', 'little kids', 'line that', 'like my', 'least bit', 'know he', 'kept the', 'jobbr br', 'it which', 'it showed', 'it are', 'is utterly', 'is sort', 'is nearly', 'is known', 'invited to', 'international film', 'incapable of', 'in place', 'in italy', 'in contrast', 'idea for', 'idea but', 'i try', 'i simply', 'i probably', 'i go', 'i appreciate', 'humor that', 'however its', 'horrible the', 'him this', 'her two', 'her i', 'helps to', 'helped by', 'he ever', 'having read', 'havent read', 'have with', 'have and', 'has also', 'had with', 'guys in', 'glad to', 'give away', 'gets killed', 'get involved', 'get all', 'first hour', 'first five', 'find any', 'films made', 'film very', 'film might', 'festival and', 'felt as', 'famous for', 'everything and', 'era and', 'episodes and', 'enoughbr br', 'ending with', 'end its', 'each episode', 'dreams and', 'doctor and', 'disappointed that', 'director to', 'director but', 'despite his', 'deserve a', 'degree of', 'daysbr br', 'day to', 'dark side', 'could give', 'comedybr br', 'comedy about', 'climax of', 'cinema the', 'catch it', 'car chase', 'can just', 'can even', 'by not', 'by how', 'but those', 'but soon', 'but mostly', 'budget but', 'bruce willis', 'br lets', 'br great', 'br because', 'boy is', 'black man', 'bizarre and', 'big city', 'best performances', 'believe they', 'before watching', 'before in', 'becomes more', 'be viewed', 'be desired', 'bad films', 'bad a', 'away to', 'attack of', 'are usually', 'appearance in', 'another of', 'and trying', 'and right', 'and real', 'and obviously', 'and humor', 'and generally', 'and disturbing', 'and blood', 'and before', 'and badly', 'and actors', 'an unusual', 'an amusing', 'already seen', 'alone and', 'all times', 'adventures of', 'actually quite', 'actually pretty', 'actually made', 'actor i', 'acting talent', 'a stage', 'a ridiculous', 'a quite', 'a magnificent', 'a class', 'a cinema', 'a blind', 'a battle', '12 out', '\\x96 a', 'you couldnt', 'you also', 'writing the', 'would only', 'work was', 'woods and', 'wonderful movie', 'whybr br', 'while you', 'while some', 'which doesnt', 'whether you', 'well there', 'well cast', 'we didnt', 'wasnt for', 'was told', 'was played', 'was once', 'was lucky', 'very high', 'very close', 'uses a', 'up your', 'turn in', 'town in', 'told to', 'told him', 'today i', 'to want', 'to travel', 'to someone', 'to ruin', 'to judge', 'to himself', 'to good', 'to defend', 'to cast', 'times that', 'time there', 'this title', 'this move', 'this first', 'this country', 'this comment', 'think thats', 'theres one', 'them off', 'theatrical release', 'the upper', 'the task', 'the sweet', 'the sudden', 'the strong', 'the seventies', 'the ride', 'the princess', 'the pair', 'the narration', 'the hype', 'the horrors', 'the fear', 'the enemy', 'the doctors', 'the devils', 'the captain', 'the birth', 'that almost', 'terrible i', 'tempted to', 'tell him', 'talk and', 'talented and', 'suspect that', 'sure they', 'subtle and', 'story at', 'stars out', 'spoof of', 'space and', 'son is', 'something the', 'shades of', 'several other', 'sets up', 'serve as', 'sequence that', 'seconds of', 'scooby doo', 'saw was', 'romantic comedies', 'prom night', 'probably have', 'portrays the', 'plot a', 'perfectly cast', 'pay to', 'or may', 'or bad', 'only when', 'ones who', 'one last', 'on camera', 'on broadway', 'of various', 'of sexual', 'of oz', 'of 4', 'nowhere and', 'not something', 'nice guy', 'never ever', 'name on', 'my husband', 'my dad', 'my all', 'movie have', 'movie based', 'movie actually', 'move to', 'more believable', 'means to', 'me because', 'material to', 'marriage and', 'make things', 'make one', 'main plot', 'made an', 'made about', 'looks more', 'like how', 'likable and', 'left a', 'least they', 'kurt russell', 'know whats', 'know nothing', 'king and', 'just right', 'just make', 'just love', 'its sad', 'its nothing', 'it brings', 'isnt too', 'is finally', 'intense and', 'independent film', 'in how', 'in cold', 'i now', 'i lost', 'however they', 'however he', 'how is', 'horrible movie', 'hopes for', 'home alone', 'his true', 'his little', 'his house', 'his heart', 'highly entertaining', 'her eyes', 'hence the', 'help to', 'hell out', 'he cannot', 'have played', 'have even', 'happening in', 'gunga din', 'good actress', 'good action', 'go along', 'girlfriend and', 'genre of', 'for help', 'flick is', 'first ten', 'finished watching', 'film too', 'film thats', 'film an', 'fight and', 'father was', 'family the', 'family members', 'face with', 'expect much', 'even his', 'especially since', 'entertaining film', 'easily one', 'each otherbr', 'dvd in', 'drama is', 'done well', 'describe this', 'cop who', 'convey the', 'consider the', 'consider it', 'conclusion that', 'compelling and', 'comes into', 'church and', 'catch the', 'casting is', 'cant do', 'can honestly', 'can actually', 'can a', 'by watching', 'by everyone', 'but perhaps', 'but actually', 'br where', 'br 810', 'br 410', 'boys and', 'book that', 'better then', 'been seen', 'be true', 'basic instinct', 'backbr br', 'away at', 'author of', 'around on', 'are treated', 'are other', 'are interesting', 'and plenty', 'and oh', 'and must', 'and jerry', 'and intelligent', 'and extremely', 'and enjoyed', 'and anyone', 'an artist', 'an adventure', 'an adaptation', 'an accident', 'among other', 'also it', 'ago but', 'again a', 'actor is', 'about three', 'about i', 'about half', 'a villain', 'a television', 'a supporting', 'a social', 'a question', 'a main', 'a lousy', 'a hand', 'a fresh', 'a fast', 'a dumb', 'a baseball', 'young girls', 'youd expect', 'yes this', 'wouldnt recommend', 'world but', 'wont give', 'wont even', 'women to', 'with i', 'with but', 'with as', 'who they', 'who appears', 'which to', 'whats happening', 'what might', 'were talking', 'were quite', 'well developed', 'was laughing', 'twist at', 'trio of', 'travels to', 'trailer for', 'together for', 'to suffer', 'to seek', 'to nothing', 'to more', 'to match', 'throughout and', 'thriller with', 'though we', 'though in', 'this they', 'this masterpiece', 'this happens', 'think im', 'think and', 'things were', 'they keep', 'they came', 'there may', 'then just', 'them or', 'them both', 'the trip', 'the stone', 'the players', 'the physical', 'the notion', 'the marriage', 'the mans', 'the joke', 'the inevitable', 'the horse', 'the heroes', 'the hard', 'the field', 'the detective', 'the daily', 'the contrary', 'the comedic', 'the christmas', 'the catholic', 'the border', 'the absence', 'that means', 'that be', 'thanks for', 'take off', 'stupid the', 'street and', 'still think', 'song is', 'some points', 'some have', 'solve the', 'so does', 'so awful', 'signs of', 'sides of', 'shown to', 'should i', 'series it', 'sense in', 'seeing as', 'second film', 'science theater', 'scene between', 'scene as', 'said and', 'sadly the', 'run of', 'rock n', 'remember watching', 'refreshing to', 'really got', 'process of', 'problems of', 'poorly made', 'plot which', 'performances the', 'people from', 'passion and', 'parts in', 'pace of', 'out their', 'opinion this', 'opening scenes', 'only this', 'only movie', 'one too', 'one star', 'one gets', 'one does', 'on something', 'old i', 'of who', 'of special', 'of either', 'not come', 'no the', 'mystery and', 'my seat', 'music i', 'movie may', 'mother of', 'moment the', 'might even', 'me by', 'maybe thats', 'many good', 'many a', 'man named', 'makeup effects', 'lovebr br', 'love but', 'look back', 'long to', 'life she', 'let her', 'lead actress', 'last but', 'kill her', 'just think', 'just go', 'job the', 'its much', 'its even', 'its audience', 'it failed', 'is poorly', 'is plenty', 'is outstanding', 'is however', 'is due', 'is brought', 'introduction to', 'into your', 'interesting that', 'in very', 'in great', 'importance of', 'i own', 'how we', 'how people', 'horrors of', 'hope and', 'honestly say', 'his wifes', 'his very', 'his portrayal', 'his partner', 'him back', 'here at', 'heavy metal', 'he ends', 'he came', 'have really', 'have his', 'have helped', 'have got', 'happen but', 'had high', 'had enough', 'h macy', 'guy to', 'girl with', 'ghost of', 'get together', 'get enough', 'fun the', 'for reasons', 'feel a', 'fairly good', 'excellent the', 'every minute', 'every film', 'even had', 'ending in', 'end as', 'doing what', 'doing in', 'does get', 'die and', 'dick tracy', 'despite a', 'deliver a', 'deep and', 'death scenes', 'curse of', 'crap the', 'course this', 'course and', 'couple who', 'could really', 'costumes are', 'coming of', 'comes the', 'comedy to', 'cold and', 'character from', 'cant act', 'cannot believe', 'by other', 'by james', 'by director', 'bulk of', 'br whats', 'br since', 'br 710', 'bothered me', 'born in', 'benefit of', 'been used', 'bed with', 'beautiful woman', 'battle with', 'basic plot', 'barbara stanwyck', 'bad to', 'back for', 'audience the', 'as big', 'around them', 'are way', 'are told', 'are able', 'appreciate this', 'anything more', 'angles and', 'and worth', 'and show', 'and ill', 'and begins', 'an italian', 'amusing and', 'american film', 'am so', 'always in', 'all with', 'agrees to', 'actually be', 'actor he', 'action flick', 'acting performances', 'a tremendous', 'a situation', 'a satire', 'a refreshing', 'a pathetic', 'a knife', 'a difficult', 'a deadly', 'a choice', '45 minutes', '10 stars', 'yourself and', 'your way', 'youll probably', 'you what', 'you of', 'you as', 'year after', 'would still', 'works well', 'wooden and', 'wizard of', 'without giving', 'will end', 'why because', 'who needs', 'who make', 'while trying', 'when theyre', 'when their', 'what appears', 'wes craven', 'were never', 'were both', 'well they', 'well by', 'we cant', 'was okay', 'was from', 'was amazed', 'want my', 'victor vargas', 'very strange', 'turning into', 'truth about', 'together but', 'to suspend', 'to suggest', 'to perfection', 'to ignore', 'to i', 'to great', 'to engage', 'to cash', 'to at', 'through some', 'though a', 'this turkey', 'this seems', 'this before', 'these years', 'there who', 'the underlying', 'the magnificent', 'the intelligence', 'the grave', 'the demons', 'the creepy', 'the benefit', 'the basement', 'the australian', 'the always', 'the 40s', 'that too', 'that sometimes', 'that same', 'that our', 'that day', 'television and', 'taken in', 'sure why', 'superb as', 'such things', 'style that', 'spoiler alert', 'soylent green', 'sorry i', 'somewhat of', 'some truly', 'so with', 'so maybe', 'so how', 'smile on', 'small part', 'shows like', 'she comes', 'shallow and', 'second the', 'script with', 'role she', 'right there', 'right but', 'returned to', 'remind me', 'refuse to', 'really about', 'read about', 'randolph scott', 'quest for', 'pulp fiction', 'provides the', 'presented as', 'present in', 'possibly be', 'possibility of', 'police story', 'point it', 'point but', 'place of', 'photography is', 'perspective of', 'performance i', 'performance but', 'out is', 'others who', 'one dimensional', 'once more', 'on each', 'off into', 'of sense', 'of japanese', 'of doing', 'of clichés', 'now he', 'not expect', 'nor does', 'no it', 'no excuse', 'nicolas cage', 'never did', 'name in', 'mystery of', 'my sister', 'my point', 'much sense', 'movie since', 'movie no', 'movie got', 'most popular', 'money but', 'moments are', 'missing from', 'meant for', 'me why', 'me what', 'me out', 'me off', 'maybe you', 'many great', 'make such', 'make movies', 'mad scientist', 'low expectations', 'looks a', 'live and', 'let this', 'left on', 'knew how', 'kick out', 'judging by', 'its up', 'its first', 'it wants', 'it twice', 'it stands', 'it have', 'is among', 'interview with', 'interesting as', 'influenced by', 'ill just', 'if theyre', 'i waited', 'i use', 'i turned', 'i picked', 'i managed', 'i live', 'house on', 'honestly i', 'his story', 'his relationship', 'his crew', 'himself with', 'him his', 'her he', 'he hasnt', 'have loved', 'happy with', 'hand is', 'hand in', 'had only', 'had little', 'guilty pleasure', 'good its', 'going in', 'god i', 'for how', 'for at', 'for as', 'for adults', 'focus of', 'flickbr br', 'fill the', 'figured out', 'fifteen minutes', 'few moments', 'fay grim', 'father the', 'fascinated by', 'fair to', 'face in', 'exact same', 'ever saw', 'enjoyed watching', 'enjoyable to', 'dressed to', 'dont ask', 'done that', 'doing something', 'doesnt quite', 'doesnt need', 'doesnt come', 'do nothing', 'devoted to', 'deserve to', 'day it', 'danny glover', 'cut it', 'could of', 'convincing and', 'compare this', 'commentary on', 'come into', 'closeups of', 'cinema in', 'characters or', 'certainly one', 'carry on', 'care what', 'can hardly', 'call them', 'by anyone', 'but unlike', 'but come', 'brother who', 'br yet', 'br 1010', 'both a', 'boring i', 'book or', 'bill and', 'best friends', 'believe how', 'before that', 'because theres', 'because shes', 'baby face', 'baby and', 'at which', 'at no', 'at and', 'as those', 'as anything', 'army of', 'are wonderful', 'are my', 'are meant', 'are funny', 'anything it', 'another example', 'and truly', 'and talk', 'and talented', 'and sister', 'and silly', 'and old', 'and neither', 'and may', 'and early', 'and directing', 'and cheesy', 'and boy', 'an effective', 'an academy', 'among others', 'allows the', 'action films', 'acting that', 'accept that', 'absolutely loved', 'about you', 'a welcome', 'a taste', 'a seemingly', 'a russian', 'a popular', 'a moviebr', 'a level', 'a history', 'a go', 'a genuinely', 'a detective', 'a date', 'a bus', '80 minutes', 'you arent', 'writer of', 'works on', 'work from', 'words and', 'with several', 'with friends', 'with characters', 'with anything', 'why you', 'while we', 'while still', 'which have', 'which all', 'were watching', 'were as', 'we live', 'we did', 'watch something', 'was obvious', 'was how', 'want it', 'very disappointing', 'very beautiful', 'us how', 'unlike most', 'two girls', 'track of', 'too well', 'too is', 'today the', 'to where', 'to remake', 'to name', 'to enter', 'time at', 'time after', 'this tv', 'this by', 'this adaptation', 'think ive', 'thing this', 'they talk', 'there on', 'there just', 'then go', 'themes and', 'the week', 'the topic', 'the tape', 'the studios', 'the size', 'the ramones', 'the previews', 'the omen', 'the nudity', 'the names', 'the much', 'the missing', 'the midst', 'the longest', 'the killing', 'the innocent', 'the heavy', 'the extent', 'the dumb', 'the dragon', 'the cia', 'the blame', 'the bit', 'that youre', 'that still', 'talent to', 'sure he', 'supported by', 'struggles to', 'story there', 'starsbr br', 'spent the', 'something out', 'some movies', 'simply put', 'simple but', 'showing a', 'short time', 'she tells', 'setting is', 'seriously and', 'series to', 'seems more', 'scenes like', 'scenes between', 'scene he', 'says to', 'save yourself', 'ruined by', 'representation of', 'regret it', 'really stupid', 'really only', 'really love', 'read and', 'quite frankly', 'puts in', 'prove that', 'production the', 'problem was', 'premise and', 'pops up', 'plot points', 'plot lines', 'pleasure of', 'place for', 'part i', 'over an', 'out so', 'our time', 'other great', 'one wonders', 'old woman', 'old school', 'old lady', 'okay but', 'of tea', 'of stuff', 'of potential', 'of man', 'of italian', 'of hell', 'now to', 'now as', 'nothing less', 'not your', 'not well', 'not show', 'no i', 'movie worth', 'movie while', 'movie might', 'movie didnt', 'moved by', 'minutes before', 'meaning to', 'me tell', 'me how', 'male lead', 'makes one', 'make something', 'made at', 'love or', 'loses his', 'look on', 'locations and', 'local video', 'lines the', 'life or', 'know you', 'know they', 'know anything', 'killing people', 'killer in', 'killed off', 'kevin spacey', 'keep up', 'just wish', 'just by', 'john cusack', 'jerry springer', 'its clear', 'its certainly', 'it however', 'it difficult', 'issue of', 'isnt bad', 'is written', 'is none', 'is easy', 'is directed', 'is anything', 'involved and', 'interestingbr br', 'influence of', 'in hell', 'idea was', 'i seen', 'i forgot', 'however was', 'hope this', 'historybr br', 'his entire', 'his earlier', 'his back', 'her work', 'her part', 'help her', 'hear a', 'he realizes', 'he puts', 'he lives', 'having just', 'have changed', 'has left', 'guns and', 'guess this', 'great show', 'got so', 'getting to', 'get what', 'gem of', 'forgot to', 'for young', 'for life', 'for laughs', 'for just', 'first 10', 'film while', 'film maker', 'film based', 'fighting for', 'fight scene', 'far and', 'faced with', 'exploration of', 'explain why', 'except to', 'evil dead', 'even try', 'even on', 'essentially a', 'equivalent of', 'episode the', 'english and', 'end a', 'dumb and', 'door and', 'doesnt go', 'does to', 'do his', 'do get', 'de la', 'day when', 'dancing and', 'creative and', 'crazy and', 'course they', 'couldnt wait', 'could just', 'clothes and', 'claim that', 'cinema is', 'change and', 'centers around', 'cast i', 'cares about', 'career as', 'came in', 'called a', 'by richard', 'brought in', 'br two', 'br second', 'br okay', 'br meanwhile', 'br bottom', 'black guy', 'black comedy', 'bit like', 'become more', 'be out', 'be entertaining', 'bad because', 'as are', 'are those', 'are obviously', 'are already', 'any means', 'animated series', 'and true', 'and three', 'and script', 'and scenes', 'and off', 'and keeps', 'and joe', 'and jane', 'and given', 'and directors', 'and black', 'an otherwise', 'an epic', 'an entirely', 'american in', 'although some', 'although she', 'almost entirely', 'all on', 'agree to', 'again that', 'actually had', 'about people', 'a wonder', 'a window', 'a three', 'a theatrical', 'a river', 'a moral', 'a disney', 'youve been', 'you wish', 'you consider', 'yet this', 'wow i', 'would suggest', 'would really', 'would i', 'would come', 'worst ive', 'word to', 'wonderful job', 'without even', 'with too', 'with three', 'wish the', 'william powell', 'wife the', 'who get', 'who always', 'which just', 'were used', 'we feel', 'ways that', 'watchingbr br', 'wasnt bad', 'was playing', 'was out', 'was most', 'was impressed', 'wait until', 'view this', 'vietnam war', 'very effective', 'up when', 'together by', 'to witness', 'to satisfy', 'to force', 'to accomplish', 'title the', 'throughbr br', 'through her', 'thought about', 'those with', 'those things', 'this off', 'this awful', 'they end', 'these were', 'theres even', 'there you', 'there as', 'theme is', 'their father', 'the writerdirector', 'the works', 'the werewolf', 'the truly', 'the toilet', 'the stunning', 'the struggle', 'the stairs', 'the sidewalk', 'the scripts', 'the revolution', 'the popular', 'the ocean', 'the mill', 'the map', 'the issues', 'the inner', 'the hope', 'the hood', 'the grudge', 'the germans', 'the deep', 'the darkness', 'the crazy', 'the cool', 'the cake', 'the bulk', 'the board', 'the bed', 'that your', 'that look', 'that leaves', 'that arent', 'than many', 'takes you', 'sum up', 'storyline was', 'stage play', 'soon the', 'songs in', 'someone in', 'some money', 'some characters', 'so obviously', 'so my', 'so a', 'slow but', 'size of', 'since she', 'side and', 'she starts', 'she may', 'shadow of', 'serial killers', 'seen better', 'sean connery', 'script to', 'scenes it', 'saves the', 'said before', 'room to', 'roles that', 'roles of', 'roles but', 'robert de', 'road to', 'right down', 'response to', 'rent a', 'released from', 'reasons to', 'reason is', 'react to', 'rating is', 'rather watch', 'production was', 'producers of', 'prepared for', 'plot development', 'peter sellers', 'performance here', 'perfect in', 'people around', 'pacing is', 'out when', 'out into', 'only had', 'only assume', 'only an', 'one doesnt', 'on two', 'on there', 'on such', 'ok the', 'of writing', 'of water', 'of star', 'of so', 'of playing', 'of drama', 'of david', 'of children', 'note to', 'not made', 'not let', 'none the', 'no not', 'no better', 'nice but', 'myself and', 'music by', 'much at', 'movie started', 'movie industry', 'movie ends', 'money i', 'mom and', 'million dollar', 'might find', 'michael douglas', 'me like', 'maybe that', 'maybe im', 'maybe if', 'may or', 'man from', 'make much', 'love him', 'lot in', 'line was', 'line the', 'like and', 'least some', 'laterbr br', 'last years', 'lacks any', 'kill them', 'just get', 'its most', 'its moments', 'it worked', 'it won', 'it until', 'it she', 'it quite', 'isnt just', 'is working', 'is wasted', 'is barely', 'is apparently', 'introduction of', 'intrigued by', 'into that', 'in slow', 'in sight', 'in seeing', 'in school', 'in itbr', 'in french', 'im pretty', 'if im', 'i seriously', 'i call', 'i began', 'i already', 'humor the', 'how these', 'how long', 'his men', 'his later', 'his early', 'high and', 'her voice', 'her so', 'hell and', 'he looked', 'he became', 'he appears', 'have missed', 'have lost', 'hated this', 'hated the', 'hated it', 'gun and', 'guess is', 'good ones', 'good deal', 'girls who', 'girl he', 'get them', 'get so', 'get married', 'get killed', 'genre that', 'future of', 'funny its', 'funnier than', 'fun but', 'for mr', 'for but', 'film what', 'few other', 'feature length', 'fault of', 'fall of', 'fact he', 'eye and', 'exposed to', 'experiencebr br', 'exactly how', 'everyone to', 'everyone has', 'entertaining to', 'enjoying the', 'ending to', 'else but', 'during that', 'dream of', 'doing his', 'do when', 'director john', 'director in', 'director for', 'direct to', 'didnt feel', 'dialogue in', 'deliver the', 'death by', 'day but', 'dawn of', 'dana andrews', 'cut and', 'crap that', 'crap and', 'cover of', 'core of', 'contrived and', 'complete and', 'company of', 'comes close', 'cold war', 'classic film', 'cinematography the', 'cinemabr br', 'choice to', 'central character', 'catch a', 'casting was', 'castbr br', 'cast with', 'cast a', 'cant tell', 'cant go', 'can almost', 'but otherwise', 'but feel', 'but certainly', 'br sure', 'book to', 'birth to', 'big deal', 'best scene', 'best one', 'behind a', 'been shot', 'be wrong', 'be prepared', 'be enjoyed', 'be believed', 'awfulbr br', 'awful but', 'avoid the', 'audience that', 'atmosphere is', 'at such', 'around like', 'are nothing', 'are mostly', 'are beautiful', 'appears that', 'and wanted', 'and unbelievable', 'and situations', 'and run', 'and possibly', 'and hardy', 'and different', 'and bring', 'and big', 'and adults', 'an unknown', 'an intriguing', 'an animated', 'also to', 'also this', 'also on', 'all who', 'all through', 'actress but', 'about those', 'a step', 'a sick', 'a scifi', 'a month', 'a lost', 'a list', 'a lesbian', 'a hidden', 'a greater', 'a dangerous', 'a crush', 'a box', 'young children', 'you hate', 'york and', 'year i', 'wrote this', 'would watch', 'worry about', 'world to', 'wonder that', 'without having', 'will want', 'why its', 'where hes', 'where do', 'what with', 'what more', 'what looks', 'weve got', 'well maybe', 'welcome to', 'ways and', 'water and', 'was waiting', 'was incredibly', 'was happening', 'was awesome', 'villain and', 'viewing it', 'very weak', 'uses his', 'urge to', 'until you', 'turns the', 'train wreck', 'tone and', 'together on', 'to watching', 'to fully', 'to communicate', 'to attend', 'through out', 'though as', 'this must', 'them were', 'the value', 'the ten', 'the superb', 'the serial', 'the screenwriter', 'the principal', 'the possible', 'the path', 'the order', 'the minds', 'the meantime', 'the importance', 'the humans', 'the fox', 'the flying', 'the far', 'the event', 'the credit', 'the consequences', 'the community', 'the comment', 'the combination', 'the cinematic', 'the care', 'the bodies', 'the annoying', 'the 40', 'the 1940s', 'that or', 'that night', 'that john', 'that id', 'testament to', 'tells his', 'talented actors', 'takes us', 'takes over', 'successful in', 'started on', 'start and', 'stage and', 'some viewers', 'so was', 'so boring', 'so all', 'sleeping with', 'side to', 'show of', 'show about', 'shots are', 'short films', 'she falls', 'series with', 'seen such', 'seems the', 'seek out', 'see anything', 'scene on', 'scene it', 'scene a', 'says the', 'say and', 'runs away', 'running man', 'road trip', 'renting this', 'remember when']\n"
          ]
        }
      ]
    },
    {
      "cell_type": "markdown",
      "metadata": {
        "id": "vpCA2VB_7uOn"
      },
      "source": [
        "**Training and testing the binary bigram model**"
      ]
    },
    {
      "cell_type": "code",
      "execution_count": 42,
      "metadata": {
        "id": "ZfW0-fyh7uOn",
        "outputId": "a1d77dbe-6f82-4f6f-fe23-974d2cbb245a",
        "colab": {
          "base_uri": "https://localhost:8080/"
        }
      },
      "outputs": [
        {
          "output_type": "stream",
          "name": "stdout",
          "text": [
            "Model: \"model_4\"\n",
            "_________________________________________________________________\n",
            " Layer (type)                Output Shape              Param #   \n",
            "=================================================================\n",
            " input_5 (InputLayer)        [(None, 20000)]           0         \n",
            "                                                                 \n",
            " dense_6 (Dense)             (None, 16)                320016    \n",
            "                                                                 \n",
            " dropout_3 (Dropout)         (None, 16)                0         \n",
            "                                                                 \n",
            " dense_7 (Dense)             (None, 1)                 17        \n",
            "                                                                 \n",
            "=================================================================\n",
            "Total params: 320,033\n",
            "Trainable params: 320,033\n",
            "Non-trainable params: 0\n",
            "_________________________________________________________________\n",
            "Epoch 1/10\n",
            "625/625 [==============================] - 16s 24ms/step - loss: 0.3714 - accuracy: 0.8477 - val_loss: 0.2634 - val_accuracy: 0.8968\n",
            "Epoch 2/10\n",
            "625/625 [==============================] - 5s 9ms/step - loss: 0.2432 - accuracy: 0.9168 - val_loss: 0.2938 - val_accuracy: 0.8934\n",
            "Epoch 3/10\n",
            "625/625 [==============================] - 5s 8ms/step - loss: 0.2106 - accuracy: 0.9317 - val_loss: 0.3038 - val_accuracy: 0.8936\n",
            "Epoch 4/10\n",
            "625/625 [==============================] - 5s 8ms/step - loss: 0.1928 - accuracy: 0.9413 - val_loss: 0.3034 - val_accuracy: 0.9000\n",
            "Epoch 5/10\n",
            "625/625 [==============================] - 6s 9ms/step - loss: 0.1889 - accuracy: 0.9456 - val_loss: 0.3205 - val_accuracy: 0.8980\n",
            "Epoch 6/10\n",
            "625/625 [==============================] - 5s 9ms/step - loss: 0.1773 - accuracy: 0.9489 - val_loss: 0.3289 - val_accuracy: 0.8994\n",
            "Epoch 7/10\n",
            "625/625 [==============================] - 6s 9ms/step - loss: 0.1856 - accuracy: 0.9496 - val_loss: 0.3330 - val_accuracy: 0.8978\n",
            "Epoch 8/10\n",
            "625/625 [==============================] - 6s 9ms/step - loss: 0.1829 - accuracy: 0.9514 - val_loss: 0.3486 - val_accuracy: 0.8970\n",
            "Epoch 9/10\n",
            "625/625 [==============================] - 6s 9ms/step - loss: 0.1779 - accuracy: 0.9513 - val_loss: 0.3447 - val_accuracy: 0.8970\n",
            "Epoch 10/10\n",
            "625/625 [==============================] - 6s 9ms/step - loss: 0.1727 - accuracy: 0.9538 - val_loss: 0.3541 - val_accuracy: 0.8924\n",
            "782/782 [==============================] - 11s 13ms/step - loss: 0.2712 - accuracy: 0.8950\n",
            "Test acc: 0.895\n"
          ]
        }
      ],
      "source": [
        "text_vectorization.adapt(text_only_train_ds)\n",
        "binary_2gram_train_ds = train_ds.map(\n",
        "    lambda x, y: (text_vectorization(x), y),\n",
        "    num_parallel_calls=4)\n",
        "binary_2gram_val_ds = val_ds.map(\n",
        "    lambda x, y: (text_vectorization(x), y),\n",
        "    num_parallel_calls=4)\n",
        "binary_2gram_test_ds = test_ds.map(\n",
        "    lambda x, y: (text_vectorization(x), y),\n",
        "    num_parallel_calls=4)\n",
        "\n",
        "model = get_model()\n",
        "model.summary()\n",
        "callbacks = [\n",
        "    keras.callbacks.ModelCheckpoint(\"binary_2gram.keras\",\n",
        "                                    save_best_only=True)\n",
        "]\n",
        "model.fit(binary_2gram_train_ds.cache(),\n",
        "          validation_data=binary_2gram_val_ds.cache(),\n",
        "          epochs=10,\n",
        "          callbacks=callbacks)\n",
        "model = keras.models.load_model(\"binary_2gram.keras\")\n",
        "print(f\"Test acc: {model.evaluate(binary_2gram_test_ds)[1]:.3f}\")"
      ]
    },
    {
      "cell_type": "markdown",
      "metadata": {
        "id": "tSPoMde47uOo"
      },
      "source": [
        "#### Bigrams with TF-IDF encoding"
      ]
    },
    {
      "cell_type": "markdown",
      "metadata": {
        "id": "LfL-fp_j7uOo"
      },
      "source": [
        "**Configuring the `TextVectorization` layer to return token counts**"
      ]
    },
    {
      "cell_type": "code",
      "execution_count": 44,
      "metadata": {
        "id": "CLZtTTpA7uOo",
        "outputId": "345e438a-9cae-44ad-bb42-12a1f9668c55",
        "colab": {
          "base_uri": "https://localhost:8080/"
        }
      },
      "outputs": [
        {
          "output_type": "stream",
          "name": "stdout",
          "text": [
            "<keras.layers.preprocessing.text_vectorization.TextVectorization object at 0x7fa42fddc5d0>\n"
          ]
        }
      ],
      "source": [
        "text_vectorization = TextVectorization(\n",
        "    ngrams=2,\n",
        "    max_tokens=20000,\n",
        "    output_mode=\"count\"\n",
        ")\n",
        "print(text_vectorization)"
      ]
    },
    {
      "cell_type": "markdown",
      "metadata": {
        "id": "_-D-RiuD7uOo"
      },
      "source": [
        "**Configuring `TextVectorization` to return TF-IDF-weighted outputs**"
      ]
    },
    {
      "cell_type": "code",
      "execution_count": 45,
      "metadata": {
        "id": "9n27AMYN7uOo"
      },
      "outputs": [],
      "source": [
        "text_vectorization = TextVectorization(\n",
        "    ngrams=2,\n",
        "    max_tokens=20000,\n",
        "    output_mode=\"tf_idf\",\n",
        ")\n"
      ]
    },
    {
      "cell_type": "markdown",
      "metadata": {
        "id": "9KEgD-ta7uOp"
      },
      "source": [
        "**Training and testing the TF-IDF bigram model**"
      ]
    },
    {
      "cell_type": "code",
      "execution_count": 46,
      "metadata": {
        "id": "rg_963Nd7uOp",
        "outputId": "0ef6cd5d-0b4b-4f7a-cefc-97eaae7c90e0",
        "colab": {
          "base_uri": "https://localhost:8080/"
        }
      },
      "outputs": [
        {
          "output_type": "stream",
          "name": "stdout",
          "text": [
            "Model: \"model_5\"\n",
            "_________________________________________________________________\n",
            " Layer (type)                Output Shape              Param #   \n",
            "=================================================================\n",
            " input_6 (InputLayer)        [(None, 20000)]           0         \n",
            "                                                                 \n",
            " dense_8 (Dense)             (None, 16)                320016    \n",
            "                                                                 \n",
            " dropout_4 (Dropout)         (None, 16)                0         \n",
            "                                                                 \n",
            " dense_9 (Dense)             (None, 1)                 17        \n",
            "                                                                 \n",
            "=================================================================\n",
            "Total params: 320,033\n",
            "Trainable params: 320,033\n",
            "Non-trainable params: 0\n",
            "_________________________________________________________________\n",
            "Epoch 1/10\n",
            "625/625 [==============================] - 16s 24ms/step - loss: 0.5204 - accuracy: 0.7829 - val_loss: 0.3173 - val_accuracy: 0.8906\n",
            "Epoch 2/10\n",
            "625/625 [==============================] - 6s 9ms/step - loss: 0.3397 - accuracy: 0.8603 - val_loss: 0.3131 - val_accuracy: 0.8842\n",
            "Epoch 3/10\n",
            "625/625 [==============================] - 6s 9ms/step - loss: 0.3038 - accuracy: 0.8796 - val_loss: 0.3053 - val_accuracy: 0.8838\n",
            "Epoch 4/10\n",
            "625/625 [==============================] - 5s 8ms/step - loss: 0.2711 - accuracy: 0.8920 - val_loss: 0.3196 - val_accuracy: 0.8742\n",
            "Epoch 5/10\n",
            "625/625 [==============================] - 5s 8ms/step - loss: 0.2575 - accuracy: 0.8991 - val_loss: 0.3376 - val_accuracy: 0.8938\n",
            "Epoch 6/10\n",
            "625/625 [==============================] - 5s 8ms/step - loss: 0.2421 - accuracy: 0.9051 - val_loss: 0.3415 - val_accuracy: 0.8808\n",
            "Epoch 7/10\n",
            "625/625 [==============================] - 5s 8ms/step - loss: 0.2299 - accuracy: 0.9089 - val_loss: 0.3636 - val_accuracy: 0.8822\n",
            "Epoch 8/10\n",
            "625/625 [==============================] - 5s 8ms/step - loss: 0.2261 - accuracy: 0.9112 - val_loss: 0.3394 - val_accuracy: 0.8932\n",
            "Epoch 9/10\n",
            "625/625 [==============================] - 5s 8ms/step - loss: 0.2154 - accuracy: 0.9143 - val_loss: 0.3625 - val_accuracy: 0.8832\n",
            "Epoch 10/10\n",
            "625/625 [==============================] - 5s 8ms/step - loss: 0.2190 - accuracy: 0.9182 - val_loss: 0.3487 - val_accuracy: 0.8812\n",
            "782/782 [==============================] - 10s 13ms/step - loss: 0.3096 - accuracy: 0.8886\n",
            "Test acc: 0.889\n"
          ]
        }
      ],
      "source": [
        "text_vectorization.adapt(text_only_train_ds)\n",
        "\n",
        "tfidf_2gram_train_ds = train_ds.map(\n",
        "    lambda x, y: (text_vectorization(x), y),\n",
        "    num_parallel_calls=4)\n",
        "tfidf_2gram_val_ds = val_ds.map(\n",
        "    lambda x, y: (text_vectorization(x), y),\n",
        "    num_parallel_calls=4)\n",
        "tfidf_2gram_test_ds = test_ds.map(\n",
        "    lambda x, y: (text_vectorization(x), y),\n",
        "    num_parallel_calls=4)\n",
        "\n",
        "model = get_model()\n",
        "model.summary()\n",
        "callbacks = [\n",
        "    keras.callbacks.ModelCheckpoint(\"tfidf_2gram.keras\",\n",
        "                                    save_best_only=True)\n",
        "]\n",
        "model.fit(tfidf_2gram_train_ds.cache(),\n",
        "          validation_data=tfidf_2gram_val_ds.cache(),\n",
        "          epochs=10,\n",
        "          callbacks=callbacks)\n",
        "model = keras.models.load_model(\"tfidf_2gram.keras\")\n",
        "print(f\"Test acc: {model.evaluate(tfidf_2gram_test_ds)[1]:.3f}\")"
      ]
    },
    {
      "cell_type": "code",
      "execution_count": 47,
      "metadata": {
        "id": "Q5MxtlMK7uOp"
      },
      "outputs": [],
      "source": [
        "inputs = keras.Input(shape=(1,), dtype=\"string\")\n",
        "processed_inputs = text_vectorization(inputs)\n",
        "outputs = model(processed_inputs)\n",
        "inference_model = keras.Model(inputs, outputs)"
      ]
    },
    {
      "cell_type": "code",
      "execution_count": 54,
      "metadata": {
        "id": "0j006hcs7uOp",
        "outputId": "33f2cefb-86b3-4814-afec-283928283473",
        "colab": {
          "base_uri": "https://localhost:8080/"
        }
      },
      "outputs": [
        {
          "output_type": "stream",
          "name": "stdout",
          "text": [
            "97.95 percent positive\n",
            "\n",
            "[[0.9794957 ]\n",
            " [0.04802796]]\n"
          ]
        }
      ],
      "source": [
        "import tensorflow as tf\n",
        "raw_text_data = tf.convert_to_tensor([\n",
        "    [\"That was an excellent movie, I loved it.\",],\n",
        "    [\"That was a terrible move. It sucked. I hated it.\",],\n",
        "])\n",
        "# predictions = inference_model(raw_text_data)\n",
        "predictions = inference_model.predict(raw_text_data)\n",
        "print(f\"{float(predictions[0] * 100):.2f} percent positive\")\n",
        "print()\n",
        "print(predictions)"
      ]
    }
  ],
  "metadata": {
    "colab": {
      "collapsed_sections": [],
      "name": "chapter11_part01_introduction.i",
      "provenance": [],
      "toc_visible": true
    },
    "kernelspec": {
      "display_name": "Python 3",
      "language": "python",
      "name": "python3"
    },
    "language_info": {
      "codemirror_mode": {
        "name": "ipython",
        "version": 3
      },
      "file_extension": ".py",
      "mimetype": "text/x-python",
      "name": "python",
      "nbconvert_exporter": "python",
      "pygments_lexer": "ipython3",
      "version": "3.7.0"
    }
  },
  "nbformat": 4,
  "nbformat_minor": 0
}